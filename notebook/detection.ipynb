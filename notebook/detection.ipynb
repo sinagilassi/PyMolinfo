{
 "cells": [
  {
   "cell_type": "markdown",
   "metadata": {},
   "source": [
    "# Import libs"
   ]
  },
  {
   "cell_type": "code",
   "execution_count": 1,
   "metadata": {},
   "outputs": [],
   "source": [
    "import re\n",
    "from rich import print"
   ]
  },
  {
   "cell_type": "code",
   "execution_count": 2,
   "metadata": {},
   "outputs": [
    {
     "data": {
      "text/html": [
       "<pre style=\"white-space:pre;overflow-x:auto;line-height:normal;font-family:Menlo,'DejaVu Sans Mono',consolas,'Courier New',monospace\"><span style=\"color: #008080; text-decoration-color: #008080; font-weight: bold\">1.8</span>.<span style=\"color: #008080; text-decoration-color: #008080; font-weight: bold\">6</span>\n",
       "</pre>\n"
      ],
      "text/plain": [
       "\u001b[1;36m1.8\u001b[0m.\u001b[1;36m6\u001b[0m\n"
      ]
     },
     "metadata": {},
     "output_type": "display_data"
    }
   ],
   "source": [
    "import pyMolinfo as mi\n",
    "# check version\n",
    "print(mi.__version__)"
   ]
  },
  {
   "cell_type": "markdown",
   "metadata": {},
   "source": [
    "# Create Graph"
   ]
  },
  {
   "cell_type": "code",
   "execution_count": 4,
   "metadata": {},
   "outputs": [
    {
     "data": {
      "text/html": [
       "<pre style=\"white-space:pre;overflow-x:auto;line-height:normal;font-family:Menlo,'DejaVu Sans Mono',consolas,'Courier New',monospace\"><span style=\"font-weight: bold\">{</span>\n",
       "    <span style=\"color: #008000; text-decoration-color: #008000\">'my_molecule'</span>: <span style=\"font-weight: bold\">[</span>\n",
       "        <span style=\"color: #008000; text-decoration-color: #008000\">'C1-C2'</span>,\n",
       "        <span style=\"color: #008000; text-decoration-color: #008000\">'C2=C3'</span>,\n",
       "        <span style=\"color: #008000; text-decoration-color: #008000\">'C3-C4'</span>,\n",
       "        <span style=\"color: #008000; text-decoration-color: #008000\">'C4=C5'</span>,\n",
       "        <span style=\"color: #008000; text-decoration-color: #008000\">'C5-C6'</span>,\n",
       "        <span style=\"color: #008000; text-decoration-color: #008000\">'C6=C1'</span>,\n",
       "        <span style=\"color: #008000; text-decoration-color: #008000\">'C1-C7'</span>,\n",
       "        <span style=\"color: #008000; text-decoration-color: #008000\">'C10-C6'</span>,\n",
       "        <span style=\"color: #008000; text-decoration-color: #008000\">'C7=C8'</span>,\n",
       "        <span style=\"color: #008000; text-decoration-color: #008000\">'C8-C9'</span>,\n",
       "        <span style=\"color: #008000; text-decoration-color: #008000\">'C9=C10'</span>\n",
       "    <span style=\"font-weight: bold\">]</span>\n",
       "<span style=\"font-weight: bold\">}</span>\n",
       "</pre>\n"
      ],
      "text/plain": [
       "\u001b[1m{\u001b[0m\n",
       "    \u001b[32m'my_molecule'\u001b[0m: \u001b[1m[\u001b[0m\n",
       "        \u001b[32m'C1-C2'\u001b[0m,\n",
       "        \u001b[32m'\u001b[0m\u001b[32mC2\u001b[0m\u001b[32m=\u001b[0m\u001b[32mC3\u001b[0m\u001b[32m'\u001b[0m,\n",
       "        \u001b[32m'C3-C4'\u001b[0m,\n",
       "        \u001b[32m'\u001b[0m\u001b[32mC4\u001b[0m\u001b[32m=\u001b[0m\u001b[32mC5\u001b[0m\u001b[32m'\u001b[0m,\n",
       "        \u001b[32m'C5-C6'\u001b[0m,\n",
       "        \u001b[32m'\u001b[0m\u001b[32mC6\u001b[0m\u001b[32m=\u001b[0m\u001b[32mC1\u001b[0m\u001b[32m'\u001b[0m,\n",
       "        \u001b[32m'C1-C7'\u001b[0m,\n",
       "        \u001b[32m'C10-C6'\u001b[0m,\n",
       "        \u001b[32m'\u001b[0m\u001b[32mC7\u001b[0m\u001b[32m=\u001b[0m\u001b[32mC8\u001b[0m\u001b[32m'\u001b[0m,\n",
       "        \u001b[32m'C8-C9'\u001b[0m,\n",
       "        \u001b[32m'\u001b[0m\u001b[32mC9\u001b[0m\u001b[32m=\u001b[0m\u001b[32mC10\u001b[0m\u001b[32m'\u001b[0m\n",
       "    \u001b[1m]\u001b[0m\n",
       "\u001b[1m}\u001b[0m\n"
      ]
     },
     "metadata": {},
     "output_type": "display_data"
    },
    {
     "data": {
      "text/html": [
       "<pre style=\"white-space:pre;overflow-x:auto;line-height:normal;font-family:Menlo,'DejaVu Sans Mono',consolas,'Courier New',monospace\"><span style=\"font-weight: bold\">{</span>\n",
       "    <span style=\"color: #008000; text-decoration-color: #008000\">'Chain11'</span>: <span style=\"font-weight: bold\">{</span>\n",
       "        <span style=\"color: #008000; text-decoration-color: #008000\">'receiver'</span>: <span style=\"font-weight: bold\">[</span><span style=\"color: #008000; text-decoration-color: #008000\">'C1'</span>, <span style=\"color: #008000; text-decoration-color: #008000\">'C6'</span><span style=\"font-weight: bold\">]</span>,\n",
       "        <span style=\"color: #008000; text-decoration-color: #008000\">'bonds'</span>: <span style=\"font-weight: bold\">[</span><span style=\"color: #008000; text-decoration-color: #008000\">'C7=C8'</span>, <span style=\"color: #008000; text-decoration-color: #008000\">'C8-C9'</span>, <span style=\"color: #008000; text-decoration-color: #008000\">'C9=C10'</span><span style=\"font-weight: bold\">]</span>,\n",
       "        <span style=\"color: #008000; text-decoration-color: #008000\">'gate'</span>: <span style=\"font-weight: bold\">[</span><span style=\"color: #008000; text-decoration-color: #008000\">'-C7'</span>, <span style=\"color: #008000; text-decoration-color: #008000\">'C10-'</span><span style=\"font-weight: bold\">]</span>,\n",
       "        <span style=\"color: #008000; text-decoration-color: #008000\">'type'</span>: <span style=\"color: #008000; text-decoration-color: #008000\">'bridge'</span>,\n",
       "        <span style=\"color: #008000; text-decoration-color: #008000\">'connection-port'</span>: <span style=\"font-weight: bold\">{</span>\n",
       "            <span style=\"color: #008000; text-decoration-color: #008000\">'-C7'</span>: <span style=\"font-weight: bold\">{</span><span style=\"color: #008000; text-decoration-color: #008000\">'port'</span>: <span style=\"color: #008000; text-decoration-color: #008000\">'*'</span>, <span style=\"color: #008000; text-decoration-color: #008000\">'bond'</span>: <span style=\"color: #008000; text-decoration-color: #008000\">'C7'</span>, <span style=\"color: #008000; text-decoration-color: #008000\">'bond-type'</span>: <span style=\"color: #008000; text-decoration-color: #008000\">'-'</span>, <span style=\"color: #008000; text-decoration-color: #008000\">'bond-gate'</span>: <span style=\"color: #008000; text-decoration-color: #008000\">'-C7'</span><span style=\"font-weight: bold\">}</span>,\n",
       "            <span style=\"color: #008000; text-decoration-color: #008000\">'C10-'</span>: <span style=\"font-weight: bold\">{</span><span style=\"color: #008000; text-decoration-color: #008000\">'port'</span>: <span style=\"color: #008000; text-decoration-color: #008000\">'**'</span>, <span style=\"color: #008000; text-decoration-color: #008000\">'bond'</span>: <span style=\"color: #008000; text-decoration-color: #008000\">'C10'</span>, <span style=\"color: #008000; text-decoration-color: #008000\">'bond-type'</span>: <span style=\"color: #008000; text-decoration-color: #008000\">'-'</span>, <span style=\"color: #008000; text-decoration-color: #008000\">'bond-gate'</span>: <span style=\"color: #008000; text-decoration-color: #008000\">'C10-'</span><span style=\"font-weight: bold\">}</span>\n",
       "        <span style=\"font-weight: bold\">}</span>\n",
       "    <span style=\"font-weight: bold\">}</span>\n",
       "<span style=\"font-weight: bold\">}</span>\n",
       "</pre>\n"
      ],
      "text/plain": [
       "\u001b[1m{\u001b[0m\n",
       "    \u001b[32m'Chain11'\u001b[0m: \u001b[1m{\u001b[0m\n",
       "        \u001b[32m'receiver'\u001b[0m: \u001b[1m[\u001b[0m\u001b[32m'C1'\u001b[0m, \u001b[32m'C6'\u001b[0m\u001b[1m]\u001b[0m,\n",
       "        \u001b[32m'bonds'\u001b[0m: \u001b[1m[\u001b[0m\u001b[32m'\u001b[0m\u001b[32mC7\u001b[0m\u001b[32m=\u001b[0m\u001b[32mC8\u001b[0m\u001b[32m'\u001b[0m, \u001b[32m'C8-C9'\u001b[0m, \u001b[32m'\u001b[0m\u001b[32mC9\u001b[0m\u001b[32m=\u001b[0m\u001b[32mC10\u001b[0m\u001b[32m'\u001b[0m\u001b[1m]\u001b[0m,\n",
       "        \u001b[32m'gate'\u001b[0m: \u001b[1m[\u001b[0m\u001b[32m'-C7'\u001b[0m, \u001b[32m'C10-'\u001b[0m\u001b[1m]\u001b[0m,\n",
       "        \u001b[32m'type'\u001b[0m: \u001b[32m'bridge'\u001b[0m,\n",
       "        \u001b[32m'connection-port'\u001b[0m: \u001b[1m{\u001b[0m\n",
       "            \u001b[32m'-C7'\u001b[0m: \u001b[1m{\u001b[0m\u001b[32m'port'\u001b[0m: \u001b[32m'*'\u001b[0m, \u001b[32m'bond'\u001b[0m: \u001b[32m'C7'\u001b[0m, \u001b[32m'bond-type'\u001b[0m: \u001b[32m'-'\u001b[0m, \u001b[32m'bond-gate'\u001b[0m: \u001b[32m'-C7'\u001b[0m\u001b[1m}\u001b[0m,\n",
       "            \u001b[32m'C10-'\u001b[0m: \u001b[1m{\u001b[0m\u001b[32m'port'\u001b[0m: \u001b[32m'**'\u001b[0m, \u001b[32m'bond'\u001b[0m: \u001b[32m'C10'\u001b[0m, \u001b[32m'bond-type'\u001b[0m: \u001b[32m'-'\u001b[0m, \u001b[32m'bond-gate'\u001b[0m: \u001b[32m'C10-'\u001b[0m\u001b[1m}\u001b[0m\n",
       "        \u001b[1m}\u001b[0m\n",
       "    \u001b[1m}\u001b[0m\n",
       "\u001b[1m}\u001b[0m\n"
      ]
     },
     "metadata": {},
     "output_type": "display_data"
    },
    {
     "data": {
      "text/html": [
       "<pre style=\"white-space:pre;overflow-x:auto;line-height:normal;font-family:Menlo,'DejaVu Sans Mono',consolas,'Courier New',monospace\"><span style=\"font-weight: bold\">{</span>\n",
       "    <span style=\"color: #008000; text-decoration-color: #008000\">'MainChain'</span>: <span style=\"font-weight: bold\">[</span><span style=\"color: #008000; text-decoration-color: #008000\">'C1-C2'</span>, <span style=\"color: #008000; text-decoration-color: #008000\">'C2=C3'</span>, <span style=\"color: #008000; text-decoration-color: #008000\">'C3-C4'</span>, <span style=\"color: #008000; text-decoration-color: #008000\">'C4=C5'</span>, <span style=\"color: #008000; text-decoration-color: #008000\">'C5-C6'</span>, <span style=\"color: #008000; text-decoration-color: #008000\">'C6=C1'</span>, <span style=\"color: #008000; text-decoration-color: #008000\">'C1-C7'</span>, <span style=\"color: #008000; text-decoration-color: #008000\">'C10-C6'</span><span style=\"font-weight: bold\">]</span>,\n",
       "    <span style=\"color: #008000; text-decoration-color: #008000\">'Chain11'</span>: <span style=\"font-weight: bold\">[</span><span style=\"color: #008000; text-decoration-color: #008000\">'-C7'</span>, <span style=\"color: #008000; text-decoration-color: #008000\">'C7=C8'</span>, <span style=\"color: #008000; text-decoration-color: #008000\">'C8-C9'</span>, <span style=\"color: #008000; text-decoration-color: #008000\">'C9=C10'</span>, <span style=\"color: #008000; text-decoration-color: #008000\">'C10-'</span><span style=\"font-weight: bold\">]</span>\n",
       "<span style=\"font-weight: bold\">}</span>\n",
       "</pre>\n"
      ],
      "text/plain": [
       "\u001b[1m{\u001b[0m\n",
       "    \u001b[32m'MainChain'\u001b[0m: \u001b[1m[\u001b[0m\u001b[32m'C1-C2'\u001b[0m, \u001b[32m'\u001b[0m\u001b[32mC2\u001b[0m\u001b[32m=\u001b[0m\u001b[32mC3\u001b[0m\u001b[32m'\u001b[0m, \u001b[32m'C3-C4'\u001b[0m, \u001b[32m'\u001b[0m\u001b[32mC4\u001b[0m\u001b[32m=\u001b[0m\u001b[32mC5\u001b[0m\u001b[32m'\u001b[0m, \u001b[32m'C5-C6'\u001b[0m, \u001b[32m'\u001b[0m\u001b[32mC6\u001b[0m\u001b[32m=\u001b[0m\u001b[32mC1\u001b[0m\u001b[32m'\u001b[0m, \u001b[32m'C1-C7'\u001b[0m, \u001b[32m'C10-C6'\u001b[0m\u001b[1m]\u001b[0m,\n",
       "    \u001b[32m'Chain11'\u001b[0m: \u001b[1m[\u001b[0m\u001b[32m'-C7'\u001b[0m, \u001b[32m'\u001b[0m\u001b[32mC7\u001b[0m\u001b[32m=\u001b[0m\u001b[32mC8\u001b[0m\u001b[32m'\u001b[0m, \u001b[32m'C8-C9'\u001b[0m, \u001b[32m'\u001b[0m\u001b[32mC9\u001b[0m\u001b[32m=\u001b[0m\u001b[32mC10\u001b[0m\u001b[32m'\u001b[0m, \u001b[32m'C10-'\u001b[0m\u001b[1m]\u001b[0m\n",
       "\u001b[1m}\u001b[0m\n"
      ]
     },
     "metadata": {},
     "output_type": "display_data"
    },
    {
     "data": {
      "text/html": [
       "<pre style=\"white-space:pre;overflow-x:auto;line-height:normal;font-family:Menlo,'DejaVu Sans Mono',consolas,'Courier New',monospace\">molecule graph: Graph named <span style=\"color: #008000; text-decoration-color: #008000\">'my_molecule'</span> with <span style=\"color: #008080; text-decoration-color: #008080; font-weight: bold\">10</span> nodes and <span style=\"color: #008080; text-decoration-color: #008080; font-weight: bold\">11</span> edges, type: <span style=\"font-weight: bold\">&lt;</span><span style=\"color: #ff00ff; text-decoration-color: #ff00ff; font-weight: bold\">class</span><span style=\"color: #000000; text-decoration-color: #000000\"> </span><span style=\"color: #008000; text-decoration-color: #008000\">'networkx.classes.graph.Graph'</span><span style=\"font-weight: bold\">&gt;</span>\n",
       "</pre>\n"
      ],
      "text/plain": [
       "molecule graph: Graph named \u001b[32m'my_molecule'\u001b[0m with \u001b[1;36m10\u001b[0m nodes and \u001b[1;36m11\u001b[0m edges, type: \u001b[1m<\u001b[0m\u001b[1;95mclass\u001b[0m\u001b[39m \u001b[0m\u001b[32m'networkx.classes.graph.Graph'\u001b[0m\u001b[1m>\u001b[0m\n"
      ]
     },
     "metadata": {},
     "output_type": "display_data"
    },
    {
     "ename": "AttributeError",
     "evalue": "'Graph' object has no attribute 'd'",
     "output_type": "error",
     "traceback": [
      "\u001b[31m---------------------------------------------------------------------------\u001b[39m",
      "\u001b[31mAttributeError\u001b[39m                            Traceback (most recent call last)",
      "\u001b[36mCell\u001b[39m\u001b[36m \u001b[39m\u001b[32mIn[4]\u001b[39m\u001b[32m, line 75\u001b[39m\n\u001b[32m     72\u001b[39m \u001b[38;5;28mprint\u001b[39m(\u001b[33mf\u001b[39m\u001b[33m\"\u001b[39m\u001b[33mmolecule graph: \u001b[39m\u001b[38;5;132;01m{\u001b[39;00mmol_graph\u001b[38;5;132;01m}\u001b[39;00m\u001b[33m, type: \u001b[39m\u001b[38;5;132;01m{\u001b[39;00m\u001b[38;5;28mtype\u001b[39m(mol_graph)\u001b[38;5;132;01m}\u001b[39;00m\u001b[33m\"\u001b[39m)\n\u001b[32m     74\u001b[39m \u001b[38;5;66;03m# display molecule graph\u001b[39;00m\n\u001b[32m---> \u001b[39m\u001b[32m75\u001b[39m \u001b[43mmol_graph\u001b[49m\u001b[43m.\u001b[49m\u001b[43md\u001b[49m(\u001b[33m\"\u001b[39m\u001b[33mmy_molecule\u001b[39m\u001b[33m\"\u001b[39m)\n",
      "\u001b[31mAttributeError\u001b[39m: 'Graph' object has no attribute 'd'"
     ]
    }
   ],
   "source": [
    "# ================================\n",
    "# ! CREATE MOLECULE GRAPH\n",
    "# ================================\n",
    "\n",
    "molecule_src = {\n",
    "    'MainChain': [\"C1-C2\", \"C2=C3\", \"C3-C4\", \"C3*{Chain1}\", \"C4=C5\", \"C5*{Chain1}\", \"C5-C6\", \"C6=C1\", \"C6*{Chain2}\"],\n",
    "    'Chain1': [\"C1=C2\", \"C2-C3\", \"C3=*\"],\n",
    "    'Chain2': [\"*-C1\", \"C1=C2\", \"C2-XX3\"]\n",
    "}\n",
    "\n",
    "molecule_src = {\n",
    "    'MainChain': [\"C1*{Chain1}\", \"C1-C2\", \"C2*{Chain2}\"],\n",
    "    'Chain1': [\"*-C1\", \"C1=C2\", \"C2-C3\", \"C3=C4\", \"C4-C5\", \"C5=*\"],\n",
    "    'Chain2': [\"*-C1\", \"C1=C2\", \"C2-C3\", \"C3=C4\", \"C4-C5\", \"C5=*\"],\n",
    "}\n",
    "\n",
    "molecule_src = {\n",
    "    'MainChain': [\"C1*{Chain1}\", \"C1-H2\"],\n",
    "    'Chain1': [\"*=C1\", \"C1-C2\", \"C2=C3\", \"C3-C4\", \"C4=C5\", \"C5-*\"],\n",
    "}\n",
    "\n",
    "molecule_src = {\n",
    "    'MainChain': [\"C1*{Chain1}\", \"C1-C2\", \"C2=XX3\"],\n",
    "    'Chain1': [\"*=C1\", \"C1-C2\", \"C2=C3\", \"C3-C4\", \"C4=C5\", \"C5-*\"],\n",
    "}\n",
    "\n",
    "molecule_src = {\n",
    "    'MainChain': [\"C1*{Chain1}\", \"C1-C2\", \"C2*{Chain2}\"],\n",
    "    'Chain1': [\"*=C1\", \"C1-C2\", \"C2=C3\", \"C3-C4\", \"C4=C5\", \"C5-*\"],\n",
    "    'Chain2': [\"*=C1\", \"C1-C2\", \"C2=C3\", \"C3-C4\", \"C4=C5\", \"C5-*\"],\n",
    "}\n",
    "\n",
    "molecule_src = {\n",
    "    'MainChain': [\"C1-H2\", \"C1-H3\", \"C1-C4\", \"C4*{Chain1}\"],\n",
    "    'Chain1': [\"*=C1\", \"C1-C2\", \"C2=C3\", \"C3-C4\", \"C4=C5\", \"C5-*\"],\n",
    "}\n",
    "\n",
    "molecule_src = {\n",
    "    'MainChain': [\"C1-H2\", \"C1-H3\", \"C1-C4\", \"C1-C5\", \"C4*{Chain1}\", \"C5*{Chain2}\"],\n",
    "    'Chain1': [\"*=C1\", \"C1-C2\", \"C2=C3\", \"C3-C4\", \"C4=C5\", \"C5-*\"],\n",
    "    'Chain2': [\"*=C1\", \"C1-C2\", \"C2=C3\", \"C3-C4\", \"C4=C5\", \"C5-*\"],\n",
    "}\n",
    "\n",
    "molecule_src = {\n",
    "    'MainChain': [\"C1-H2\", \"C1-C3\", \"C1-C4\", \"C1-C5\", \"C3*{Chain1}\", \"C4*{Chain2}\", \"C5*{Chain3}\"],\n",
    "    'Chain1': [\"*=C1\", \"C1-C2\", \"C2=C3\", \"C3-C4\", \"C4=C5\", \"C5-*\"],\n",
    "    'Chain2': [\"*=C1\", \"C1-C2\", \"C2=C3\", \"C3-C4\", \"C4=C5\", \"C5-*\"],\n",
    "    'Chain3': [\"*=C1\", \"C1-C2\", \"C2=C3\", \"C3-C4\", \"C4=C5\", \"C5-*\"],\n",
    "}\n",
    "\n",
    "# naphthalene\n",
    "molecule_src = {\n",
    "    'MainChain': [\"C1-C2\", \"C2=C3\", \"C3-C4\", \"C4=C5\", \"C5-C6\", \"C6=C1\", \"C1*{Chain1}\", \"C6*{Chain1}\"],\n",
    "    'Chain1': [\"*-C1\", \"C1=C2\", \"C2-C3\", \"C3=C4\", \"C4-**\"],\n",
    "}\n",
    "\n",
    "\n",
    "# NOTE: create a molecule\n",
    "mol_ = mi.generate_molecule(molecule_src, molecule_name='my_molecule')\n",
    "# construct molecule\n",
    "constructed_molecule = mol_.constructed_molecules\n",
    "print(constructed_molecule)\n",
    "# main chain\n",
    "chain_info = mol_.chain_info\n",
    "print(chain_info)\n",
    "# molecule info\n",
    "molecule = mol_.molecule\n",
    "print(molecule)\n",
    "\n",
    "# NOTE: create a molecule graph\n",
    "mol_graph = mol_.create_graph()\n",
    "print(f\"molecule graph: {mol_graph}, type: {type(mol_graph)}\")\n",
    "\n",
    "# display molecule graph\n",
    "mol_graph.d(\"my_molecule\")"
   ]
  }
 ],
 "metadata": {
  "kernelspec": {
   "display_name": ".venv",
   "language": "python",
   "name": "python3"
  },
  "language_info": {
   "codemirror_mode": {
    "name": "ipython",
    "version": 3
   },
   "file_extension": ".py",
   "mimetype": "text/x-python",
   "name": "python",
   "nbconvert_exporter": "python",
   "pygments_lexer": "ipython3",
   "version": "3.11.8"
  }
 },
 "nbformat": 4,
 "nbformat_minor": 2
}
