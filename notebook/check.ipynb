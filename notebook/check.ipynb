{
 "cells": [
  {
   "cell_type": "markdown",
   "metadata": {},
   "source": [
    "# Import libs"
   ]
  },
  {
   "cell_type": "code",
   "execution_count": 3,
   "metadata": {},
   "outputs": [],
   "source": [
    "import re\n",
    "import os\n",
    "from rich import print"
   ]
  },
  {
   "cell_type": "code",
   "execution_count": 2,
   "metadata": {},
   "outputs": [
    {
     "data": {
      "text/html": [
       "<pre style=\"white-space:pre;overflow-x:auto;line-height:normal;font-family:Menlo,'DejaVu Sans Mono',consolas,'Courier New',monospace\"><span style=\"color: #008080; text-decoration-color: #008080; font-weight: bold\">1.8</span>.<span style=\"color: #008080; text-decoration-color: #008080; font-weight: bold\">8</span>\n",
       "</pre>\n"
      ],
      "text/plain": [
       "\u001b[1;36m1.8\u001b[0m.\u001b[1;36m8\u001b[0m\n"
      ]
     },
     "metadata": {},
     "output_type": "display_data"
    }
   ],
   "source": [
    "import pyMolinfo as mi\n",
    "# check version\n",
    "print(mi.__version__)"
   ]
  },
  {
   "cell_type": "markdown",
   "metadata": {},
   "source": [
    "# Molecules (`sdf files`)"
   ]
  },
  {
   "cell_type": "code",
   "execution_count": 16,
   "metadata": {},
   "outputs": [
    {
     "data": {
      "text/html": [
       "<pre style=\"white-space:pre;overflow-x:auto;line-height:normal;font-family:Menlo,'DejaVu Sans Mono',consolas,'Courier New',monospace\">..<span style=\"color: #800080; text-decoration-color: #800080\">/test/</span><span style=\"color: #ff00ff; text-decoration-color: #ff00ff\">Conformer3D_COMPOUND_CID_241.sdf</span>\n",
       "</pre>\n"
      ],
      "text/plain": [
       "..\u001b[35m/test/\u001b[0m\u001b[95mConformer3D_COMPOUND_CID_241.sdf\u001b[0m\n"
      ]
     },
     "metadata": {},
     "output_type": "display_data"
    }
   ],
   "source": [
    "# sdf file\n",
    "# Methanol\n",
    "# Conformer3D_COMPOUND_CID_887\n",
    "# Benzene\n",
    "# Conformer3D_COMPOUND_CID_241\n",
    "# Glycol Dimethacrylate\n",
    "# Conformer3D_COMPOUND_CID_7355\n",
    "# 2-(2-Methoxyethoxy)ethanol\n",
    "# Conformer3D_COMPOUND_CID_8134\n",
    "# Bromobenzyl cyanide\n",
    "# Conformer3D_COMPOUND_CID_22044\n",
    "# Amineptine\n",
    "# Conformer3D_COMPOUND_CID_34870\n",
    "# Amidephrine\n",
    "# Conformer3D_COMPOUND_CID_15010\n",
    "# N,N-Dimethylformamide\n",
    "# Conformer3D_COMPOUND_CID_6228\n",
    "# Acetanilide\n",
    "# Conformer3D_COMPOUND_CID_904\n",
    "# Ascorbic Acid\n",
    "# Conformer3D_COMPOUND_CID_54670067\n",
    "# Malathion\n",
    "# Conformer3D_COMPOUND_CID_4004\n",
    "# Benzbromarone\n",
    "# Structure2D_COMPOUND_CID_2333\n",
    "# Butyraldehyde\n",
    "# Structure2D_COMPOUND_CID_261\n",
    "# Ethinyl Estradiol\n",
    "# Conformer3D_COMPOUND_CID_5991.sdf\n",
    "sdf_file_name = 'Conformer3D_COMPOUND_CID_241.sdf'\n",
    "sdf_file = f\"../test/{sdf_file_name}\"\n",
    "print(sdf_file)"
   ]
  },
  {
   "cell_type": "markdown",
   "metadata": {},
   "source": [
    "# Graph"
   ]
  },
  {
   "cell_type": "code",
   "execution_count": 17,
   "metadata": {},
   "outputs": [
    {
     "data": {
      "text/html": [
       "<pre style=\"white-space:pre;overflow-x:auto;line-height:normal;font-family:Menlo,'DejaVu Sans Mono',consolas,'Courier New',monospace\"><span style=\"font-weight: bold\">&lt;</span><span style=\"color: #ff00ff; text-decoration-color: #ff00ff; font-weight: bold\">class</span><span style=\"color: #000000; text-decoration-color: #000000\"> </span><span style=\"color: #008000; text-decoration-color: #008000\">'networkx.classes.graph.Graph'</span><span style=\"font-weight: bold\">&gt;</span>\n",
       "</pre>\n"
      ],
      "text/plain": [
       "\u001b[1m<\u001b[0m\u001b[1;95mclass\u001b[0m\u001b[39m \u001b[0m\u001b[32m'networkx.classes.graph.Graph'\u001b[0m\u001b[1m>\u001b[0m\n"
      ]
     },
     "metadata": {},
     "output_type": "display_data"
    },
    {
     "data": {
      "text/html": [
       "<pre style=\"white-space:pre;overflow-x:auto;line-height:normal;font-family:Menlo,'DejaVu Sans Mono',consolas,'Courier New',monospace\">Graph named <span style=\"color: #008000; text-decoration-color: #008000\">'Conformer3D_COMPOUND_CID_241.sdf'</span> with <span style=\"color: #008080; text-decoration-color: #008080; font-weight: bold\">12</span> nodes and <span style=\"color: #008080; text-decoration-color: #008080; font-weight: bold\">12</span> edges\n",
       "</pre>\n"
      ],
      "text/plain": [
       "Graph named \u001b[32m'Conformer3D_COMPOUND_CID_241.sdf'\u001b[0m with \u001b[1;36m12\u001b[0m nodes and \u001b[1;36m12\u001b[0m edges\n"
      ]
     },
     "metadata": {},
     "output_type": "display_data"
    }
   ],
   "source": [
    "# NOTE: create graph\n",
    "res = mi.create_graph(sdf_file, graph_name=sdf_file_name)\n",
    "print(type(res))\n",
    "print(res)"
   ]
  },
  {
   "cell_type": "code",
   "execution_count": null,
   "metadata": {},
   "outputs": [],
   "source": [
    "# display graph\n",
    "mi.display_graph(res, graph_name=sdf_file_name)"
   ]
  }
 ],
 "metadata": {
  "kernelspec": {
   "display_name": ".venv",
   "language": "python",
   "name": "python3"
  },
  "language_info": {
   "codemirror_mode": {
    "name": "ipython",
    "version": 3
   },
   "file_extension": ".py",
   "mimetype": "text/x-python",
   "name": "python",
   "nbconvert_exporter": "python",
   "pygments_lexer": "ipython3",
   "version": "3.11.8"
  }
 },
 "nbformat": 4,
 "nbformat_minor": 2
}
