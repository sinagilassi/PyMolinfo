{
 "cells": [
  {
   "cell_type": "markdown",
   "metadata": {},
   "source": [
    "# Import libs"
   ]
  },
  {
   "cell_type": "code",
   "execution_count": 9,
   "metadata": {},
   "outputs": [],
   "source": [
    "import re\n",
    "import os\n",
    "from rich import print\n",
    "import networkx as nx\n",
    "%matplotlib ipympl\n",
    "import matplotlib.pyplot as plt\n",
    "from mpl_toolkits.mplot3d import Axes3D\n",
    "from networkx.algorithms import isomorphism\n",
    "# plotly\n",
    "import plotly.graph_objects as go"
   ]
  },
  {
   "cell_type": "code",
   "execution_count": 10,
   "metadata": {},
   "outputs": [
    {
     "data": {
      "text/html": [
       "<pre style=\"white-space:pre;overflow-x:auto;line-height:normal;font-family:Menlo,'DejaVu Sans Mono',consolas,'Courier New',monospace\"><span style=\"color: #008080; text-decoration-color: #008080; font-weight: bold\">1.8</span>.<span style=\"color: #008080; text-decoration-color: #008080; font-weight: bold\">9</span>\n",
       "</pre>\n"
      ],
      "text/plain": [
       "\u001b[1;36m1.8\u001b[0m.\u001b[1;36m9\u001b[0m\n"
      ]
     },
     "metadata": {},
     "output_type": "display_data"
    }
   ],
   "source": [
    "import pyMolinfo as mi\n",
    "# check version\n",
    "print(mi.__version__)"
   ]
  },
  {
   "cell_type": "markdown",
   "metadata": {},
   "source": [
    "# Molecules (`sdf files`)"
   ]
  },
  {
   "cell_type": "code",
   "execution_count": 11,
   "metadata": {},
   "outputs": [
    {
     "data": {
      "text/html": [
       "<pre style=\"white-space:pre;overflow-x:auto;line-height:normal;font-family:Menlo,'DejaVu Sans Mono',consolas,'Courier New',monospace\">..<span style=\"color: #800080; text-decoration-color: #800080\">/test/</span><span style=\"color: #ff00ff; text-decoration-color: #ff00ff\">Conformer3D_COMPOUND_CID_241.sdf</span>\n",
       "</pre>\n"
      ],
      "text/plain": [
       "..\u001b[35m/test/\u001b[0m\u001b[95mConformer3D_COMPOUND_CID_241.sdf\u001b[0m\n"
      ]
     },
     "metadata": {},
     "output_type": "display_data"
    }
   ],
   "source": [
    "# sdf file\n",
    "# Methanol\n",
    "# Conformer3D_COMPOUND_CID_887\n",
    "# Benzene\n",
    "# Conformer3D_COMPOUND_CID_241\n",
    "# Glycol Dimethacrylate\n",
    "# Conformer3D_COMPOUND_CID_7355\n",
    "# 2-(2-Methoxyethoxy)ethanol\n",
    "# Conformer3D_COMPOUND_CID_8134\n",
    "# Bromobenzyl cyanide\n",
    "# Conformer3D_COMPOUND_CID_22044\n",
    "# Amineptine\n",
    "# Conformer3D_COMPOUND_CID_34870\n",
    "# Amidephrine\n",
    "# Conformer3D_COMPOUND_CID_15010\n",
    "# N,N-Dimethylformamide\n",
    "# Conformer3D_COMPOUND_CID_6228\n",
    "# Acetanilide\n",
    "# Conformer3D_COMPOUND_CID_904\n",
    "# Ascorbic Acid\n",
    "# Conformer3D_COMPOUND_CID_54670067\n",
    "# Malathion\n",
    "# Conformer3D_COMPOUND_CID_4004\n",
    "# Benzbromarone\n",
    "# Structure2D_COMPOUND_CID_2333\n",
    "# Butyraldehyde\n",
    "# Structure2D_COMPOUND_CID_261\n",
    "# Ethinyl Estradiol\n",
    "# Conformer3D_COMPOUND_CID_5991.sdf\n",
    "sdf_file_name = 'Conformer3D_COMPOUND_CID_241.sdf'\n",
    "sdf_file = f\"../test/{sdf_file_name}\"\n",
    "print(sdf_file)"
   ]
  },
  {
   "cell_type": "markdown",
   "metadata": {},
   "source": [
    "# Graph"
   ]
  },
  {
   "cell_type": "code",
   "execution_count": 12,
   "metadata": {},
   "outputs": [
    {
     "data": {
      "text/html": [
       "<pre style=\"white-space:pre;overflow-x:auto;line-height:normal;font-family:Menlo,'DejaVu Sans Mono',consolas,'Courier New',monospace\"><span style=\"font-weight: bold\">&lt;</span><span style=\"color: #ff00ff; text-decoration-color: #ff00ff; font-weight: bold\">class</span><span style=\"color: #000000; text-decoration-color: #000000\"> </span><span style=\"color: #008000; text-decoration-color: #008000\">'networkx.classes.graph.Graph'</span><span style=\"font-weight: bold\">&gt;</span>\n",
       "</pre>\n"
      ],
      "text/plain": [
       "\u001b[1m<\u001b[0m\u001b[1;95mclass\u001b[0m\u001b[39m \u001b[0m\u001b[32m'networkx.classes.graph.Graph'\u001b[0m\u001b[1m>\u001b[0m\n"
      ]
     },
     "metadata": {},
     "output_type": "display_data"
    },
    {
     "data": {
      "text/html": [
       "<pre style=\"white-space:pre;overflow-x:auto;line-height:normal;font-family:Menlo,'DejaVu Sans Mono',consolas,'Courier New',monospace\">Graph named <span style=\"color: #008000; text-decoration-color: #008000\">'Conformer3D_COMPOUND_CID_241.sdf'</span> with <span style=\"color: #008080; text-decoration-color: #008080; font-weight: bold\">12</span> nodes and <span style=\"color: #008080; text-decoration-color: #008080; font-weight: bold\">12</span> edges\n",
       "</pre>\n"
      ],
      "text/plain": [
       "Graph named \u001b[32m'Conformer3D_COMPOUND_CID_241.sdf'\u001b[0m with \u001b[1;36m12\u001b[0m nodes and \u001b[1;36m12\u001b[0m edges\n"
      ]
     },
     "metadata": {},
     "output_type": "display_data"
    }
   ],
   "source": [
    "# NOTE: create graph\n",
    "graph1 = mi.create_graph(sdf_file, graph_name=sdf_file_name)\n",
    "print(type(graph1))\n",
    "print(graph1)"
   ]
  },
  {
   "cell_type": "code",
   "execution_count": 14,
   "metadata": {},
   "outputs": [
    {
     "data": {
      "application/vnd.plotly.v1+json": {
       "config": {
        "displayModeBar": true,
        "displaylogo": true,
        "modeBarButtonsToRemove": [
         "zoom2d",
         "zoomIn2d",
         "zoomOut2d",
         "pan2d"
        ],
        "plotlyServerURL": "https://plot.ly",
        "scrollZoom": true
       },
       "data": [
        {
         "hoverinfo": "all",
         "hoverlabel": {
          "bgcolor": "#ffffff"
         },
         "hovertext": [
          "Element: C1"
         ],
         "marker": {
          "color": "#BCBCBC",
          "line": {
           "color": "black",
           "width": 2
          },
          "size": 10,
          "sizemode": "area",
          "sizeref": 1
         },
         "mode": "markers+text",
         "text": [
          "C1"
         ],
         "textfont": {
          "color": "black"
         },
         "type": "scatter3d",
         "x": [
          -1.2131
         ],
         "y": [
          -0.6884
         ],
         "z": [
          0
         ]
        },
        {
         "hoverinfo": "all",
         "hoverlabel": {
          "bgcolor": "#ffffff"
         },
         "hovertext": [
          "Element: C2"
         ],
         "marker": {
          "color": "#BCBCBC",
          "line": {
           "color": "black",
           "width": 2
          },
          "size": 10,
          "sizemode": "area",
          "sizeref": 1
         },
         "mode": "markers+text",
         "text": [
          "C2"
         ],
         "textfont": {
          "color": "black"
         },
         "type": "scatter3d",
         "x": [
          -1.2028
         ],
         "y": [
          0.7064
         ],
         "z": [
          0.0001
         ]
        },
        {
         "hoverinfo": "all",
         "hoverlabel": {
          "bgcolor": "#ffffff"
         },
         "hovertext": [
          "Element: C3"
         ],
         "marker": {
          "color": "#BCBCBC",
          "line": {
           "color": "black",
           "width": 2
          },
          "size": 10,
          "sizemode": "area",
          "sizeref": 1
         },
         "mode": "markers+text",
         "text": [
          "C3"
         ],
         "textfont": {
          "color": "black"
         },
         "type": "scatter3d",
         "x": [
          -0.0103
         ],
         "y": [
          -1.3948
         ],
         "z": [
          0
         ]
        },
        {
         "hoverinfo": "all",
         "hoverlabel": {
          "bgcolor": "#ffffff"
         },
         "hovertext": [
          "Element: C4"
         ],
         "marker": {
          "color": "#BCBCBC",
          "line": {
           "color": "black",
           "width": 2
          },
          "size": 10,
          "sizemode": "area",
          "sizeref": 1
         },
         "mode": "markers+text",
         "text": [
          "C4"
         ],
         "textfont": {
          "color": "black"
         },
         "type": "scatter3d",
         "x": [
          0.0104
         ],
         "y": [
          1.3948
         ],
         "z": [
          -0.0001
         ]
        },
        {
         "hoverinfo": "all",
         "hoverlabel": {
          "bgcolor": "#ffffff"
         },
         "hovertext": [
          "Element: C5"
         ],
         "marker": {
          "color": "#BCBCBC",
          "line": {
           "color": "black",
           "width": 2
          },
          "size": 10,
          "sizemode": "area",
          "sizeref": 1
         },
         "mode": "markers+text",
         "text": [
          "C5"
         ],
         "textfont": {
          "color": "black"
         },
         "type": "scatter3d",
         "x": [
          1.2028
         ],
         "y": [
          -0.7063
         ],
         "z": [
          0
         ]
        },
        {
         "hoverinfo": "all",
         "hoverlabel": {
          "bgcolor": "#ffffff"
         },
         "hovertext": [
          "Element: C6"
         ],
         "marker": {
          "color": "#BCBCBC",
          "line": {
           "color": "black",
           "width": 2
          },
          "size": 10,
          "sizemode": "area",
          "sizeref": 1
         },
         "mode": "markers+text",
         "text": [
          "C6"
         ],
         "textfont": {
          "color": "black"
         },
         "type": "scatter3d",
         "x": [
          1.2131
         ],
         "y": [
          0.6884
         ],
         "z": [
          0
         ]
        },
        {
         "hoverinfo": "all",
         "hoverlabel": {
          "bgcolor": "#ffffff"
         },
         "hovertext": [
          "Element: H7"
         ],
         "marker": {
          "color": "#ffffff",
          "line": {
           "color": "black",
           "width": 2
          },
          "size": 10,
          "sizemode": "area",
          "sizeref": 1
         },
         "mode": "markers+text",
         "text": [
          "H7"
         ],
         "textfont": {
          "color": "black"
         },
         "type": "scatter3d",
         "x": [
          -2.1577
         ],
         "y": [
          -1.2244
         ],
         "z": [
          0
         ]
        },
        {
         "hoverinfo": "all",
         "hoverlabel": {
          "bgcolor": "#ffffff"
         },
         "hovertext": [
          "Element: H8"
         ],
         "marker": {
          "color": "#ffffff",
          "line": {
           "color": "black",
           "width": 2
          },
          "size": 10,
          "sizemode": "area",
          "sizeref": 1
         },
         "mode": "markers+text",
         "text": [
          "H8"
         ],
         "textfont": {
          "color": "black"
         },
         "type": "scatter3d",
         "x": [
          -2.1393
         ],
         "y": [
          1.2564
         ],
         "z": [
          0.0001
         ]
        },
        {
         "hoverinfo": "all",
         "hoverlabel": {
          "bgcolor": "#ffffff"
         },
         "hovertext": [
          "Element: H9"
         ],
         "marker": {
          "color": "#ffffff",
          "line": {
           "color": "black",
           "width": 2
          },
          "size": 10,
          "sizemode": "area",
          "sizeref": 1
         },
         "mode": "markers+text",
         "text": [
          "H9"
         ],
         "textfont": {
          "color": "black"
         },
         "type": "scatter3d",
         "x": [
          -0.0184
         ],
         "y": [
          -2.4809
         ],
         "z": [
          -0.0001
         ]
        },
        {
         "hoverinfo": "all",
         "hoverlabel": {
          "bgcolor": "#ffffff"
         },
         "hovertext": [
          "Element: H10"
         ],
         "marker": {
          "color": "#ffffff",
          "line": {
           "color": "black",
           "width": 2
          },
          "size": 10,
          "sizemode": "area",
          "sizeref": 1
         },
         "mode": "markers+text",
         "text": [
          "H10"
         ],
         "textfont": {
          "color": "black"
         },
         "type": "scatter3d",
         "x": [
          0.0184
         ],
         "y": [
          2.4808
         ],
         "z": [
          0
         ]
        },
        {
         "hoverinfo": "all",
         "hoverlabel": {
          "bgcolor": "#ffffff"
         },
         "hovertext": [
          "Element: H11"
         ],
         "marker": {
          "color": "#ffffff",
          "line": {
           "color": "black",
           "width": 2
          },
          "size": 10,
          "sizemode": "area",
          "sizeref": 1
         },
         "mode": "markers+text",
         "text": [
          "H11"
         ],
         "textfont": {
          "color": "black"
         },
         "type": "scatter3d",
         "x": [
          2.1394
         ],
         "y": [
          -1.2563
         ],
         "z": [
          0.0001
         ]
        },
        {
         "hoverinfo": "all",
         "hoverlabel": {
          "bgcolor": "#ffffff"
         },
         "hovertext": [
          "Element: H12"
         ],
         "marker": {
          "color": "#ffffff",
          "line": {
           "color": "black",
           "width": 2
          },
          "size": 10,
          "sizemode": "area",
          "sizeref": 1
         },
         "mode": "markers+text",
         "text": [
          "H12"
         ],
         "textfont": {
          "color": "black"
         },
         "type": "scatter3d",
         "x": [
          2.1577
         ],
         "y": [
          1.2245
         ],
         "z": [
          0
         ]
        },
        {
         "hoverinfo": "none",
         "line": {
          "color": "#EF476F",
          "width": 3
         },
         "mode": "lines",
         "name": "CC",
         "showlegend": true,
         "textfont": {
          "color": "black"
         },
         "type": "scatter3d",
         "x": [
          -1.2131,
          -1.2028
         ],
         "y": [
          -0.6884,
          0.7064
         ],
         "z": [
          0,
          0.0001
         ]
        },
        {
         "hoverinfo": "text",
         "hoverlabel": {
          "bgcolor": "#ffffff",
          "namelength": -1
         },
         "hovertext": [
          "A double bond with a length of 1.395"
         ],
         "mode": "text",
         "text": [
          ""
         ],
         "textfont": {
          "color": "black"
         },
         "type": "scatter3d",
         "x": [
          -1.20795
         ],
         "y": [
          0.009000000000000008
         ],
         "z": [
          0.00005
         ]
        },
        {
         "hoverinfo": "none",
         "line": {
          "color": "#1B263B",
          "width": 3
         },
         "mode": "lines",
         "name": "CC",
         "showlegend": true,
         "textfont": {
          "color": "black"
         },
         "type": "scatter3d",
         "x": [
          -1.2131,
          -0.0103
         ],
         "y": [
          -0.6884,
          -1.3948
         ],
         "z": [
          0,
          0
         ]
        },
        {
         "hoverinfo": "text",
         "hoverlabel": {
          "bgcolor": "#ffffff",
          "namelength": -1
         },
         "hovertext": [
          "A single bond with a length of 1.395"
         ],
         "mode": "text",
         "text": [
          ""
         ],
         "textfont": {
          "color": "black"
         },
         "type": "scatter3d",
         "x": [
          -0.6117
         ],
         "y": [
          -1.0416
         ],
         "z": [
          0
         ]
        },
        {
         "hoverinfo": "none",
         "line": {
          "color": "#1B263B",
          "width": 3
         },
         "mode": "lines",
         "name": "CH",
         "showlegend": true,
         "textfont": {
          "color": "black"
         },
         "type": "scatter3d",
         "x": [
          -1.2131,
          -2.1577
         ],
         "y": [
          -0.6884,
          -1.2244
         ],
         "z": [
          0,
          0
         ]
        },
        {
         "hoverinfo": "text",
         "hoverlabel": {
          "bgcolor": "#ffffff",
          "namelength": -1
         },
         "hovertext": [
          "A single bond with a length of 1.086"
         ],
         "mode": "text",
         "text": [
          ""
         ],
         "textfont": {
          "color": "black"
         },
         "type": "scatter3d",
         "x": [
          -1.6854
         ],
         "y": [
          -0.9563999999999999
         ],
         "z": [
          0
         ]
        },
        {
         "hoverinfo": "none",
         "line": {
          "color": "#1B263B",
          "width": 3
         },
         "mode": "lines",
         "name": "CC",
         "showlegend": true,
         "textfont": {
          "color": "black"
         },
         "type": "scatter3d",
         "x": [
          -1.2028,
          0.0104
         ],
         "y": [
          0.7064,
          1.3948
         ],
         "z": [
          0.0001,
          -0.0001
         ]
        },
        {
         "hoverinfo": "text",
         "hoverlabel": {
          "bgcolor": "#ffffff",
          "namelength": -1
         },
         "hovertext": [
          "A single bond with a length of 1.395"
         ],
         "mode": "text",
         "text": [
          ""
         ],
         "textfont": {
          "color": "black"
         },
         "type": "scatter3d",
         "x": [
          -0.5962000000000001
         ],
         "y": [
          1.0506
         ],
         "z": [
          0
         ]
        },
        {
         "hoverinfo": "none",
         "line": {
          "color": "#1B263B",
          "width": 3
         },
         "mode": "lines",
         "name": "CH",
         "showlegend": true,
         "textfont": {
          "color": "black"
         },
         "type": "scatter3d",
         "x": [
          -1.2028,
          -2.1393
         ],
         "y": [
          0.7064,
          1.2564
         ],
         "z": [
          0.0001,
          0.0001
         ]
        },
        {
         "hoverinfo": "text",
         "hoverlabel": {
          "bgcolor": "#ffffff",
          "namelength": -1
         },
         "hovertext": [
          "A single bond with a length of 1.086"
         ],
         "mode": "text",
         "text": [
          ""
         ],
         "textfont": {
          "color": "black"
         },
         "type": "scatter3d",
         "x": [
          -1.6710500000000001
         ],
         "y": [
          0.9814
         ],
         "z": [
          0.0001
         ]
        },
        {
         "hoverinfo": "none",
         "line": {
          "color": "#EF476F",
          "width": 3
         },
         "mode": "lines",
         "name": "CC",
         "showlegend": true,
         "textfont": {
          "color": "black"
         },
         "type": "scatter3d",
         "x": [
          -0.0103,
          1.2028
         ],
         "y": [
          -1.3948,
          -0.7063
         ],
         "z": [
          0,
          0
         ]
        },
        {
         "hoverinfo": "text",
         "hoverlabel": {
          "bgcolor": "#ffffff",
          "namelength": -1
         },
         "hovertext": [
          "A double bond with a length of 1.395"
         ],
         "mode": "text",
         "text": [
          ""
         ],
         "textfont": {
          "color": "black"
         },
         "type": "scatter3d",
         "x": [
          0.5962500000000001
         ],
         "y": [
          -1.05055
         ],
         "z": [
          0
         ]
        },
        {
         "hoverinfo": "none",
         "line": {
          "color": "#1B263B",
          "width": 3
         },
         "mode": "lines",
         "name": "CH",
         "showlegend": true,
         "textfont": {
          "color": "black"
         },
         "type": "scatter3d",
         "x": [
          -0.0103,
          -0.0184
         ],
         "y": [
          -1.3948,
          -2.4809
         ],
         "z": [
          0,
          -0.0001
         ]
        },
        {
         "hoverinfo": "text",
         "hoverlabel": {
          "bgcolor": "#ffffff",
          "namelength": -1
         },
         "hovertext": [
          "A single bond with a length of 1.086"
         ],
         "mode": "text",
         "text": [
          ""
         ],
         "textfont": {
          "color": "black"
         },
         "type": "scatter3d",
         "x": [
          -0.01435
         ],
         "y": [
          -1.93785
         ],
         "z": [
          -0.00005
         ]
        },
        {
         "hoverinfo": "none",
         "line": {
          "color": "#EF476F",
          "width": 3
         },
         "mode": "lines",
         "name": "CC",
         "showlegend": true,
         "textfont": {
          "color": "black"
         },
         "type": "scatter3d",
         "x": [
          0.0104,
          1.2131
         ],
         "y": [
          1.3948,
          0.6884
         ],
         "z": [
          -0.0001,
          0
         ]
        },
        {
         "hoverinfo": "text",
         "hoverlabel": {
          "bgcolor": "#ffffff",
          "namelength": -1
         },
         "hovertext": [
          "A double bond with a length of 1.395"
         ],
         "mode": "text",
         "text": [
          ""
         ],
         "textfont": {
          "color": "black"
         },
         "type": "scatter3d",
         "x": [
          0.61175
         ],
         "y": [
          1.0416
         ],
         "z": [
          -0.00005
         ]
        },
        {
         "hoverinfo": "none",
         "line": {
          "color": "#1B263B",
          "width": 3
         },
         "mode": "lines",
         "name": "CH",
         "showlegend": true,
         "textfont": {
          "color": "black"
         },
         "type": "scatter3d",
         "x": [
          0.0104,
          0.0184
         ],
         "y": [
          1.3948,
          2.4808
         ],
         "z": [
          -0.0001,
          0
         ]
        },
        {
         "hoverinfo": "text",
         "hoverlabel": {
          "bgcolor": "#ffffff",
          "namelength": -1
         },
         "hovertext": [
          "A single bond with a length of 1.086"
         ],
         "mode": "text",
         "text": [
          ""
         ],
         "textfont": {
          "color": "black"
         },
         "type": "scatter3d",
         "x": [
          0.0144
         ],
         "y": [
          1.9378
         ],
         "z": [
          -0.00005
         ]
        },
        {
         "hoverinfo": "none",
         "line": {
          "color": "#1B263B",
          "width": 3
         },
         "mode": "lines",
         "name": "CC",
         "showlegend": true,
         "textfont": {
          "color": "black"
         },
         "type": "scatter3d",
         "x": [
          1.2028,
          1.2131
         ],
         "y": [
          -0.7063,
          0.6884
         ],
         "z": [
          0,
          0
         ]
        },
        {
         "hoverinfo": "text",
         "hoverlabel": {
          "bgcolor": "#ffffff",
          "namelength": -1
         },
         "hovertext": [
          "A single bond with a length of 1.395"
         ],
         "mode": "text",
         "text": [
          ""
         ],
         "textfont": {
          "color": "black"
         },
         "type": "scatter3d",
         "x": [
          1.20795
         ],
         "y": [
          -0.008950000000000014
         ],
         "z": [
          0
         ]
        },
        {
         "hoverinfo": "none",
         "line": {
          "color": "#1B263B",
          "width": 3
         },
         "mode": "lines",
         "name": "CH",
         "showlegend": true,
         "textfont": {
          "color": "black"
         },
         "type": "scatter3d",
         "x": [
          1.2028,
          2.1394
         ],
         "y": [
          -0.7063,
          -1.2563
         ],
         "z": [
          0,
          0.0001
         ]
        },
        {
         "hoverinfo": "text",
         "hoverlabel": {
          "bgcolor": "#ffffff",
          "namelength": -1
         },
         "hovertext": [
          "A single bond with a length of 1.086"
         ],
         "mode": "text",
         "text": [
          ""
         ],
         "textfont": {
          "color": "black"
         },
         "type": "scatter3d",
         "x": [
          1.6711
         ],
         "y": [
          -0.9813000000000001
         ],
         "z": [
          0.00005
         ]
        },
        {
         "hoverinfo": "none",
         "line": {
          "color": "#1B263B",
          "width": 3
         },
         "mode": "lines",
         "name": "CH",
         "showlegend": true,
         "textfont": {
          "color": "black"
         },
         "type": "scatter3d",
         "x": [
          1.2131,
          2.1577
         ],
         "y": [
          0.6884,
          1.2245
         ],
         "z": [
          0,
          0
         ]
        },
        {
         "hoverinfo": "text",
         "hoverlabel": {
          "bgcolor": "#ffffff",
          "namelength": -1
         },
         "hovertext": [
          "A single bond with a length of 1.086"
         ],
         "mode": "text",
         "text": [
          ""
         ],
         "textfont": {
          "color": "black"
         },
         "type": "scatter3d",
         "x": [
          1.6854
         ],
         "y": [
          0.95645
         ],
         "z": [
          0
         ]
        }
       ],
       "layout": {
        "autosize": true,
        "legend": {
         "orientation": "h",
         "x": 1,
         "xanchor": "right",
         "y": 1.02,
         "yanchor": "bottom"
        },
        "margin": {
         "b": 0,
         "l": 0,
         "r": 0,
         "t": 0
        },
        "paper_bgcolor": "#ffffff",
        "plot_bgcolor": "#ffffff",
        "scene": {
         "aspectmode": "manual",
         "aspectratio": {
          "x": 1,
          "y": 1,
          "z": 1
         },
         "xaxis": {
          "backgroundcolor": "#ffffff",
          "nticks": 4,
          "range": [
           -3.9809,
           3.9809
          ],
          "showbackground": true,
          "showgrid": false,
          "showspikes": false,
          "showticklabels": false,
          "title": {
           "text": ""
          },
          "zeroline": false
         },
         "yaxis": {
          "backgroundcolor": "#ffffff",
          "nticks": 4,
          "range": [
           -3.9809,
           3.9809
          ],
          "showbackground": true,
          "showgrid": false,
          "showspikes": false,
          "showticklabels": false,
          "title": {
           "text": ""
          },
          "zeroline": false
         },
         "zaxis": {
          "backgroundcolor": "#ffffff",
          "nticks": 4,
          "range": [
           -3.9809,
           3.9809
          ],
          "showbackground": true,
          "showgrid": false,
          "showspikes": false,
          "showticklabels": false,
          "title": {
           "text": ""
          },
          "zeroline": false
         }
        },
        "showlegend": false,
        "template": {
         "data": {
          "bar": [
           {
            "error_x": {
             "color": "#2a3f5f"
            },
            "error_y": {
             "color": "#2a3f5f"
            },
            "marker": {
             "line": {
              "color": "#E5ECF6",
              "width": 0.5
             },
             "pattern": {
              "fillmode": "overlay",
              "size": 10,
              "solidity": 0.2
             }
            },
            "type": "bar"
           }
          ],
          "barpolar": [
           {
            "marker": {
             "line": {
              "color": "#E5ECF6",
              "width": 0.5
             },
             "pattern": {
              "fillmode": "overlay",
              "size": 10,
              "solidity": 0.2
             }
            },
            "type": "barpolar"
           }
          ],
          "carpet": [
           {
            "aaxis": {
             "endlinecolor": "#2a3f5f",
             "gridcolor": "white",
             "linecolor": "white",
             "minorgridcolor": "white",
             "startlinecolor": "#2a3f5f"
            },
            "baxis": {
             "endlinecolor": "#2a3f5f",
             "gridcolor": "white",
             "linecolor": "white",
             "minorgridcolor": "white",
             "startlinecolor": "#2a3f5f"
            },
            "type": "carpet"
           }
          ],
          "choropleth": [
           {
            "colorbar": {
             "outlinewidth": 0,
             "ticks": ""
            },
            "type": "choropleth"
           }
          ],
          "contour": [
           {
            "colorbar": {
             "outlinewidth": 0,
             "ticks": ""
            },
            "colorscale": [
             [
              0,
              "#0d0887"
             ],
             [
              0.1111111111111111,
              "#46039f"
             ],
             [
              0.2222222222222222,
              "#7201a8"
             ],
             [
              0.3333333333333333,
              "#9c179e"
             ],
             [
              0.4444444444444444,
              "#bd3786"
             ],
             [
              0.5555555555555556,
              "#d8576b"
             ],
             [
              0.6666666666666666,
              "#ed7953"
             ],
             [
              0.7777777777777778,
              "#fb9f3a"
             ],
             [
              0.8888888888888888,
              "#fdca26"
             ],
             [
              1,
              "#f0f921"
             ]
            ],
            "type": "contour"
           }
          ],
          "contourcarpet": [
           {
            "colorbar": {
             "outlinewidth": 0,
             "ticks": ""
            },
            "type": "contourcarpet"
           }
          ],
          "heatmap": [
           {
            "colorbar": {
             "outlinewidth": 0,
             "ticks": ""
            },
            "colorscale": [
             [
              0,
              "#0d0887"
             ],
             [
              0.1111111111111111,
              "#46039f"
             ],
             [
              0.2222222222222222,
              "#7201a8"
             ],
             [
              0.3333333333333333,
              "#9c179e"
             ],
             [
              0.4444444444444444,
              "#bd3786"
             ],
             [
              0.5555555555555556,
              "#d8576b"
             ],
             [
              0.6666666666666666,
              "#ed7953"
             ],
             [
              0.7777777777777778,
              "#fb9f3a"
             ],
             [
              0.8888888888888888,
              "#fdca26"
             ],
             [
              1,
              "#f0f921"
             ]
            ],
            "type": "heatmap"
           }
          ],
          "histogram": [
           {
            "marker": {
             "pattern": {
              "fillmode": "overlay",
              "size": 10,
              "solidity": 0.2
             }
            },
            "type": "histogram"
           }
          ],
          "histogram2d": [
           {
            "colorbar": {
             "outlinewidth": 0,
             "ticks": ""
            },
            "colorscale": [
             [
              0,
              "#0d0887"
             ],
             [
              0.1111111111111111,
              "#46039f"
             ],
             [
              0.2222222222222222,
              "#7201a8"
             ],
             [
              0.3333333333333333,
              "#9c179e"
             ],
             [
              0.4444444444444444,
              "#bd3786"
             ],
             [
              0.5555555555555556,
              "#d8576b"
             ],
             [
              0.6666666666666666,
              "#ed7953"
             ],
             [
              0.7777777777777778,
              "#fb9f3a"
             ],
             [
              0.8888888888888888,
              "#fdca26"
             ],
             [
              1,
              "#f0f921"
             ]
            ],
            "type": "histogram2d"
           }
          ],
          "histogram2dcontour": [
           {
            "colorbar": {
             "outlinewidth": 0,
             "ticks": ""
            },
            "colorscale": [
             [
              0,
              "#0d0887"
             ],
             [
              0.1111111111111111,
              "#46039f"
             ],
             [
              0.2222222222222222,
              "#7201a8"
             ],
             [
              0.3333333333333333,
              "#9c179e"
             ],
             [
              0.4444444444444444,
              "#bd3786"
             ],
             [
              0.5555555555555556,
              "#d8576b"
             ],
             [
              0.6666666666666666,
              "#ed7953"
             ],
             [
              0.7777777777777778,
              "#fb9f3a"
             ],
             [
              0.8888888888888888,
              "#fdca26"
             ],
             [
              1,
              "#f0f921"
             ]
            ],
            "type": "histogram2dcontour"
           }
          ],
          "mesh3d": [
           {
            "colorbar": {
             "outlinewidth": 0,
             "ticks": ""
            },
            "type": "mesh3d"
           }
          ],
          "parcoords": [
           {
            "line": {
             "colorbar": {
              "outlinewidth": 0,
              "ticks": ""
             }
            },
            "type": "parcoords"
           }
          ],
          "pie": [
           {
            "automargin": true,
            "type": "pie"
           }
          ],
          "scatter": [
           {
            "fillpattern": {
             "fillmode": "overlay",
             "size": 10,
             "solidity": 0.2
            },
            "type": "scatter"
           }
          ],
          "scatter3d": [
           {
            "line": {
             "colorbar": {
              "outlinewidth": 0,
              "ticks": ""
             }
            },
            "marker": {
             "colorbar": {
              "outlinewidth": 0,
              "ticks": ""
             }
            },
            "type": "scatter3d"
           }
          ],
          "scattercarpet": [
           {
            "marker": {
             "colorbar": {
              "outlinewidth": 0,
              "ticks": ""
             }
            },
            "type": "scattercarpet"
           }
          ],
          "scattergeo": [
           {
            "marker": {
             "colorbar": {
              "outlinewidth": 0,
              "ticks": ""
             }
            },
            "type": "scattergeo"
           }
          ],
          "scattergl": [
           {
            "marker": {
             "colorbar": {
              "outlinewidth": 0,
              "ticks": ""
             }
            },
            "type": "scattergl"
           }
          ],
          "scattermap": [
           {
            "marker": {
             "colorbar": {
              "outlinewidth": 0,
              "ticks": ""
             }
            },
            "type": "scattermap"
           }
          ],
          "scattermapbox": [
           {
            "marker": {
             "colorbar": {
              "outlinewidth": 0,
              "ticks": ""
             }
            },
            "type": "scattermapbox"
           }
          ],
          "scatterpolar": [
           {
            "marker": {
             "colorbar": {
              "outlinewidth": 0,
              "ticks": ""
             }
            },
            "type": "scatterpolar"
           }
          ],
          "scatterpolargl": [
           {
            "marker": {
             "colorbar": {
              "outlinewidth": 0,
              "ticks": ""
             }
            },
            "type": "scatterpolargl"
           }
          ],
          "scatterternary": [
           {
            "marker": {
             "colorbar": {
              "outlinewidth": 0,
              "ticks": ""
             }
            },
            "type": "scatterternary"
           }
          ],
          "surface": [
           {
            "colorbar": {
             "outlinewidth": 0,
             "ticks": ""
            },
            "colorscale": [
             [
              0,
              "#0d0887"
             ],
             [
              0.1111111111111111,
              "#46039f"
             ],
             [
              0.2222222222222222,
              "#7201a8"
             ],
             [
              0.3333333333333333,
              "#9c179e"
             ],
             [
              0.4444444444444444,
              "#bd3786"
             ],
             [
              0.5555555555555556,
              "#d8576b"
             ],
             [
              0.6666666666666666,
              "#ed7953"
             ],
             [
              0.7777777777777778,
              "#fb9f3a"
             ],
             [
              0.8888888888888888,
              "#fdca26"
             ],
             [
              1,
              "#f0f921"
             ]
            ],
            "type": "surface"
           }
          ],
          "table": [
           {
            "cells": {
             "fill": {
              "color": "#EBF0F8"
             },
             "line": {
              "color": "white"
             }
            },
            "header": {
             "fill": {
              "color": "#C8D4E3"
             },
             "line": {
              "color": "white"
             }
            },
            "type": "table"
           }
          ]
         },
         "layout": {
          "annotationdefaults": {
           "arrowcolor": "#2a3f5f",
           "arrowhead": 0,
           "arrowwidth": 1
          },
          "autotypenumbers": "strict",
          "coloraxis": {
           "colorbar": {
            "outlinewidth": 0,
            "ticks": ""
           }
          },
          "colorscale": {
           "diverging": [
            [
             0,
             "#8e0152"
            ],
            [
             0.1,
             "#c51b7d"
            ],
            [
             0.2,
             "#de77ae"
            ],
            [
             0.3,
             "#f1b6da"
            ],
            [
             0.4,
             "#fde0ef"
            ],
            [
             0.5,
             "#f7f7f7"
            ],
            [
             0.6,
             "#e6f5d0"
            ],
            [
             0.7,
             "#b8e186"
            ],
            [
             0.8,
             "#7fbc41"
            ],
            [
             0.9,
             "#4d9221"
            ],
            [
             1,
             "#276419"
            ]
           ],
           "sequential": [
            [
             0,
             "#0d0887"
            ],
            [
             0.1111111111111111,
             "#46039f"
            ],
            [
             0.2222222222222222,
             "#7201a8"
            ],
            [
             0.3333333333333333,
             "#9c179e"
            ],
            [
             0.4444444444444444,
             "#bd3786"
            ],
            [
             0.5555555555555556,
             "#d8576b"
            ],
            [
             0.6666666666666666,
             "#ed7953"
            ],
            [
             0.7777777777777778,
             "#fb9f3a"
            ],
            [
             0.8888888888888888,
             "#fdca26"
            ],
            [
             1,
             "#f0f921"
            ]
           ],
           "sequentialminus": [
            [
             0,
             "#0d0887"
            ],
            [
             0.1111111111111111,
             "#46039f"
            ],
            [
             0.2222222222222222,
             "#7201a8"
            ],
            [
             0.3333333333333333,
             "#9c179e"
            ],
            [
             0.4444444444444444,
             "#bd3786"
            ],
            [
             0.5555555555555556,
             "#d8576b"
            ],
            [
             0.6666666666666666,
             "#ed7953"
            ],
            [
             0.7777777777777778,
             "#fb9f3a"
            ],
            [
             0.8888888888888888,
             "#fdca26"
            ],
            [
             1,
             "#f0f921"
            ]
           ]
          },
          "colorway": [
           "#636efa",
           "#EF553B",
           "#00cc96",
           "#ab63fa",
           "#FFA15A",
           "#19d3f3",
           "#FF6692",
           "#B6E880",
           "#FF97FF",
           "#FECB52"
          ],
          "font": {
           "color": "#2a3f5f"
          },
          "geo": {
           "bgcolor": "white",
           "lakecolor": "white",
           "landcolor": "#E5ECF6",
           "showlakes": true,
           "showland": true,
           "subunitcolor": "white"
          },
          "hoverlabel": {
           "align": "left"
          },
          "hovermode": "closest",
          "mapbox": {
           "style": "light"
          },
          "paper_bgcolor": "white",
          "plot_bgcolor": "#E5ECF6",
          "polar": {
           "angularaxis": {
            "gridcolor": "white",
            "linecolor": "white",
            "ticks": ""
           },
           "bgcolor": "#E5ECF6",
           "radialaxis": {
            "gridcolor": "white",
            "linecolor": "white",
            "ticks": ""
           }
          },
          "scene": {
           "xaxis": {
            "backgroundcolor": "#E5ECF6",
            "gridcolor": "white",
            "gridwidth": 2,
            "linecolor": "white",
            "showbackground": true,
            "ticks": "",
            "zerolinecolor": "white"
           },
           "yaxis": {
            "backgroundcolor": "#E5ECF6",
            "gridcolor": "white",
            "gridwidth": 2,
            "linecolor": "white",
            "showbackground": true,
            "ticks": "",
            "zerolinecolor": "white"
           },
           "zaxis": {
            "backgroundcolor": "#E5ECF6",
            "gridcolor": "white",
            "gridwidth": 2,
            "linecolor": "white",
            "showbackground": true,
            "ticks": "",
            "zerolinecolor": "white"
           }
          },
          "shapedefaults": {
           "line": {
            "color": "#2a3f5f"
           }
          },
          "ternary": {
           "aaxis": {
            "gridcolor": "white",
            "linecolor": "white",
            "ticks": ""
           },
           "baxis": {
            "gridcolor": "white",
            "linecolor": "white",
            "ticks": ""
           },
           "bgcolor": "#E5ECF6",
           "caxis": {
            "gridcolor": "white",
            "linecolor": "white",
            "ticks": ""
           }
          },
          "title": {
           "x": 0.05
          },
          "xaxis": {
           "automargin": true,
           "gridcolor": "white",
           "linecolor": "white",
           "ticks": "",
           "title": {
            "standoff": 15
           },
           "zerolinecolor": "white",
           "zerolinewidth": 2
          },
          "yaxis": {
           "automargin": true,
           "gridcolor": "white",
           "linecolor": "white",
           "ticks": "",
           "title": {
            "standoff": 15
           },
           "zerolinecolor": "white",
           "zerolinewidth": 2
          }
         }
        }
       }
      }
     },
     "metadata": {},
     "output_type": "display_data"
    }
   ],
   "source": [
    "# display graph\n",
    "\n",
    "mi.view_graph(graph1,plot_mode='plotly')"
   ]
  }
 ],
 "metadata": {
  "kernelspec": {
   "display_name": ".venv",
   "language": "python",
   "name": "python3"
  },
  "language_info": {
   "codemirror_mode": {
    "name": "ipython",
    "version": 3
   },
   "file_extension": ".py",
   "mimetype": "text/x-python",
   "name": "python",
   "nbconvert_exporter": "python",
   "pygments_lexer": "ipython3",
   "version": "3.10.0"
  }
 },
 "nbformat": 4,
 "nbformat_minor": 2
}
