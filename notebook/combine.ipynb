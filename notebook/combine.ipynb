{
 "cells": [
  {
   "cell_type": "markdown",
   "metadata": {},
   "source": [
    "# Import Libs"
   ]
  },
  {
   "cell_type": "code",
   "execution_count": 1,
   "metadata": {},
   "outputs": [],
   "source": [
    "# import libs\n",
    "import re\n",
    "from rich import print"
   ]
  },
  {
   "cell_type": "markdown",
   "metadata": {},
   "source": [
    "# Combine Functional Gorups"
   ]
  },
  {
   "cell_type": "code",
   "execution_count": 37,
   "metadata": {},
   "outputs": [
    {
     "data": {
      "text/html": [
       "<pre style=\"white-space:pre;overflow-x:auto;line-height:normal;font-family:Menlo,'DejaVu Sans Mono',consolas,'Courier New',monospace\">Chain1: <span style=\"font-weight: bold\">[</span><span style=\"color: #008000; text-decoration-color: #008000\">'C1=C2'</span>, <span style=\"color: #008000; text-decoration-color: #008000\">'C2-{1}'</span>, <span style=\"color: #008000; text-decoration-color: #008000\">'C3=C4'</span>, <span style=\"color: #008000; text-decoration-color: #008000\">'C4-C5'</span>, <span style=\"color: #008000; text-decoration-color: #008000\">'C5=C6'</span>, <span style=\"color: #008000; text-decoration-color: #008000\">'C6-C1'</span><span style=\"font-weight: bold\">]</span>\n",
       "</pre>\n"
      ],
      "text/plain": [
       "Chain1: \u001b[1m[\u001b[0m\u001b[32m'\u001b[0m\u001b[32mC1\u001b[0m\u001b[32m=\u001b[0m\u001b[32mC2\u001b[0m\u001b[32m'\u001b[0m, \u001b[32m'C2-\u001b[0m\u001b[32m{\u001b[0m\u001b[32m1\u001b[0m\u001b[32m}\u001b[0m\u001b[32m'\u001b[0m, \u001b[32m'\u001b[0m\u001b[32mC3\u001b[0m\u001b[32m=\u001b[0m\u001b[32mC4\u001b[0m\u001b[32m'\u001b[0m, \u001b[32m'C4-C5'\u001b[0m, \u001b[32m'\u001b[0m\u001b[32mC5\u001b[0m\u001b[32m=\u001b[0m\u001b[32mC6\u001b[0m\u001b[32m'\u001b[0m, \u001b[32m'C6-C1'\u001b[0m\u001b[1m]\u001b[0m\n"
      ]
     },
     "metadata": {},
     "output_type": "display_data"
    },
    {
     "data": {
      "text/html": [
       "<pre style=\"white-space:pre;overflow-x:auto;line-height:normal;font-family:Menlo,'DejaVu Sans Mono',consolas,'Courier New',monospace\">Chain2: <span style=\"font-weight: bold\">[</span><span style=\"color: #008000; text-decoration-color: #008000\">'XX1-C2'</span>, <span style=\"color: #008000; text-decoration-color: #008000\">'{1}-C2'</span>, <span style=\"color: #008000; text-decoration-color: #008000\">'C2=C3'</span>, <span style=\"color: #008000; text-decoration-color: #008000\">'C3-XX4'</span><span style=\"font-weight: bold\">]</span>\n",
       "</pre>\n"
      ],
      "text/plain": [
       "Chain2: \u001b[1m[\u001b[0m\u001b[32m'XX1-C2'\u001b[0m, \u001b[32m'\u001b[0m\u001b[32m{\u001b[0m\u001b[32m1\u001b[0m\u001b[32m}\u001b[0m\u001b[32m-C2'\u001b[0m, \u001b[32m'\u001b[0m\u001b[32mC2\u001b[0m\u001b[32m=\u001b[0m\u001b[32mC3\u001b[0m\u001b[32m'\u001b[0m, \u001b[32m'C3-XX4'\u001b[0m\u001b[1m]\u001b[0m\n"
      ]
     },
     "metadata": {},
     "output_type": "display_data"
    },
    {
     "data": {
      "text/html": [
       "<pre style=\"white-space:pre;overflow-x:auto;line-height:normal;font-family:Menlo,'DejaVu Sans Mono',consolas,'Courier New',monospace\">Chain3: <span style=\"font-weight: bold\">[</span><span style=\"color: #008000; text-decoration-color: #008000\">'C1-C2'</span>, <span style=\"color: #008000; text-decoration-color: #008000\">'C2-C3'</span>, <span style=\"color: #008000; text-decoration-color: #008000\">'C3*{Chain11}'</span>, <span style=\"color: #008000; text-decoration-color: #008000\">'C3-C4'</span>, <span style=\"color: #008000; text-decoration-color: #008000\">'C4*{Chain21}'</span>, <span style=\"color: #008000; text-decoration-color: #008000\">'C4-C5'</span>, <span style=\"color: #008000; text-decoration-color: #008000\">'C5-C6'</span><span style=\"font-weight: bold\">]</span>\n",
       "</pre>\n"
      ],
      "text/plain": [
       "Chain3: \u001b[1m[\u001b[0m\u001b[32m'C1-C2'\u001b[0m, \u001b[32m'C2-C3'\u001b[0m, \u001b[32m'C3*\u001b[0m\u001b[32m{\u001b[0m\u001b[32mChain11\u001b[0m\u001b[32m}\u001b[0m\u001b[32m'\u001b[0m, \u001b[32m'C3-C4'\u001b[0m, \u001b[32m'C4*\u001b[0m\u001b[32m{\u001b[0m\u001b[32mChain21\u001b[0m\u001b[32m}\u001b[0m\u001b[32m'\u001b[0m, \u001b[32m'C4-C5'\u001b[0m, \u001b[32m'C5-C6'\u001b[0m\u001b[1m]\u001b[0m\n"
      ]
     },
     "metadata": {},
     "output_type": "display_data"
    }
   ],
   "source": [
    "Chain1 = [\"C1=C2\", \"C2-{1}\", \"C3=C4\", \"C4-C5\", \"C5=C6\", \"C6-C1\"]\n",
    "Chain2 = [\"XX1-C2\", \"{1}-C2\", \"C2=C3\", \"C3-XX4\"]\n",
    "Chain3 = ['C1-C2', 'C2-C3', 'C3*{Chain11}', 'C3-C4', 'C4*{Chain21}', 'C4-C5', 'C5-C6']\n",
    "\n",
    "# log\n",
    "print(f\"Chain1: {Chain1}\")\n",
    "print(f\"Chain2: {Chain2}\")\n",
    "print(f\"Chain3: {Chain3}\")"
   ]
  },
  {
   "cell_type": "markdown",
   "metadata": {},
   "source": [
    "## Extract Highest Index"
   ]
  },
  {
   "cell_type": "code",
   "execution_count": 39,
   "metadata": {},
   "outputs": [],
   "source": [
    "def extract_highest_index(chain):\n",
    "    \"\"\"\n",
    "    Extracts the highest numerical index from atom labels in the given chain.\n",
    "\n",
    "    Parameters\n",
    "    ----------\n",
    "    chain : list\n",
    "        A list of strings representing bonds between atoms in a chain.\n",
    "\n",
    "    Returns\n",
    "    -------\n",
    "    int\n",
    "        The highest numerical index found in the chain.\n",
    "    \"\"\"\n",
    "    indices = []\n",
    "    for bond in chain:\n",
    "        atoms = re.findall(r'[A-Za-z]+(\\d+)', bond)  # Extract numbers from atoms\n",
    "        if '{' in bond or '}' in bond:\n",
    "            continue  # Ignore bonds containing {Chain..}\n",
    "        indices.extend(map(int, atoms))\n",
    "    return max(indices) if indices else 0"
   ]
  },
  {
   "cell_type": "code",
   "execution_count": 40,
   "metadata": {},
   "outputs": [
    {
     "data": {
      "text/html": [
       "<pre style=\"white-space:pre;overflow-x:auto;line-height:normal;font-family:Menlo,'DejaVu Sans Mono',consolas,'Courier New',monospace\">Extracted highest index from Chain1: <span style=\"color: #008080; text-decoration-color: #008080; font-weight: bold\">6</span>\n",
       "</pre>\n"
      ],
      "text/plain": [
       "Extracted highest index from Chain1: \u001b[1;36m6\u001b[0m\n"
      ]
     },
     "metadata": {},
     "output_type": "display_data"
    },
    {
     "data": {
      "text/html": [
       "<pre style=\"white-space:pre;overflow-x:auto;line-height:normal;font-family:Menlo,'DejaVu Sans Mono',consolas,'Courier New',monospace\">Extracted highest index from Chain2: <span style=\"color: #008080; text-decoration-color: #008080; font-weight: bold\">4</span>\n",
       "</pre>\n"
      ],
      "text/plain": [
       "Extracted highest index from Chain2: \u001b[1;36m4\u001b[0m\n"
      ]
     },
     "metadata": {},
     "output_type": "display_data"
    },
    {
     "data": {
      "text/html": [
       "<pre style=\"white-space:pre;overflow-x:auto;line-height:normal;font-family:Menlo,'DejaVu Sans Mono',consolas,'Courier New',monospace\">Extracted highest index from Chain3: <span style=\"color: #008080; text-decoration-color: #008080; font-weight: bold\">6</span>\n",
       "</pre>\n"
      ],
      "text/plain": [
       "Extracted highest index from Chain3: \u001b[1;36m6\u001b[0m\n"
      ]
     },
     "metadata": {},
     "output_type": "display_data"
    }
   ],
   "source": [
    "# check\n",
    "print(f\"Extracted highest index from Chain1: {extract_highest_index(Chain1)}\")\n",
    "print(f\"Extracted highest index from Chain2: {extract_highest_index(Chain2)}\")\n",
    "print(f\"Extracted highest index from Chain3: {extract_highest_index(Chain3)}\")"
   ]
  },
  {
   "cell_type": "markdown",
   "metadata": {},
   "source": [
    "## Combine Groups"
   ]
  },
  {
   "cell_type": "code",
   "execution_count": 18,
   "metadata": {},
   "outputs": [],
   "source": [
    "# source\n",
    "molecule_src = {\n",
    "    'MainChain': [\"C1-C2\",\"C2-C3\",\"C3*{Chain1}\",\"C3-C4\",\"C4*{Chain2}\",\"C4-C5\",\"C5-C6\"],\n",
    "    'Chain1': [\"C1=C2\",\"C2-C3\",\"C3=*\"],\n",
    "    'Chain2' : [\"*-C1\",\"C1=C2\",\"C2-XX3\"]\n",
    "}"
   ]
  },
  {
   "cell_type": "markdown",
   "metadata": {},
   "source": [
    "### Search For Main Chain"
   ]
  },
  {
   "cell_type": "code",
   "execution_count": 8,
   "metadata": {},
   "outputs": [],
   "source": [
    "def search_for_main_chain(molecule_src):\n",
    "    \"\"\"\n",
    "    Searches for the main chain in the molecule source.\n",
    "\n",
    "    Parameters\n",
    "    ----------\n",
    "    molecule_src : dict\n",
    "        A dictionary containing lists of strings representing bonds between atoms in a molecule.\n",
    "\n",
    "    Returns\n",
    "    -------\n",
    "    str\n",
    "        The name of the main chain found in the molecule source.\n",
    "    \"\"\"\n",
    "    for key, chain in molecule_src.items():\n",
    "        # create a pattern to match the main chain\n",
    "        pattern1 = re.compile(r'\\{.*?\\}\\*.*')\n",
    "        pattern2 = re.compile(r'.*\\*\\{.*?\\}')\n",
    "\n",
    "        # check if the main chain is found\n",
    "        if any(pattern1.match(bond) or pattern2.match(bond) for bond in chain):\n",
    "            return key\n",
    "    return None"
   ]
  },
  {
   "cell_type": "code",
   "execution_count": 17,
   "metadata": {},
   "outputs": [
    {
     "data": {
      "text/html": [
       "<pre style=\"white-space:pre;overflow-x:auto;line-height:normal;font-family:Menlo,'DejaVu Sans Mono',consolas,'Courier New',monospace\">Main chain found: <span style=\"color: #800080; text-decoration-color: #800080; font-style: italic\">None</span>\n",
       "</pre>\n"
      ],
      "text/plain": [
       "Main chain found: \u001b[3;35mNone\u001b[0m\n"
      ]
     },
     "metadata": {},
     "output_type": "display_data"
    }
   ],
   "source": [
    "# test\n",
    "print(f\"Main chain found: {search_for_main_chain(molecule_src)}\")"
   ]
  },
  {
   "cell_type": "markdown",
   "metadata": {},
   "source": [
    "### Check Molecule"
   ]
  },
  {
   "cell_type": "code",
   "execution_count": null,
   "metadata": {},
   "outputs": [],
   "source": [
    "def check_molecule(molecule_src):\n",
    "    \"\"\"\n",
    "    Checks if the molecule source is valid.\n",
    "\n",
    "    Parameters\n",
    "    ----------\n",
    "    molecule_src : dict\n",
    "        A dictionary containing lists of strings representing bonds between atoms in a molecule.\n",
    "\n",
    "    Returns\n",
    "    -------\n",
    "    bool\n",
    "        True if the molecule source is valid, False otherwise.\n",
    "    \"\"\"\n",
    "    # create a copy of the molecule source\n",
    "    molecule = {key: chain.copy() for key, chain in molecule_src.items()}\n",
    "\n",
    "    # checked molecule source\n",
    "    molecule_src_checked = {}\n",
    "\n",
    "    # check if the main chain is found\n",
    "    main_chain = search_for_main_chain(molecule)\n",
    "    if not main_chain:\n",
    "        return False\n",
    "\n",
    "    # add the main chain to the checked molecule source\n",
    "    molecule_src_checked[main_chain] = molecule[main_chain]\n",
    "\n",
    "    # main chain bonds\n",
    "    main_chain_bonds = molecule[main_chain]\n",
    "\n",
    "    # chain counter\n",
    "    chain_counter = 0\n",
    "    # looping through the molecule source\n",
    "    for key, chain in molecule.items():\n",
    "        if key != main_chain:\n",
    "            # check if the chain is connected to the main chain\n",
    "            # SECTION: create pattern to match the main chain\n",
    "            pattern_gate = rf\"([A-Za-z]+)(\\d+)\\*\\{{({re.escape(key)})\\}}\"\n",
    "\n",
    "            # looping through the main chain bonds\n",
    "            for i, bond in enumerate(main_chain_bonds):\n",
    "                match = re.match(pattern_gate, bond)\n",
    "                # check\n",
    "                if match:\n",
    "                    # update chain counter\n",
    "                    chain_counter += 1\n",
    "                    # extract the matched chain\n",
    "                    atom, index, key_chain = match.groups()\n",
    "                    # rename key\n",
    "                    key = key_chain + str(chain_counter)\n",
    "                    # add the chain to the checked molecule source\n",
    "                    molecule_src_checked[key] = chain\n",
    "\n",
    "                    # update the element in the main chain\n",
    "                    main_chain_bonds[i] = atom+index+\"*{\"+key+\"}\"\n",
    "\n",
    "            # reset chain counter\n",
    "            chain_counter = 0\n",
    "\n",
    "    # res\n",
    "    return molecule_src_checked"
   ]
  },
  {
   "cell_type": "code",
   "execution_count": 30,
   "metadata": {},
   "outputs": [
    {
     "data": {
      "text/html": [
       "<pre style=\"white-space:pre;overflow-x:auto;line-height:normal;font-family:Menlo,'DejaVu Sans Mono',consolas,'Courier New',monospace\"><span style=\"font-weight: bold\">{</span>\n",
       "    <span style=\"color: #008000; text-decoration-color: #008000\">'MainChain'</span>: <span style=\"font-weight: bold\">[</span><span style=\"color: #008000; text-decoration-color: #008000\">'C1-C2'</span>, <span style=\"color: #008000; text-decoration-color: #008000\">'C2-C3'</span>, <span style=\"color: #008000; text-decoration-color: #008000\">'C3*{Chain11}'</span>, <span style=\"color: #008000; text-decoration-color: #008000\">'C3-C4'</span>, <span style=\"color: #008000; text-decoration-color: #008000\">'C4*{Chain21}'</span>, <span style=\"color: #008000; text-decoration-color: #008000\">'C4-C5'</span>, <span style=\"color: #008000; text-decoration-color: #008000\">'C5-C6'</span><span style=\"font-weight: bold\">]</span>,\n",
       "    <span style=\"color: #008000; text-decoration-color: #008000\">'Chain11'</span>: <span style=\"font-weight: bold\">[</span><span style=\"color: #008000; text-decoration-color: #008000\">'C1=C2'</span>, <span style=\"color: #008000; text-decoration-color: #008000\">'C2-C3'</span>, <span style=\"color: #008000; text-decoration-color: #008000\">'C3=*'</span><span style=\"font-weight: bold\">]</span>,\n",
       "    <span style=\"color: #008000; text-decoration-color: #008000\">'Chain21'</span>: <span style=\"font-weight: bold\">[</span><span style=\"color: #008000; text-decoration-color: #008000\">'*-C1'</span>, <span style=\"color: #008000; text-decoration-color: #008000\">'C1=C2'</span>, <span style=\"color: #008000; text-decoration-color: #008000\">'C2-XX3'</span><span style=\"font-weight: bold\">]</span>\n",
       "<span style=\"font-weight: bold\">}</span>\n",
       "</pre>\n"
      ],
      "text/plain": [
       "\u001b[1m{\u001b[0m\n",
       "    \u001b[32m'MainChain'\u001b[0m: \u001b[1m[\u001b[0m\u001b[32m'C1-C2'\u001b[0m, \u001b[32m'C2-C3'\u001b[0m, \u001b[32m'C3*\u001b[0m\u001b[32m{\u001b[0m\u001b[32mChain11\u001b[0m\u001b[32m}\u001b[0m\u001b[32m'\u001b[0m, \u001b[32m'C3-C4'\u001b[0m, \u001b[32m'C4*\u001b[0m\u001b[32m{\u001b[0m\u001b[32mChain21\u001b[0m\u001b[32m}\u001b[0m\u001b[32m'\u001b[0m, \u001b[32m'C4-C5'\u001b[0m, \u001b[32m'C5-C6'\u001b[0m\u001b[1m]\u001b[0m,\n",
       "    \u001b[32m'Chain11'\u001b[0m: \u001b[1m[\u001b[0m\u001b[32m'\u001b[0m\u001b[32mC1\u001b[0m\u001b[32m=\u001b[0m\u001b[32mC2\u001b[0m\u001b[32m'\u001b[0m, \u001b[32m'C2-C3'\u001b[0m, \u001b[32m'\u001b[0m\u001b[32mC3\u001b[0m\u001b[32m=*'\u001b[0m\u001b[1m]\u001b[0m,\n",
       "    \u001b[32m'Chain21'\u001b[0m: \u001b[1m[\u001b[0m\u001b[32m'*-C1'\u001b[0m, \u001b[32m'\u001b[0m\u001b[32mC1\u001b[0m\u001b[32m=\u001b[0m\u001b[32mC2\u001b[0m\u001b[32m'\u001b[0m, \u001b[32m'C2-XX3'\u001b[0m\u001b[1m]\u001b[0m\n",
       "\u001b[1m}\u001b[0m\n"
      ]
     },
     "metadata": {},
     "output_type": "display_data"
    }
   ],
   "source": [
    "# test\n",
    "molecule_src_checked = check_molecule(molecule_src)\n",
    "print(molecule_src_checked)"
   ]
  },
  {
   "cell_type": "markdown",
   "metadata": {},
   "source": [
    "### Construct Molecule"
   ]
  },
  {
   "cell_type": "code",
   "execution_count": 43,
   "metadata": {},
   "outputs": [],
   "source": [
    "def construct_molecule(molecule_src):\n",
    "    \"\"\"\n",
    "    Constructs the molecule from the given molecule source.\n",
    "\n",
    "    Parameters\n",
    "    ----------\n",
    "    molecule_src : dict\n",
    "        A dictionary containing lists of strings representing bonds between atoms in a molecule.\n",
    "\n",
    "    Returns\n",
    "    -------\n",
    "    dict\n",
    "        A dictionary containing lists of strings representing bonds between atoms in a molecule.\n",
    "    \"\"\"\n",
    "    # create a copy of the molecule source\n",
    "    molecule = {key: chain.copy() for key, chain in molecule_src.items()}\n",
    "    # print(f'molecule: {molecule}')\n",
    "\n",
    "    # search for the main chain\n",
    "    main_chain = search_for_main_chain(molecule)\n",
    "    # print(f'main_chain: {main_chain}')\n",
    "\n",
    "    chain_info = {}\n",
    "\n",
    "    # reset\n",
    "    highest_index = 0\n",
    "\n",
    "    # check if the main chain is found\n",
    "    if main_chain:\n",
    "        # get the highest index from the main chain\n",
    "        highest_index = extract_highest_index(molecule[main_chain])\n",
    "        # print(f'highest_index: {highest_index}')\n",
    "\n",
    "\n",
    "        # update index of other chains\n",
    "        for key, chain in molecule.items():\n",
    "            if key != main_chain:\n",
    "                # create chain info\n",
    "                chain_info[key] = {\n",
    "                    'bonds': [],\n",
    "                    'gate': []\n",
    "                }\n",
    "\n",
    "                # update the index of the chain\n",
    "                for i, bond in enumerate(chain):\n",
    "\n",
    "                    # SECTION: define pattern to match bonds\n",
    "                    pattern = r\"([A-Za-z]+)(\\d+)([-=#])([A-Za-z]+)(\\d+)\"\n",
    "                    # match the pattern\n",
    "                    match_bond = re.match(pattern, bond)\n",
    "                    # augment the index\n",
    "                    if match_bond:\n",
    "                        # extract atoms and indices\n",
    "                        atom1, index1, bond_order, atom2, index2 = match_bond.groups()\n",
    "                        # update the index\n",
    "                        index1 = str(int(index1) + highest_index)\n",
    "                        index2 = str(int(index2) + highest_index)\n",
    "                        # update the bond\n",
    "                        molecule[key][i] = f\"{atom1}{index1}{bond_order}{atom2}{index2}\"\n",
    "                        # update the chain info\n",
    "                        chain_info[key]['bonds'].append(molecule[key][i])\n",
    "\n",
    "\n",
    "                    # SECTION: gate pattern\n",
    "                    pattern_gate = r\"([A-Za-z]+)(\\d+)([-=#])\\*\"\n",
    "                    # match the pattern\n",
    "                    match_gate = re.match(pattern_gate, bond)\n",
    "                    # augment the index\n",
    "                    if match_gate:\n",
    "                        # extract atoms and indices\n",
    "                        atom1, index1, bond_order = match_gate.groups()\n",
    "                        # update the index\n",
    "                        index1 = str(int(index1) + highest_index)\n",
    "                        # update the bond\n",
    "                        molecule[key][i] = f\"{bond_order}{atom1}{index1}\"\n",
    "                        # update the chain info\n",
    "                        chain_info[key]['gate'].append(molecule[key][i])\n",
    "\n",
    "                    # SECTION: gate pattern\n",
    "                    pattern_gate = r\"\\*([-=#])([A-Za-z]+)(\\d+)\"\n",
    "                    # match the pattern\n",
    "                    match_gate = re.match(pattern_gate, bond)\n",
    "                    # augment the index\n",
    "                    if match_gate:\n",
    "                        # extract atoms and indices\n",
    "                        bond_order, atom1, index1 = match_gate.groups()\n",
    "                        # update the index\n",
    "                        index1 = str(int(index1) + highest_index)\n",
    "                        # update the bond\n",
    "                        molecule[key][i] = f\"{atom1}{index1}{bond_order}\"\n",
    "                        # update the chain info\n",
    "                        chain_info[key]['gate'].append(molecule[key][i])\n",
    "\n",
    "                # update highest index\n",
    "                highest_index = int(index1)\n",
    "                # print(f\"highest_index: {highest_index}\")\n",
    "\n",
    "    # combine the main chain and other chains\n",
    "    constructed_molecule = []\n",
    "    # find the gate atoms\n",
    "    for items in molecule[main_chain]:\n",
    "        # SECTION: define pattern\n",
    "        pattern_gate = r\"([A-Za-z]+)(\\d+)\\*\\{([A-Za-z0-9]+)\\}\"\n",
    "        # match the pattern\n",
    "        match_gate = re.match(pattern_gate, items)\n",
    "        # extract the gate atoms\n",
    "        if match_gate:\n",
    "            # extract atoms and indices\n",
    "            atom1, index1, gate = match_gate.groups()\n",
    "            # find element index in molecule['main_chain']\n",
    "            element_index = molecule[main_chain].index(items)\n",
    "            # update\n",
    "            # check start with letter or number\n",
    "            if chain_info[gate]['gate'][0].startswith(('-','=','#')):\n",
    "                molecule[main_chain][element_index] = f\"{atom1}{index1}{chain_info[gate]['gate'][0]}\"\n",
    "            else:\n",
    "                molecule[main_chain][element_index] = f\"{chain_info[gate]['gate'][0]}{atom1}{index1}\"\n",
    "\n",
    "        pattern_gate = r\"\\{([A-Za-z0-9]+)\\}\\*([A-Za-z]+)(\\d+)\"\n",
    "        # match the pattern\n",
    "        match_gate = re.match(pattern_gate, items)\n",
    "        # extract the gate atoms\n",
    "        if match_gate:\n",
    "            # extract atoms and indices\n",
    "            gate, atom1, index1 = match_gate.groups()\n",
    "            # find element index in molecule['main_chain']\n",
    "            element_index = molecule[main_chain].index(items)\n",
    "            # update\n",
    "            # check start with letter or number\n",
    "            if chain_info[gate]['gate'][0].startswith(('-','=','#')):\n",
    "                molecule[main_chain][element_index] = f\"{atom1}{index1}{chain_info[gate]['gate'][0]}\"\n",
    "            else:\n",
    "                molecule[main_chain][element_index] = f\"{chain_info[gate]['gate'][0]}{atom1}{index1}\"\n",
    "\n",
    "    # combine the main chain and other chains\n",
    "    for key, chain in molecule.items():\n",
    "        if key == main_chain:\n",
    "            constructed_molecule.extend(chain)\n",
    "\n",
    "    # chain info\n",
    "    for key, chain in chain_info.items():\n",
    "        constructed_molecule.extend(chain['bonds'])\n",
    "\n",
    "    return chain_info, molecule, constructed_molecule\n"
   ]
  },
  {
   "cell_type": "code",
   "execution_count": 44,
   "metadata": {},
   "outputs": [
    {
     "data": {
      "text/html": [
       "<pre style=\"white-space:pre;overflow-x:auto;line-height:normal;font-family:Menlo,'DejaVu Sans Mono',consolas,'Courier New',monospace\"><span style=\"font-weight: bold\">{</span>\n",
       "    <span style=\"color: #008000; text-decoration-color: #008000\">'MainChain'</span>: <span style=\"font-weight: bold\">[</span><span style=\"color: #008000; text-decoration-color: #008000\">'C1-C2'</span>, <span style=\"color: #008000; text-decoration-color: #008000\">'C2-C3'</span>, <span style=\"color: #008000; text-decoration-color: #008000\">'C3*{Chain1}'</span>, <span style=\"color: #008000; text-decoration-color: #008000\">'C3-C4'</span>, <span style=\"color: #008000; text-decoration-color: #008000\">'C4*{Chain2}'</span>, <span style=\"color: #008000; text-decoration-color: #008000\">'C4-C5'</span>, <span style=\"color: #008000; text-decoration-color: #008000\">'C5-C6'</span><span style=\"font-weight: bold\">]</span>,\n",
       "    <span style=\"color: #008000; text-decoration-color: #008000\">'Chain1'</span>: <span style=\"font-weight: bold\">[</span><span style=\"color: #008000; text-decoration-color: #008000\">'C1=C2'</span>, <span style=\"color: #008000; text-decoration-color: #008000\">'C2-C3'</span>, <span style=\"color: #008000; text-decoration-color: #008000\">'C3=*'</span><span style=\"font-weight: bold\">]</span>,\n",
       "    <span style=\"color: #008000; text-decoration-color: #008000\">'Chain2'</span>: <span style=\"font-weight: bold\">[</span><span style=\"color: #008000; text-decoration-color: #008000\">'*-C1'</span>, <span style=\"color: #008000; text-decoration-color: #008000\">'C1=C2'</span>, <span style=\"color: #008000; text-decoration-color: #008000\">'C2-XX3'</span><span style=\"font-weight: bold\">]</span>\n",
       "<span style=\"font-weight: bold\">}</span>\n",
       "</pre>\n"
      ],
      "text/plain": [
       "\u001b[1m{\u001b[0m\n",
       "    \u001b[32m'MainChain'\u001b[0m: \u001b[1m[\u001b[0m\u001b[32m'C1-C2'\u001b[0m, \u001b[32m'C2-C3'\u001b[0m, \u001b[32m'C3*\u001b[0m\u001b[32m{\u001b[0m\u001b[32mChain1\u001b[0m\u001b[32m}\u001b[0m\u001b[32m'\u001b[0m, \u001b[32m'C3-C4'\u001b[0m, \u001b[32m'C4*\u001b[0m\u001b[32m{\u001b[0m\u001b[32mChain2\u001b[0m\u001b[32m}\u001b[0m\u001b[32m'\u001b[0m, \u001b[32m'C4-C5'\u001b[0m, \u001b[32m'C5-C6'\u001b[0m\u001b[1m]\u001b[0m,\n",
       "    \u001b[32m'Chain1'\u001b[0m: \u001b[1m[\u001b[0m\u001b[32m'\u001b[0m\u001b[32mC1\u001b[0m\u001b[32m=\u001b[0m\u001b[32mC2\u001b[0m\u001b[32m'\u001b[0m, \u001b[32m'C2-C3'\u001b[0m, \u001b[32m'\u001b[0m\u001b[32mC3\u001b[0m\u001b[32m=*'\u001b[0m\u001b[1m]\u001b[0m,\n",
       "    \u001b[32m'Chain2'\u001b[0m: \u001b[1m[\u001b[0m\u001b[32m'*-C1'\u001b[0m, \u001b[32m'\u001b[0m\u001b[32mC1\u001b[0m\u001b[32m=\u001b[0m\u001b[32mC2\u001b[0m\u001b[32m'\u001b[0m, \u001b[32m'C2-XX3'\u001b[0m\u001b[1m]\u001b[0m\n",
       "\u001b[1m}\u001b[0m\n"
      ]
     },
     "metadata": {},
     "output_type": "display_data"
    },
    {
     "data": {
      "text/html": [
       "<pre style=\"white-space:pre;overflow-x:auto;line-height:normal;font-family:Menlo,'DejaVu Sans Mono',consolas,'Courier New',monospace\">--------------------------------------------------\n",
       "</pre>\n"
      ],
      "text/plain": [
       "--------------------------------------------------\n"
      ]
     },
     "metadata": {},
     "output_type": "display_data"
    },
    {
     "data": {
      "text/html": [
       "<pre style=\"white-space:pre;overflow-x:auto;line-height:normal;font-family:Menlo,'DejaVu Sans Mono',consolas,'Courier New',monospace\"><span style=\"font-weight: bold\">{</span>\n",
       "    <span style=\"color: #008000; text-decoration-color: #008000\">'MainChain'</span>: <span style=\"font-weight: bold\">[</span><span style=\"color: #008000; text-decoration-color: #008000\">'C1-C2'</span>, <span style=\"color: #008000; text-decoration-color: #008000\">'C2-C3'</span>, <span style=\"color: #008000; text-decoration-color: #008000\">'C3*{Chain11}'</span>, <span style=\"color: #008000; text-decoration-color: #008000\">'C3-C4'</span>, <span style=\"color: #008000; text-decoration-color: #008000\">'C4*{Chain21}'</span>, <span style=\"color: #008000; text-decoration-color: #008000\">'C4-C5'</span>, <span style=\"color: #008000; text-decoration-color: #008000\">'C5-C6'</span><span style=\"font-weight: bold\">]</span>,\n",
       "    <span style=\"color: #008000; text-decoration-color: #008000\">'Chain11'</span>: <span style=\"font-weight: bold\">[</span><span style=\"color: #008000; text-decoration-color: #008000\">'C1=C2'</span>, <span style=\"color: #008000; text-decoration-color: #008000\">'C2-C3'</span>, <span style=\"color: #008000; text-decoration-color: #008000\">'C3=*'</span><span style=\"font-weight: bold\">]</span>,\n",
       "    <span style=\"color: #008000; text-decoration-color: #008000\">'Chain21'</span>: <span style=\"font-weight: bold\">[</span><span style=\"color: #008000; text-decoration-color: #008000\">'*-C1'</span>, <span style=\"color: #008000; text-decoration-color: #008000\">'C1=C2'</span>, <span style=\"color: #008000; text-decoration-color: #008000\">'C2-XX3'</span><span style=\"font-weight: bold\">]</span>\n",
       "<span style=\"font-weight: bold\">}</span>\n",
       "</pre>\n"
      ],
      "text/plain": [
       "\u001b[1m{\u001b[0m\n",
       "    \u001b[32m'MainChain'\u001b[0m: \u001b[1m[\u001b[0m\u001b[32m'C1-C2'\u001b[0m, \u001b[32m'C2-C3'\u001b[0m, \u001b[32m'C3*\u001b[0m\u001b[32m{\u001b[0m\u001b[32mChain11\u001b[0m\u001b[32m}\u001b[0m\u001b[32m'\u001b[0m, \u001b[32m'C3-C4'\u001b[0m, \u001b[32m'C4*\u001b[0m\u001b[32m{\u001b[0m\u001b[32mChain21\u001b[0m\u001b[32m}\u001b[0m\u001b[32m'\u001b[0m, \u001b[32m'C4-C5'\u001b[0m, \u001b[32m'C5-C6'\u001b[0m\u001b[1m]\u001b[0m,\n",
       "    \u001b[32m'Chain11'\u001b[0m: \u001b[1m[\u001b[0m\u001b[32m'\u001b[0m\u001b[32mC1\u001b[0m\u001b[32m=\u001b[0m\u001b[32mC2\u001b[0m\u001b[32m'\u001b[0m, \u001b[32m'C2-C3'\u001b[0m, \u001b[32m'\u001b[0m\u001b[32mC3\u001b[0m\u001b[32m=*'\u001b[0m\u001b[1m]\u001b[0m,\n",
       "    \u001b[32m'Chain21'\u001b[0m: \u001b[1m[\u001b[0m\u001b[32m'*-C1'\u001b[0m, \u001b[32m'\u001b[0m\u001b[32mC1\u001b[0m\u001b[32m=\u001b[0m\u001b[32mC2\u001b[0m\u001b[32m'\u001b[0m, \u001b[32m'C2-XX3'\u001b[0m\u001b[1m]\u001b[0m\n",
       "\u001b[1m}\u001b[0m\n"
      ]
     },
     "metadata": {},
     "output_type": "display_data"
    },
    {
     "data": {
      "text/html": [
       "<pre style=\"white-space:pre;overflow-x:auto;line-height:normal;font-family:Menlo,'DejaVu Sans Mono',consolas,'Courier New',monospace\">--------------------------------------------------\n",
       "</pre>\n"
      ],
      "text/plain": [
       "--------------------------------------------------\n"
      ]
     },
     "metadata": {},
     "output_type": "display_data"
    },
    {
     "data": {
      "text/html": [
       "<pre style=\"white-space:pre;overflow-x:auto;line-height:normal;font-family:Menlo,'DejaVu Sans Mono',consolas,'Courier New',monospace\"><span style=\"font-weight: bold\">(</span>\n",
       "    <span style=\"font-weight: bold\">{</span>\n",
       "        <span style=\"color: #008000; text-decoration-color: #008000\">'Chain11'</span>: <span style=\"font-weight: bold\">{</span><span style=\"color: #008000; text-decoration-color: #008000\">'bonds'</span>: <span style=\"font-weight: bold\">[</span><span style=\"color: #008000; text-decoration-color: #008000\">'C7=C8'</span>, <span style=\"color: #008000; text-decoration-color: #008000\">'C8-C9'</span><span style=\"font-weight: bold\">]</span>, <span style=\"color: #008000; text-decoration-color: #008000\">'gate'</span>: <span style=\"font-weight: bold\">[</span><span style=\"color: #008000; text-decoration-color: #008000\">'=C9'</span><span style=\"font-weight: bold\">]}</span>,\n",
       "        <span style=\"color: #008000; text-decoration-color: #008000\">'Chain21'</span>: <span style=\"font-weight: bold\">{</span><span style=\"color: #008000; text-decoration-color: #008000\">'bonds'</span>: <span style=\"font-weight: bold\">[</span><span style=\"color: #008000; text-decoration-color: #008000\">'C10=C11'</span>, <span style=\"color: #008000; text-decoration-color: #008000\">'C11-XX12'</span><span style=\"font-weight: bold\">]</span>, <span style=\"color: #008000; text-decoration-color: #008000\">'gate'</span>: <span style=\"font-weight: bold\">[</span><span style=\"color: #008000; text-decoration-color: #008000\">'C10-'</span><span style=\"font-weight: bold\">]}</span>\n",
       "    <span style=\"font-weight: bold\">}</span>,\n",
       "    <span style=\"font-weight: bold\">{</span>\n",
       "        <span style=\"color: #008000; text-decoration-color: #008000\">'MainChain'</span>: <span style=\"font-weight: bold\">[</span><span style=\"color: #008000; text-decoration-color: #008000\">'C1-C2'</span>, <span style=\"color: #008000; text-decoration-color: #008000\">'C2-C3'</span>, <span style=\"color: #008000; text-decoration-color: #008000\">'C3=C9'</span>, <span style=\"color: #008000; text-decoration-color: #008000\">'C3-C4'</span>, <span style=\"color: #008000; text-decoration-color: #008000\">'C10-C4'</span>, <span style=\"color: #008000; text-decoration-color: #008000\">'C4-C5'</span>, <span style=\"color: #008000; text-decoration-color: #008000\">'C5-C6'</span><span style=\"font-weight: bold\">]</span>,\n",
       "        <span style=\"color: #008000; text-decoration-color: #008000\">'Chain11'</span>: <span style=\"font-weight: bold\">[</span><span style=\"color: #008000; text-decoration-color: #008000\">'C7=C8'</span>, <span style=\"color: #008000; text-decoration-color: #008000\">'C8-C9'</span>, <span style=\"color: #008000; text-decoration-color: #008000\">'=C9'</span><span style=\"font-weight: bold\">]</span>,\n",
       "        <span style=\"color: #008000; text-decoration-color: #008000\">'Chain21'</span>: <span style=\"font-weight: bold\">[</span><span style=\"color: #008000; text-decoration-color: #008000\">'C10-'</span>, <span style=\"color: #008000; text-decoration-color: #008000\">'C10=C11'</span>, <span style=\"color: #008000; text-decoration-color: #008000\">'C11-XX12'</span><span style=\"font-weight: bold\">]</span>\n",
       "    <span style=\"font-weight: bold\">}</span>,\n",
       "    <span style=\"font-weight: bold\">[</span><span style=\"color: #008000; text-decoration-color: #008000\">'C1-C2'</span>, <span style=\"color: #008000; text-decoration-color: #008000\">'C2-C3'</span>, <span style=\"color: #008000; text-decoration-color: #008000\">'C3=C9'</span>, <span style=\"color: #008000; text-decoration-color: #008000\">'C3-C4'</span>, <span style=\"color: #008000; text-decoration-color: #008000\">'C10-C4'</span>, <span style=\"color: #008000; text-decoration-color: #008000\">'C4-C5'</span>, <span style=\"color: #008000; text-decoration-color: #008000\">'C5-C6'</span>, <span style=\"color: #008000; text-decoration-color: #008000\">'C7=C8'</span>, <span style=\"color: #008000; text-decoration-color: #008000\">'C8-C9'</span>, <span style=\"color: #008000; text-decoration-color: #008000\">'C10=C11'</span>, <span style=\"color: #008000; text-decoration-color: #008000\">'C11-XX12'</span><span style=\"font-weight: bold\">]</span>\n",
       "<span style=\"font-weight: bold\">)</span>\n",
       "</pre>\n"
      ],
      "text/plain": [
       "\u001b[1m(\u001b[0m\n",
       "    \u001b[1m{\u001b[0m\n",
       "        \u001b[32m'Chain11'\u001b[0m: \u001b[1m{\u001b[0m\u001b[32m'bonds'\u001b[0m: \u001b[1m[\u001b[0m\u001b[32m'\u001b[0m\u001b[32mC7\u001b[0m\u001b[32m=\u001b[0m\u001b[32mC8\u001b[0m\u001b[32m'\u001b[0m, \u001b[32m'C8-C9'\u001b[0m\u001b[1m]\u001b[0m, \u001b[32m'gate'\u001b[0m: \u001b[1m[\u001b[0m\u001b[32m'=C9'\u001b[0m\u001b[1m]\u001b[0m\u001b[1m}\u001b[0m,\n",
       "        \u001b[32m'Chain21'\u001b[0m: \u001b[1m{\u001b[0m\u001b[32m'bonds'\u001b[0m: \u001b[1m[\u001b[0m\u001b[32m'\u001b[0m\u001b[32mC10\u001b[0m\u001b[32m=\u001b[0m\u001b[32mC11\u001b[0m\u001b[32m'\u001b[0m, \u001b[32m'C11-XX12'\u001b[0m\u001b[1m]\u001b[0m, \u001b[32m'gate'\u001b[0m: \u001b[1m[\u001b[0m\u001b[32m'C10-'\u001b[0m\u001b[1m]\u001b[0m\u001b[1m}\u001b[0m\n",
       "    \u001b[1m}\u001b[0m,\n",
       "    \u001b[1m{\u001b[0m\n",
       "        \u001b[32m'MainChain'\u001b[0m: \u001b[1m[\u001b[0m\u001b[32m'C1-C2'\u001b[0m, \u001b[32m'C2-C3'\u001b[0m, \u001b[32m'\u001b[0m\u001b[32mC3\u001b[0m\u001b[32m=\u001b[0m\u001b[32mC9\u001b[0m\u001b[32m'\u001b[0m, \u001b[32m'C3-C4'\u001b[0m, \u001b[32m'C10-C4'\u001b[0m, \u001b[32m'C4-C5'\u001b[0m, \u001b[32m'C5-C6'\u001b[0m\u001b[1m]\u001b[0m,\n",
       "        \u001b[32m'Chain11'\u001b[0m: \u001b[1m[\u001b[0m\u001b[32m'\u001b[0m\u001b[32mC7\u001b[0m\u001b[32m=\u001b[0m\u001b[32mC8\u001b[0m\u001b[32m'\u001b[0m, \u001b[32m'C8-C9'\u001b[0m, \u001b[32m'=C9'\u001b[0m\u001b[1m]\u001b[0m,\n",
       "        \u001b[32m'Chain21'\u001b[0m: \u001b[1m[\u001b[0m\u001b[32m'C10-'\u001b[0m, \u001b[32m'\u001b[0m\u001b[32mC10\u001b[0m\u001b[32m=\u001b[0m\u001b[32mC11\u001b[0m\u001b[32m'\u001b[0m, \u001b[32m'C11-XX12'\u001b[0m\u001b[1m]\u001b[0m\n",
       "    \u001b[1m}\u001b[0m,\n",
       "    \u001b[1m[\u001b[0m\u001b[32m'C1-C2'\u001b[0m, \u001b[32m'C2-C3'\u001b[0m, \u001b[32m'\u001b[0m\u001b[32mC3\u001b[0m\u001b[32m=\u001b[0m\u001b[32mC9\u001b[0m\u001b[32m'\u001b[0m, \u001b[32m'C3-C4'\u001b[0m, \u001b[32m'C10-C4'\u001b[0m, \u001b[32m'C4-C5'\u001b[0m, \u001b[32m'C5-C6'\u001b[0m, \u001b[32m'\u001b[0m\u001b[32mC7\u001b[0m\u001b[32m=\u001b[0m\u001b[32mC8\u001b[0m\u001b[32m'\u001b[0m, \u001b[32m'C8-C9'\u001b[0m, \u001b[32m'\u001b[0m\u001b[32mC10\u001b[0m\u001b[32m=\u001b[0m\u001b[32mC11\u001b[0m\u001b[32m'\u001b[0m, \u001b[32m'C11-XX12'\u001b[0m\u001b[1m]\u001b[0m\n",
       "\u001b[1m)\u001b[0m\n"
      ]
     },
     "metadata": {},
     "output_type": "display_data"
    }
   ],
   "source": [
    "# source\n",
    "print(molecule_src)\n",
    "print(\"-\"*50)\n",
    "print(molecule_src_checked)\n",
    "print(\"-\"*50)\n",
    "# test\n",
    "print(construct_molecule(molecule_src_checked))"
   ]
  }
 ],
 "metadata": {
  "kernelspec": {
   "display_name": "venv (3.11.8)",
   "language": "python",
   "name": "python3"
  },
  "language_info": {
   "codemirror_mode": {
    "name": "ipython",
    "version": 3
   },
   "file_extension": ".py",
   "mimetype": "text/x-python",
   "name": "python",
   "nbconvert_exporter": "python",
   "pygments_lexer": "ipython3",
   "version": "3.11.8"
  }
 },
 "nbformat": 4,
 "nbformat_minor": 2
}
