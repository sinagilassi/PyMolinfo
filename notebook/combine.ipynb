{
 "cells": [
  {
   "cell_type": "markdown",
   "metadata": {},
   "source": [
    "# Import Libs"
   ]
  },
  {
   "cell_type": "code",
   "execution_count": 1,
   "metadata": {},
   "outputs": [],
   "source": [
    "# import libs\n",
    "import re\n",
    "from rich import print"
   ]
  },
  {
   "cell_type": "markdown",
   "metadata": {},
   "source": [
    "# Combine Functional Gorups"
   ]
  },
  {
   "cell_type": "code",
   "execution_count": 2,
   "metadata": {},
   "outputs": [
    {
     "data": {
      "text/html": [
       "<pre style=\"white-space:pre;overflow-x:auto;line-height:normal;font-family:Menlo,'DejaVu Sans Mono',consolas,'Courier New',monospace\">Chain1: <span style=\"font-weight: bold\">[</span><span style=\"color: #008000; text-decoration-color: #008000\">'C1=C2'</span>, <span style=\"color: #008000; text-decoration-color: #008000\">'C2-{1}'</span>, <span style=\"color: #008000; text-decoration-color: #008000\">'C3=C4'</span>, <span style=\"color: #008000; text-decoration-color: #008000\">'C4-C5'</span>, <span style=\"color: #008000; text-decoration-color: #008000\">'C5=C6'</span>, <span style=\"color: #008000; text-decoration-color: #008000\">'C6-C1'</span><span style=\"font-weight: bold\">]</span>\n",
       "</pre>\n"
      ],
      "text/plain": [
       "Chain1: \u001b[1m[\u001b[0m\u001b[32m'\u001b[0m\u001b[32mC1\u001b[0m\u001b[32m=\u001b[0m\u001b[32mC2\u001b[0m\u001b[32m'\u001b[0m, \u001b[32m'C2-\u001b[0m\u001b[32m{\u001b[0m\u001b[32m1\u001b[0m\u001b[32m}\u001b[0m\u001b[32m'\u001b[0m, \u001b[32m'\u001b[0m\u001b[32mC3\u001b[0m\u001b[32m=\u001b[0m\u001b[32mC4\u001b[0m\u001b[32m'\u001b[0m, \u001b[32m'C4-C5'\u001b[0m, \u001b[32m'\u001b[0m\u001b[32mC5\u001b[0m\u001b[32m=\u001b[0m\u001b[32mC6\u001b[0m\u001b[32m'\u001b[0m, \u001b[32m'C6-C1'\u001b[0m\u001b[1m]\u001b[0m\n"
      ]
     },
     "metadata": {},
     "output_type": "display_data"
    },
    {
     "data": {
      "text/html": [
       "<pre style=\"white-space:pre;overflow-x:auto;line-height:normal;font-family:Menlo,'DejaVu Sans Mono',consolas,'Courier New',monospace\">Chain2: <span style=\"font-weight: bold\">[</span><span style=\"color: #008000; text-decoration-color: #008000\">'XX1-C2'</span>, <span style=\"color: #008000; text-decoration-color: #008000\">'{1}-C2'</span>, <span style=\"color: #008000; text-decoration-color: #008000\">'C2=C3'</span>, <span style=\"color: #008000; text-decoration-color: #008000\">'C3-XX4'</span><span style=\"font-weight: bold\">]</span>\n",
       "</pre>\n"
      ],
      "text/plain": [
       "Chain2: \u001b[1m[\u001b[0m\u001b[32m'XX1-C2'\u001b[0m, \u001b[32m'\u001b[0m\u001b[32m{\u001b[0m\u001b[32m1\u001b[0m\u001b[32m}\u001b[0m\u001b[32m-C2'\u001b[0m, \u001b[32m'\u001b[0m\u001b[32mC2\u001b[0m\u001b[32m=\u001b[0m\u001b[32mC3\u001b[0m\u001b[32m'\u001b[0m, \u001b[32m'C3-XX4'\u001b[0m\u001b[1m]\u001b[0m\n"
      ]
     },
     "metadata": {},
     "output_type": "display_data"
    },
    {
     "data": {
      "text/html": [
       "<pre style=\"white-space:pre;overflow-x:auto;line-height:normal;font-family:Menlo,'DejaVu Sans Mono',consolas,'Courier New',monospace\">Chain3: <span style=\"font-weight: bold\">[</span><span style=\"color: #008000; text-decoration-color: #008000\">'C1-C2'</span>, <span style=\"color: #008000; text-decoration-color: #008000\">'C2-C3'</span>, <span style=\"color: #008000; text-decoration-color: #008000\">'C3*{Chain11}'</span>, <span style=\"color: #008000; text-decoration-color: #008000\">'C3-C4'</span>, <span style=\"color: #008000; text-decoration-color: #008000\">'C4*{Chain21}'</span>, <span style=\"color: #008000; text-decoration-color: #008000\">'C4-C5'</span>, <span style=\"color: #008000; text-decoration-color: #008000\">'C5-C6'</span><span style=\"font-weight: bold\">]</span>\n",
       "</pre>\n"
      ],
      "text/plain": [
       "Chain3: \u001b[1m[\u001b[0m\u001b[32m'C1-C2'\u001b[0m, \u001b[32m'C2-C3'\u001b[0m, \u001b[32m'C3*\u001b[0m\u001b[32m{\u001b[0m\u001b[32mChain11\u001b[0m\u001b[32m}\u001b[0m\u001b[32m'\u001b[0m, \u001b[32m'C3-C4'\u001b[0m, \u001b[32m'C4*\u001b[0m\u001b[32m{\u001b[0m\u001b[32mChain21\u001b[0m\u001b[32m}\u001b[0m\u001b[32m'\u001b[0m, \u001b[32m'C4-C5'\u001b[0m, \u001b[32m'C5-C6'\u001b[0m\u001b[1m]\u001b[0m\n"
      ]
     },
     "metadata": {},
     "output_type": "display_data"
    }
   ],
   "source": [
    "Chain1 = [\"C1=C2\", \"C2-{1}\", \"C3=C4\", \"C4-C5\", \"C5=C6\", \"C6-C1\"]\n",
    "Chain2 = [\"XX1-C2\", \"{1}-C2\", \"C2=C3\", \"C3-XX4\"]\n",
    "Chain3 = ['C1-C2', 'C2-C3', 'C3*{Chain11}', 'C3-C4', 'C4*{Chain21}', 'C4-C5', 'C5-C6']\n",
    "\n",
    "# log res\n",
    "print(f\"Chain1: {Chain1}\")\n",
    "print(f\"Chain2: {Chain2}\")\n",
    "print(f\"Chain3: {Chain3}\")"
   ]
  },
  {
   "cell_type": "markdown",
   "metadata": {},
   "source": [
    "## Extract Highest Index"
   ]
  },
  {
   "cell_type": "code",
   "execution_count": 3,
   "metadata": {},
   "outputs": [],
   "source": [
    "def extract_highest_index(chain):\n",
    "    \"\"\"\n",
    "    Extracts the highest numerical index from atom labels in the given chain.\n",
    "\n",
    "    Parameters\n",
    "    ----------\n",
    "    chain : list\n",
    "        A list of strings representing bonds between atoms in a chain.\n",
    "\n",
    "    Returns\n",
    "    -------\n",
    "    int\n",
    "        The highest numerical index found in the chain.\n",
    "    \"\"\"\n",
    "    indices = []\n",
    "    for bond in chain:\n",
    "        atoms = re.findall(r'[A-Za-z]+(\\d+)', bond)  # Extract numbers from atoms\n",
    "        if '{' in bond or '}' in bond:\n",
    "            continue  # Ignore bonds containing {Chain..}\n",
    "        indices.extend(map(int, atoms))\n",
    "    return max(indices) if indices else 0"
   ]
  },
  {
   "cell_type": "code",
   "execution_count": 18,
   "metadata": {},
   "outputs": [
    {
     "data": {
      "text/html": [
       "<pre style=\"white-space:pre;overflow-x:auto;line-height:normal;font-family:Menlo,'DejaVu Sans Mono',consolas,'Courier New',monospace\">Extracted highest index from Chain1: <span style=\"color: #008080; text-decoration-color: #008080; font-weight: bold\">6</span>, <span style=\"font-weight: bold\">&lt;</span><span style=\"color: #ff00ff; text-decoration-color: #ff00ff; font-weight: bold\">class</span><span style=\"color: #000000; text-decoration-color: #000000\"> </span><span style=\"color: #008000; text-decoration-color: #008000\">'int'</span><span style=\"font-weight: bold\">&gt;</span>\n",
       "</pre>\n"
      ],
      "text/plain": [
       "Extracted highest index from Chain1: \u001b[1;36m6\u001b[0m, \u001b[1m<\u001b[0m\u001b[1;95mclass\u001b[0m\u001b[39m \u001b[0m\u001b[32m'int'\u001b[0m\u001b[1m>\u001b[0m\n"
      ]
     },
     "metadata": {},
     "output_type": "display_data"
    },
    {
     "data": {
      "text/html": [
       "<pre style=\"white-space:pre;overflow-x:auto;line-height:normal;font-family:Menlo,'DejaVu Sans Mono',consolas,'Courier New',monospace\">Extracted highest index from Chain2: <span style=\"color: #008080; text-decoration-color: #008080; font-weight: bold\">4</span>\n",
       "</pre>\n"
      ],
      "text/plain": [
       "Extracted highest index from Chain2: \u001b[1;36m4\u001b[0m\n"
      ]
     },
     "metadata": {},
     "output_type": "display_data"
    },
    {
     "data": {
      "text/html": [
       "<pre style=\"white-space:pre;overflow-x:auto;line-height:normal;font-family:Menlo,'DejaVu Sans Mono',consolas,'Courier New',monospace\">Extracted highest index from Chain3: <span style=\"color: #008080; text-decoration-color: #008080; font-weight: bold\">6</span>\n",
       "</pre>\n"
      ],
      "text/plain": [
       "Extracted highest index from Chain3: \u001b[1;36m6\u001b[0m\n"
      ]
     },
     "metadata": {},
     "output_type": "display_data"
    }
   ],
   "source": [
    "# check\n",
    "print(f\"Extracted highest index from Chain1: {extract_highest_index(Chain1)}, {type(extract_highest_index(Chain1))}\")\n",
    "print(f\"Extracted highest index from Chain2: {extract_highest_index(Chain2)}\")\n",
    "print(f\"Extracted highest index from Chain3: {extract_highest_index(Chain3)}\")"
   ]
  },
  {
   "cell_type": "markdown",
   "metadata": {},
   "source": [
    "## Combine Groups"
   ]
  },
  {
   "cell_type": "code",
   "execution_count": 25,
   "metadata": {},
   "outputs": [],
   "source": [
    "# source\n",
    "molecule_src = {\n",
    "    'MainChain': [\"C1-C2\",\"C2-C3\",\"C3*{Chain1}\",\"C3-C4\",\"C4*{Chain2}\",\"C4-C5\",\"C5-C6\"],\n",
    "    'Chain1': [\"C1=C2\",\"C2-C3\",\"C3=*\"],\n",
    "    'Chain2' : [\"*-C1\",\"C1=C2\",\"C2-XX3\"]\n",
    "}"
   ]
  },
  {
   "cell_type": "code",
   "execution_count": 34,
   "metadata": {},
   "outputs": [],
   "source": [
    "molecule_src = {\n",
    "    'MainChain': [\"C1*{Chain1}\",\"C1-C2\",\"C2*{Chain2}\"],\n",
    "    'Chain1': [\"*-C1\",\"C1=C2\",\"C2-C3\",\"C3=C4\",\"C4-C5\",\"C5=*\"],\n",
    "    'Chain2': [\"*-C1\",\"C1=C2\",\"C2-C3\",\"C3=C4\",\"C4-C5\",\"C5=*\"],\n",
    "}"
   ]
  },
  {
   "cell_type": "code",
   "execution_count": 46,
   "metadata": {},
   "outputs": [],
   "source": [
    "molecule_src = {\n",
    "    'MainChain': [\"C1*{Chain1}\", \"C1-C2\", \"C2*{Chain2}\"],\n",
    "    'Chain1': [\"*-C1\", \"C1=C2\", \"C2-C3\", \"C3=XX4\"],\n",
    "    'Chain2': [\"XX1-C2\", \"C2=C3\", \"C3-C4\", \"C4=*\"],\n",
    "}"
   ]
  },
  {
   "cell_type": "code",
   "execution_count": null,
   "metadata": {},
   "outputs": [],
   "source": [
    "molecule_src = {\n",
    "    'MainChain': [\"C1*{Chain1}\", \"C1-C2\", \"C2*{Chain2}\", \"C2-C3\", \"C3=*\"],\n",
    "    'Chain1': [\"*-C1\", \"C1=C2\", \"C2-C3\", \"C3=*\"],\n",
    "    'Chain2': [\"*-C1\", \"C1=C2\", \"C2-C3\", \"C3=*\"],\n",
    "    'Chain3': [\"*-C1\", \"C1=C2\", \"C2-C3\", \"C3=XX4\"],\n",
    "}"
   ]
  },
  {
   "cell_type": "code",
   "execution_count": 6,
   "metadata": {},
   "outputs": [],
   "source": [
    "# naphthalene\n",
    "molecule_src = {\n",
    "    'MainChain': [\"C1-C2\", \"C2=C3\", \"C3-C4\", \"C4=C5\", \"C5-C6\", \"C6=C1\", \"C1*{Chain1}\", \"C6*{Chain1}\"],\n",
    "    'Chain1': [\"*-C1\", \"C1=C2\", \"C2-C3\", \"C3=C4\", \"C4-**\"],\n",
    "}"
   ]
  },
  {
   "cell_type": "markdown",
   "metadata": {},
   "source": [
    "### Search For Main Chain"
   ]
  },
  {
   "cell_type": "code",
   "execution_count": 5,
   "metadata": {},
   "outputs": [],
   "source": [
    "def search_for_main_chain(molecule_src):\n",
    "    \"\"\"\n",
    "    Searches for the main chain in the molecule source.\n",
    "\n",
    "    Parameters\n",
    "    ----------\n",
    "    molecule_src : dict\n",
    "        A dictionary containing lists of strings representing bonds between atoms in a molecule.\n",
    "\n",
    "    Returns\n",
    "    -------\n",
    "    str\n",
    "        The name of the main chain found in the molecule source.\n",
    "    \"\"\"\n",
    "    for key, chain in molecule_src.items():\n",
    "        # create a pattern to match the main chain\n",
    "        pattern1 = re.compile(r'\\{.*?\\}\\*.*')\n",
    "        pattern2 = re.compile(r'.*\\*\\{.*?\\}')\n",
    "\n",
    "        # check if the main chain is found\n",
    "        if any(pattern1.match(bond) or pattern2.match(bond) for bond in chain):\n",
    "            return key\n",
    "    return None"
   ]
  },
  {
   "cell_type": "code",
   "execution_count": 8,
   "metadata": {},
   "outputs": [
    {
     "data": {
      "text/html": [
       "<pre style=\"white-space:pre;overflow-x:auto;line-height:normal;font-family:Menlo,'DejaVu Sans Mono',consolas,'Courier New',monospace\">Main chain found: MainChain\n",
       "</pre>\n"
      ],
      "text/plain": [
       "Main chain found: MainChain\n"
      ]
     },
     "metadata": {},
     "output_type": "display_data"
    }
   ],
   "source": [
    "# test\n",
    "print(f\"Main chain found: {search_for_main_chain(molecule_src)}\")"
   ]
  },
  {
   "cell_type": "markdown",
   "metadata": {},
   "source": [
    "### Check Molecule"
   ]
  },
  {
   "cell_type": "code",
   "execution_count": 6,
   "metadata": {},
   "outputs": [],
   "source": [
    "def check_molecule(molecule_src):\n",
    "    \"\"\"\n",
    "    Checks if the molecule source is valid.\n",
    "\n",
    "    Parameters\n",
    "    ----------\n",
    "    molecule_src : dict\n",
    "        A dictionary containing lists of strings representing bonds between atoms in a molecule.\n",
    "\n",
    "    Returns\n",
    "    -------\n",
    "    bool\n",
    "        True if the molecule source is valid, False otherwise.\n",
    "    \"\"\"\n",
    "    # create a copy of the molecule source\n",
    "    molecule = {key: chain.copy() for key, chain in molecule_src.items()}\n",
    "\n",
    "    # checked molecule source\n",
    "    molecule_src_checked = {}\n",
    "\n",
    "    # check if the main chain is found\n",
    "    main_chain = search_for_main_chain(molecule)\n",
    "    if not main_chain:\n",
    "        raise ValueError(\"Main chain not found in the molecule source.\")\n",
    "\n",
    "    # add the main chain to the checked molecule source\n",
    "    molecule_src_checked[main_chain] = molecule[main_chain]\n",
    "\n",
    "    # main chain bonds\n",
    "    main_chain_bonds = molecule[main_chain]\n",
    "\n",
    "    # chain counter\n",
    "    chain_counter = 0\n",
    "\n",
    "    # chain type\n",
    "    chain_types = {\n",
    "        \"1\": 'branch',\n",
    "        \"2\": 'ring',\n",
    "        \"3\": 'bridge',\n",
    "    }\n",
    "\n",
    "    # chain analysis\n",
    "    chain_analysis = {}\n",
    "\n",
    "    # looping through the molecule source\n",
    "    for key, chain in molecule.items():\n",
    "        if key != main_chain:\n",
    "\n",
    "            # TODO: check chain types\n",
    "            # print(f\"Chain: {chain}\")\n",
    "            chain_gate_num = sum(item.count('*') for item in chain)\n",
    "            # print(f\"Chain gate num: {chain_gate_num}\")\n",
    "            # print(f\"Chain types: {chain_types[str(chain_gate_num)]}\")\n",
    "\n",
    "            # save\n",
    "            chain_analysis[key] = chain_types[str(chain_gate_num)]\n",
    "\n",
    "    # log\n",
    "    # print(f\"Chain analysis: {chain_analysis}\")\n",
    "\n",
    "    # looping through the molecule source\n",
    "    for key, chain in molecule.items():\n",
    "        if key != main_chain:\n",
    "            # check if the chain is connected to the main chain\n",
    "            # SECTION: create pattern to match the main chain\n",
    "            pattern_gate = rf\"([A-Za-z]+)(\\d+)\\*\\{{({re.escape(key)})\\}}\"\n",
    "\n",
    "            # looping through the main chain bonds\n",
    "            for i, bond in enumerate(main_chain_bonds):\n",
    "                # print(f\"i: {i}\")\n",
    "                # print(f\"Bond: {bond}\")\n",
    "                match = re.match(pattern_gate, bond)\n",
    "                # check\n",
    "                if match:\n",
    "                    # print(f\"chain_analysis: {chain_analysis[key]}\")\n",
    "                    # TODO: check chain types\n",
    "                    if chain_analysis[key] == 'branch' or chain_analysis[key] == 'ring':\n",
    "                        # update chain counter\n",
    "                        chain_counter += 1\n",
    "                    elif chain_analysis[key] == 'bridge':\n",
    "                        # reset chain counter\n",
    "                        chain_counter = 1\n",
    "\n",
    "                    # extract the matched chain\n",
    "                    atom, index, key_chain = match.groups()\n",
    "                    # print(f\"Atom: {atom}\")\n",
    "                    # print(f\"Index: {index}\")\n",
    "                    # print(f\"Key chain: {key_chain}\")\n",
    "                    # rename key\n",
    "                    key_ = key_chain + str(chain_counter)\n",
    "                    # print(f\"Key: {key_}\")\n",
    "\n",
    "                    # add the chain to the checked molecule source\n",
    "                    molecule_src_checked[key_] = chain\n",
    "                    # print(f\"Molecule source checked: {molecule_src_checked}\")\n",
    "                    # update the element in the main chain\n",
    "                    main_chain_bonds[i] = atom+index+\"*{\"+key_+\"}\"\n",
    "                    # print(f\"Main chain bonds: {main_chain_bonds}\")\n",
    "\n",
    "            # reset chain counter\n",
    "            chain_counter = 0\n",
    "\n",
    "    # res\n",
    "    return molecule_src_checked"
   ]
  },
  {
   "cell_type": "code",
   "execution_count": 10,
   "metadata": {},
   "outputs": [
    {
     "data": {
      "text/html": [
       "<pre style=\"white-space:pre;overflow-x:auto;line-height:normal;font-family:Menlo,'DejaVu Sans Mono',consolas,'Courier New',monospace\"><span style=\"font-weight: bold\">{</span>\n",
       "    <span style=\"color: #008000; text-decoration-color: #008000\">'MainChain'</span>: <span style=\"font-weight: bold\">[</span><span style=\"color: #008000; text-decoration-color: #008000\">'C1-C2'</span>, <span style=\"color: #008000; text-decoration-color: #008000\">'C2=C3'</span>, <span style=\"color: #008000; text-decoration-color: #008000\">'C3-C4'</span>, <span style=\"color: #008000; text-decoration-color: #008000\">'C4=C5'</span>, <span style=\"color: #008000; text-decoration-color: #008000\">'C5-C6'</span>, <span style=\"color: #008000; text-decoration-color: #008000\">'C6=C1'</span>, <span style=\"color: #008000; text-decoration-color: #008000\">'C1*{Chain11}'</span>, <span style=\"color: #008000; text-decoration-color: #008000\">'C6*{Chain11}'</span><span style=\"font-weight: bold\">]</span>,\n",
       "    <span style=\"color: #008000; text-decoration-color: #008000\">'Chain11'</span>: <span style=\"font-weight: bold\">[</span><span style=\"color: #008000; text-decoration-color: #008000\">'*-C1'</span>, <span style=\"color: #008000; text-decoration-color: #008000\">'C1=C2'</span>, <span style=\"color: #008000; text-decoration-color: #008000\">'C2-C3'</span>, <span style=\"color: #008000; text-decoration-color: #008000\">'C3=C4'</span>, <span style=\"color: #008000; text-decoration-color: #008000\">'C4-**'</span><span style=\"font-weight: bold\">]</span>\n",
       "<span style=\"font-weight: bold\">}</span>\n",
       "</pre>\n"
      ],
      "text/plain": [
       "\u001b[1m{\u001b[0m\n",
       "    \u001b[32m'MainChain'\u001b[0m: \u001b[1m[\u001b[0m\u001b[32m'C1-C2'\u001b[0m, \u001b[32m'\u001b[0m\u001b[32mC2\u001b[0m\u001b[32m=\u001b[0m\u001b[32mC3\u001b[0m\u001b[32m'\u001b[0m, \u001b[32m'C3-C4'\u001b[0m, \u001b[32m'\u001b[0m\u001b[32mC4\u001b[0m\u001b[32m=\u001b[0m\u001b[32mC5\u001b[0m\u001b[32m'\u001b[0m, \u001b[32m'C5-C6'\u001b[0m, \u001b[32m'\u001b[0m\u001b[32mC6\u001b[0m\u001b[32m=\u001b[0m\u001b[32mC1\u001b[0m\u001b[32m'\u001b[0m, \u001b[32m'C1*\u001b[0m\u001b[32m{\u001b[0m\u001b[32mChain11\u001b[0m\u001b[32m}\u001b[0m\u001b[32m'\u001b[0m, \u001b[32m'C6*\u001b[0m\u001b[32m{\u001b[0m\u001b[32mChain11\u001b[0m\u001b[32m}\u001b[0m\u001b[32m'\u001b[0m\u001b[1m]\u001b[0m,\n",
       "    \u001b[32m'Chain11'\u001b[0m: \u001b[1m[\u001b[0m\u001b[32m'*-C1'\u001b[0m, \u001b[32m'\u001b[0m\u001b[32mC1\u001b[0m\u001b[32m=\u001b[0m\u001b[32mC2\u001b[0m\u001b[32m'\u001b[0m, \u001b[32m'C2-C3'\u001b[0m, \u001b[32m'\u001b[0m\u001b[32mC3\u001b[0m\u001b[32m=\u001b[0m\u001b[32mC4\u001b[0m\u001b[32m'\u001b[0m, \u001b[32m'C4-**'\u001b[0m\u001b[1m]\u001b[0m\n",
       "\u001b[1m}\u001b[0m\n"
      ]
     },
     "metadata": {},
     "output_type": "display_data"
    }
   ],
   "source": [
    "# naphthalene\n",
    "molecule_src = {\n",
    "    'MainChain': [\"C1-C2\", \"C2=C3\", \"C3-C4\", \"C4=C5\", \"C5-C6\", \"C6=C1\", \"C1*{Chain1}\", \"C6*{Chain1}\"],\n",
    "    'Chain1': [\"*-C1\", \"C1=C2\", \"C2-C3\", \"C3=C4\", \"C4-**\"],\n",
    "}\n",
    "\n",
    "# molecule_src = {\n",
    "#     'MainChain': [\"C1*{Chain1}\", \"C1-C2\", \"C2*{Chain2}\", \"C2-C3\", \"C3=*\"],\n",
    "#     'Chain1': [\"*-C1\", \"C1=C2\", \"C2-C3\", \"C3=*\"],\n",
    "#     'Chain2': [\"*-C1\", \"C1=C2\", \"C2-C3\", \"C3=*\"],\n",
    "#     'Chain3': [\"*-C1\", \"C1=C2\", \"C2-C3\", \"C3=XX4\"],\n",
    "# }\n",
    "\n",
    "# molecule_src = {\n",
    "#     'MainChain': [\"C1*{Chain1}\", \"C1-C2\", \"C2*{Chain2}\",\"C3*{Chain2}\"],\n",
    "#     'Chain1': [\"*-C1\", \"C1=C2\", \"C2-C3\", \"C3=XX4\"],\n",
    "#     'Chain2': [\"*-C2\", \"C2=C3\", \"C3-C4\", \"C4=**\"],\n",
    "# }\n",
    "\n",
    "# test\n",
    "molecule_src_checked = check_molecule(molecule_src)\n",
    "print(molecule_src_checked)"
   ]
  },
  {
   "cell_type": "markdown",
   "metadata": {},
   "source": [
    "### Construct Molecule"
   ]
  },
  {
   "cell_type": "markdown",
   "metadata": {},
   "source": [
    "#### `Code 1`"
   ]
  },
  {
   "cell_type": "code",
   "execution_count": 13,
   "metadata": {},
   "outputs": [],
   "source": [
    "def construct_molecule(molecule_src):\n",
    "    \"\"\"\n",
    "    Constructs the molecule from the given molecule source.\n",
    "\n",
    "    Parameters\n",
    "    ----------\n",
    "    molecule_src : dict\n",
    "        A dictionary containing lists of strings representing bonds between atoms in a molecule.\n",
    "\n",
    "    Returns\n",
    "    -------\n",
    "    dict\n",
    "        A dictionary containing lists of strings representing bonds between atoms in a molecule.\n",
    "    \"\"\"\n",
    "    # create a copy of the molecule source\n",
    "    molecule = {key: chain.copy() for key, chain in molecule_src.items()}\n",
    "    # print(f'molecule: {molecule}')\n",
    "\n",
    "    # search for the main chain\n",
    "    main_chain = search_for_main_chain(molecule)\n",
    "    # print(f'main_chain: {main_chain}')\n",
    "\n",
    "    chain_info = {}\n",
    "\n",
    "    # reset\n",
    "    highest_index = 0\n",
    "\n",
    "    # check if the main chain is found\n",
    "    if main_chain:\n",
    "        # get the highest index from the main chain\n",
    "        highest_index = extract_highest_index(molecule[main_chain])\n",
    "        # print(f'highest_index: {highest_index}')\n",
    "\n",
    "\n",
    "        # update index of other chains\n",
    "        for key, chain in molecule.items():\n",
    "            if key != main_chain:\n",
    "                # create chain info\n",
    "                chain_info[key] = {\n",
    "                    'bonds': [],\n",
    "                    'gate': []\n",
    "                }\n",
    "\n",
    "                # update the index of the chain\n",
    "                for i, bond in enumerate(chain):\n",
    "\n",
    "                    # SECTION: define pattern to match bonds\n",
    "                    pattern = r\"([A-Za-z]+)(\\d+)([-=#])([A-Za-z]+)(\\d+)\"\n",
    "                    # match the pattern\n",
    "                    match_bond = re.match(pattern, bond)\n",
    "                    # augment the index\n",
    "                    if match_bond:\n",
    "                        # extract atoms and indices\n",
    "                        atom1, index1, bond_order, atom2, index2 = match_bond.groups()\n",
    "                        # update the index\n",
    "                        index1 = str(int(index1) + highest_index)\n",
    "                        index2 = str(int(index2) + highest_index)\n",
    "                        # update the bond\n",
    "                        molecule[key][i] = f\"{atom1}{index1}{bond_order}{atom2}{index2}\"\n",
    "                        # update the chain info\n",
    "                        chain_info[key]['bonds'].append(molecule[key][i])\n",
    "\n",
    "\n",
    "                    # SECTION: gate pattern\n",
    "                    pattern_gate = r\"([A-Za-z]+)(\\d+)([-=#])\\*\"\n",
    "                    # match the pattern\n",
    "                    match_gate = re.match(pattern_gate, bond)\n",
    "                    # augment the index\n",
    "                    if match_gate:\n",
    "                        # extract atoms and indices\n",
    "                        atom1, index1, bond_order = match_gate.groups()\n",
    "                        # update the index\n",
    "                        index1 = str(int(index1) + highest_index)\n",
    "                        # update the bond\n",
    "                        molecule[key][i] = f\"{bond_order}{atom1}{index1}\"\n",
    "                        # update the chain info\n",
    "                        chain_info[key]['gate'].append(molecule[key][i])\n",
    "\n",
    "                    # SECTION: gate pattern\n",
    "                    pattern_gate = r\"\\*([-=#])([A-Za-z]+)(\\d+)\"\n",
    "                    # match the pattern\n",
    "                    match_gate = re.match(pattern_gate, bond)\n",
    "                    # augment the index\n",
    "                    if match_gate:\n",
    "                        # extract atoms and indices\n",
    "                        bond_order, atom1, index1 = match_gate.groups()\n",
    "                        # update the index\n",
    "                        index1 = str(int(index1) + highest_index)\n",
    "                        # update the bond\n",
    "                        molecule[key][i] = f\"{atom1}{index1}{bond_order}\"\n",
    "                        # update the chain info\n",
    "                        chain_info[key]['gate'].append(molecule[key][i])\n",
    "\n",
    "                # update highest index\n",
    "                highest_index = int(index1)\n",
    "                # print(f\"highest_index: {highest_index}\")\n",
    "\n",
    "    # log molecule\n",
    "    # print(f\"molecule: {molecule}\")\n",
    "\n",
    "    # gat index\n",
    "    gate_index = 0\n",
    "\n",
    "    # combine the main chain and other chains\n",
    "    constructed_molecule = []\n",
    "    # find the gate atoms\n",
    "    for items in molecule[main_chain]:\n",
    "        # SECTION: define pattern\n",
    "        pattern_gate = r\"([A-Za-z]+)(\\d+)\\*\\{([A-Za-z0-9]+)\\}\"\n",
    "        # match the pattern\n",
    "        match_gate = re.match(pattern_gate, items)\n",
    "        # extract the gate atoms\n",
    "        if match_gate:\n",
    "            # extract atoms and indices\n",
    "            atom1, index1, gate = match_gate.groups()\n",
    "            # find element index in molecule['main_chain']\n",
    "            element_index = molecule[main_chain].index(items)\n",
    "            # update\n",
    "            # check start with letter or number\n",
    "            if chain_info[gate]['gate'][gate_index].startswith(('-','=','#')):\n",
    "                molecule[main_chain][element_index] = f\"{atom1}{index1}{chain_info[gate]['gate'][gate_index]}\"\n",
    "            else:\n",
    "                molecule[main_chain][element_index] = f\"{chain_info[gate]['gate'][gate_index]}{atom1}{index1}\"\n",
    "\n",
    "            # update gate index\n",
    "            # gate_index += 1\n",
    "\n",
    "        pattern_gate = r\"\\{([A-Za-z0-9]+)\\}\\*([A-Za-z]+)(\\d+)\"\n",
    "        # match the pattern\n",
    "        match_gate = re.match(pattern_gate, items)\n",
    "        # extract the gate atoms\n",
    "        if match_gate:\n",
    "            # extract atoms and indices\n",
    "            gate, atom1, index1 = match_gate.groups()\n",
    "            # find element index in molecule['main_chain']\n",
    "            element_index = molecule[main_chain].index(items)\n",
    "            # update\n",
    "            # check start with letter or number\n",
    "            if chain_info[gate]['gate'][gate_index].startswith(('-','=','#')):\n",
    "                molecule[main_chain][element_index] = f\"{atom1}{index1}{chain_info[gate]['gate'][gate_index]}\"\n",
    "            else:\n",
    "                molecule[main_chain][element_index] = f\"{chain_info[gate]['gate'][gate_index]}{atom1}{index1}\"\n",
    "\n",
    "            # update gate index\n",
    "            # gate_index += 1\n",
    "\n",
    "    # combine the main chain and other chains\n",
    "    for key, chain in molecule.items():\n",
    "        if key == main_chain:\n",
    "            constructed_molecule.extend(chain)\n",
    "\n",
    "    # chain info\n",
    "    for key, chain in chain_info.items():\n",
    "        constructed_molecule.extend(chain['bonds'])\n",
    "\n",
    "    return chain_info, molecule, constructed_molecule\n"
   ]
  },
  {
   "cell_type": "markdown",
   "metadata": {},
   "source": [
    "#### `Code 2`"
   ]
  },
  {
   "cell_type": "code",
   "execution_count": null,
   "metadata": {},
   "outputs": [],
   "source": [
    "def construct_molecule_v2(molecule_src):\n",
    "    \"\"\"\n",
    "    Constructs the molecule from the given molecule source.\n",
    "\n",
    "    Parameters\n",
    "    ----------\n",
    "    molecule_src : dict\n",
    "        A dictionary containing lists of strings representing bonds between atoms in a molecule.\n",
    "\n",
    "    Returns\n",
    "    -------\n",
    "    dict\n",
    "        A dictionary containing lists of strings representing bonds between atoms in a molecule.\n",
    "    \"\"\"\n",
    "    # create a copy of the molecule source\n",
    "    molecule = {key: chain.copy() for key, chain in molecule_src.items()}\n",
    "    # print(f'molecule: {molecule}')\n",
    "\n",
    "    # search for the main chain\n",
    "    main_chain = search_for_main_chain(molecule)\n",
    "    # print(f'main_chain: {main_chain}')\n",
    "\n",
    "    chain_info = {}\n",
    "\n",
    "    # reset\n",
    "    highest_index = 0\n",
    "\n",
    "    # check if the main chain is found\n",
    "    if main_chain:\n",
    "        # get the highest index from the main chain\n",
    "        highest_index = extract_highest_index(molecule[main_chain])\n",
    "        print(f'highest_index-0: {highest_index}')\n",
    "\n",
    "        # update index of other chains\n",
    "        for key, chain in molecule.items():\n",
    "            if key != main_chain:\n",
    "                # create chain info\n",
    "                chain_info[key] = {\n",
    "                    'bonds': [],\n",
    "                    'gate': []\n",
    "                }\n",
    "\n",
    "                # update the index of the chain\n",
    "                for i, bond in enumerate(chain):\n",
    "\n",
    "                    # SECTION: define pattern to match bonds\n",
    "                    pattern = r\"([A-Za-z]+)(\\d+)([-=#])([A-Za-z]+)(\\d+)\"\n",
    "                    # match the pattern\n",
    "                    match_bond = re.match(pattern, bond)\n",
    "                    # augment the index\n",
    "                    if match_bond:\n",
    "                        # extract atoms and indices\n",
    "                        atom1, index1, bond_order, atom2, index2 = match_bond.groups()\n",
    "                        # update the index\n",
    "                        index1 = str(int(index1) + highest_index)\n",
    "                        index2 = str(int(index2) + highest_index)\n",
    "                        # update the bond\n",
    "                        molecule[key][i] = f\"{atom1}{index1}{bond_order}{atom2}{index2}\"\n",
    "                        # update the chain info\n",
    "                        chain_info[key]['bonds'].append(molecule[key][i])\n",
    "\n",
    "                        # last index\n",
    "                        # check the larger index\n",
    "                        last_index = int(index1) if int(index1) > int(index2) else int(index2)\n",
    "\n",
    "\n",
    "                    # SECTION: gate pattern\n",
    "                    pattern_gate = r\"([A-Za-z]+)(\\d+)([-=#])\\*\"\n",
    "                    # match the pattern\n",
    "                    match_gate = re.match(pattern_gate, bond)\n",
    "                    # augment the index\n",
    "                    if match_gate:\n",
    "                        # extract atoms and indices\n",
    "                        atom1, index1, bond_order = match_gate.groups()\n",
    "                        # update the index\n",
    "                        index1 = str(int(index1) + highest_index)\n",
    "                        # update the bond\n",
    "                        molecule[key][i] = f\"{bond_order}{atom1}{index1}\"\n",
    "                        # update the chain info\n",
    "                        chain_info[key]['gate'].append(molecule[key][i])\n",
    "\n",
    "                        # last index\n",
    "                        last_index = int(index1)\n",
    "\n",
    "                    # SECTION: gate pattern\n",
    "                    pattern_gate = r\"\\*([-=#])([A-Za-z]+)(\\d+)\"\n",
    "                    # match the pattern\n",
    "                    match_gate = re.match(pattern_gate, bond)\n",
    "                    # augment the index\n",
    "                    if match_gate:\n",
    "                        # extract atoms and indices\n",
    "                        bond_order, atom1, index1 = match_gate.groups()\n",
    "                        # update the index\n",
    "                        index1 = str(int(index1) + highest_index)\n",
    "                        # update the bond\n",
    "                        molecule[key][i] = f\"{atom1}{index1}{bond_order}\"\n",
    "                        # update the chain info\n",
    "                        chain_info[key]['gate'].append(molecule[key][i])\n",
    "\n",
    "                        # last index\n",
    "                        last_index = int(index1)\n",
    "\n",
    "                # update highest index\n",
    "                highest_index = last_index\n",
    "                print(f\"highest_index: {highest_index}\")\n",
    "\n",
    "    # set\n",
    "    gate_num = 0\n",
    "\n",
    "    # combine the main chain and other chains\n",
    "    constructed_molecule = []\n",
    "    # find the gate atoms\n",
    "    for items in molecule[main_chain]:\n",
    "        # SECTION: define pattern\n",
    "        pattern_gate = r\"([A-Za-z]+)(\\d+)\\*\\{([A-Za-z0-9]+)\\}\"\n",
    "        # match the pattern\n",
    "        match_gate = re.match(pattern_gate, items)\n",
    "        # extract the gate atoms\n",
    "        if match_gate:\n",
    "            # extract atoms and indices\n",
    "            atom1, index1, gate = match_gate.groups()\n",
    "            # find element index in molecule['main_chain']\n",
    "            element_index = molecule[main_chain].index(items)\n",
    "\n",
    "            # gate index num\n",
    "            gate_num = len(chain_info[gate]['gate'])\n",
    "\n",
    "            # update\n",
    "            # check start with letter or number\n",
    "            # TODO: check gate-index\n",
    "            if gate_num == 1:\n",
    "                if chain_info[gate]['gate'][0].startswith(('-','=','#')):\n",
    "                    molecule[main_chain][element_index] = f\"{atom1}{index1}{chain_info[gate]['gate'][0]}\"\n",
    "                else:\n",
    "                    molecule[main_chain][element_index] = f\"{chain_info[gate]['gate'][0]}{atom1}{index1}\"\n",
    "            else:\n",
    "                for m in range(gate_num):\n",
    "                    if chain_info[gate]['gate'][m].startswith(('-','=','#')):\n",
    "                        _connection = f\"{atom1}{index1}{chain_info[gate]['gate'][m]}\"\n",
    "                    else:\n",
    "                        _connection = f\"{chain_info[gate]['gate'][m]}{atom1}{index1}\"\n",
    "\n",
    "                    # append\n",
    "                    if m == 0:\n",
    "                        molecule[main_chain][element_index] = _connection\n",
    "                    else:\n",
    "                        molecule[main_chain].append(_connection)\n",
    "\n",
    "        pattern_gate = r\"\\{([A-Za-z0-9]+)\\}\\*([A-Za-z]+)(\\d+)\"\n",
    "        # match the pattern\n",
    "        match_gate = re.match(pattern_gate, items)\n",
    "        # extract the gate atoms\n",
    "        if match_gate:\n",
    "            # extract atoms and indices\n",
    "            gate, atom1, index1 = match_gate.groups()\n",
    "            # find element index in molecule['main_chain']\n",
    "            element_index = molecule[main_chain].index(items)\n",
    "\n",
    "            # gate index num\n",
    "            gate_num = len(chain_info[gate]['gate'])\n",
    "\n",
    "            # update\n",
    "            # check start with letter or number\n",
    "            # TODO: check gate-index\n",
    "            if gate_num == 1:\n",
    "                if chain_info[gate]['gate'][0].startswith(('-','=','#')):\n",
    "                    molecule[main_chain][element_index] = f\"{atom1}{index1}{chain_info[gate]['gate'][0]}\"\n",
    "                else:\n",
    "                    molecule[main_chain][element_index] = f\"{chain_info[gate]['gate'][0]}{atom1}{index1}\"\n",
    "            else:\n",
    "                for m in range(len(chain_info[gate]['gate'])):\n",
    "                    if chain_info[gate]['gate'][m].startswith(('-','=','#')):\n",
    "                        _connection = f\"{atom1}{index1}{chain_info[gate]['gate'][m]}\"\n",
    "                    else:\n",
    "                        _connection = f\"{chain_info[gate]['gate'][m]}{atom1}{index1}\"\n",
    "                    # append\n",
    "                    if m == 0:\n",
    "                        molecule[main_chain][element_index] = _connection\n",
    "                    else:\n",
    "                        molecule[main_chain].append(_connection)\n",
    "\n",
    "    # combine the main chain and other chains\n",
    "    for key, chain in molecule.items():\n",
    "        if key == main_chain:\n",
    "            constructed_molecule.extend(chain)\n",
    "\n",
    "    # chain info\n",
    "    for key, chain in chain_info.items():\n",
    "        constructed_molecule.extend(chain['bonds'])\n",
    "\n",
    "    return chain_info, molecule, constructed_molecule\n"
   ]
  },
  {
   "cell_type": "markdown",
   "metadata": {},
   "source": [
    "#### `Code 3`"
   ]
  },
  {
   "cell_type": "code",
   "execution_count": 14,
   "metadata": {},
   "outputs": [],
   "source": [
    "def construct_molecule_v3(molecule_src):\n",
    "    \"\"\"\n",
    "    Constructs the molecule from the given molecule source.\n",
    "\n",
    "    Parameters\n",
    "    ----------\n",
    "    molecule_src : dict\n",
    "        A dictionary containing lists of strings representing bonds between atoms in a molecule.\n",
    "\n",
    "    Returns\n",
    "    -------\n",
    "    dict\n",
    "        A dictionary containing lists of strings representing bonds between atoms in a molecule.\n",
    "    \"\"\"\n",
    "    # create a copy of the molecule source\n",
    "    molecule = {key: chain.copy() for key, chain in molecule_src.items()}\n",
    "    # print(f'molecule: {molecule}')\n",
    "\n",
    "    # search for the main chain\n",
    "    main_chain = search_for_main_chain(molecule)\n",
    "    # print(f'main_chain: {main_chain}')\n",
    "\n",
    "    chain_info = {}\n",
    "\n",
    "    # reset\n",
    "    highest_index = 0\n",
    "\n",
    "    # check if the main chain is found\n",
    "    if main_chain:\n",
    "        # get the highest index from the main chain\n",
    "        highest_index = extract_highest_index(molecule[main_chain])\n",
    "        # print(f'highest_index-0: {highest_index}')\n",
    "\n",
    "        # TODO: check chain types\n",
    "\n",
    "        # chain type\n",
    "        chain_types = {\n",
    "            \"1\": 'branch',\n",
    "            \"2\": 'ring',\n",
    "            \"3\": 'bridge',\n",
    "        }\n",
    "\n",
    "        # chain analysis\n",
    "        chain_analysis = {}\n",
    "\n",
    "        # TODO: check chain types\n",
    "        for key, chain in molecule.items():\n",
    "            if key != main_chain:\n",
    "\n",
    "                # count gate num\n",
    "                chain_gate_num = sum(item.count('*') for item in chain)\n",
    "                # print(f\"Chain gate num: {chain_gate_num}\")\n",
    "                # print(f\"Chain types: {chain_types[str(chain_gate_num)}\")\n",
    "\n",
    "                # save\n",
    "                chain_analysis[key] = chain_types[str(chain_gate_num)]\n",
    "\n",
    "                # create chain info\n",
    "                chain_info[key] = {\n",
    "                    'receiver': [],\n",
    "                    'bonds': [],\n",
    "                    'gate': [],\n",
    "                    'type': chain_types[str(chain_gate_num)],\n",
    "                    'connection-port': {}\n",
    "                }\n",
    "\n",
    "        # NOTE: check main chain\n",
    "        for chain in molecule[main_chain]:\n",
    "            # SECTION: define pattern\n",
    "            pattern_gate = r\"([A-Za-z]+)(\\d+)\\*\\{([A-Za-z0-9]+)\\}\"\n",
    "            # match the pattern\n",
    "            match_gate = re.match(pattern_gate, chain)\n",
    "            # extract the gate atoms\n",
    "            if match_gate:\n",
    "                # extract atoms and indices\n",
    "                atom1, index1, gate = match_gate.groups()\n",
    "                # find element index in molecule['main_chain']\n",
    "                element_index = molecule[main_chain].index(chain)\n",
    "\n",
    "                # update chain info\n",
    "                chain_info[gate]['receiver'].append(f\"{atom1}{index1}\")\n",
    "\n",
    "            # SECTION: define pattern\n",
    "            pattern_gate = r\"\\{([A-Za-z0-9]+)\\}\\*([A-Za-z]+)(\\d+)\"\n",
    "            # match the pattern\n",
    "            match_gate = re.match(pattern_gate, chain)\n",
    "            # extract the gate atoms\n",
    "            if match_gate:\n",
    "                # extract atoms and indices\n",
    "                gate, atom1, index1 = match_gate.groups()\n",
    "                # find element index in molecule['main_chain']\n",
    "                element_index = molecule[main_chain].index(chain)\n",
    "\n",
    "                # update chain info\n",
    "                chain_info[gate]['receiver'].append(f\"{atom1}{index1}\")\n",
    "\n",
    "        # log\n",
    "        print(f\"chain info: {chain_info}\")\n",
    "\n",
    "        # NOTE: update index of other chains\n",
    "        for key, chain in molecule.items():\n",
    "            if key != main_chain:\n",
    "\n",
    "                # update the index of the chain\n",
    "                for i, bond in enumerate(chain):\n",
    "\n",
    "                    # SECTION: define pattern to match bonds\n",
    "                    pattern = r\"([A-Za-z]+)(\\d+)([-=#])([A-Za-z]+)(\\d+)\"\n",
    "                    # match the pattern\n",
    "                    match_bond = re.match(pattern, bond)\n",
    "                    # augment the index\n",
    "                    if match_bond:\n",
    "                        # extract atoms and indices\n",
    "                        atom1, index1, bond_order, atom2, index2 = match_bond.groups()\n",
    "                        # update the index\n",
    "                        index1 = str(int(index1) + highest_index)\n",
    "                        index2 = str(int(index2) + highest_index)\n",
    "                        # update the bond\n",
    "                        molecule[key][i] = f\"{atom1}{index1}{bond_order}{atom2}{index2}\"\n",
    "                        # update the chain info\n",
    "                        chain_info[key]['bonds'].append(molecule[key][i])\n",
    "\n",
    "                        # last index\n",
    "                        # check the larger index\n",
    "                        last_index = int(index1) if int(\n",
    "                            index1) > int(index2) else int(index2)\n",
    "\n",
    "                    # SECTION: gate pattern\n",
    "                    pattern_gate = r\"([A-Za-z]+)(\\d+)([-=#])(\\*+)\"\n",
    "                    # match the pattern\n",
    "                    match_gate = re.match(pattern_gate, bond)\n",
    "                    # augment the index\n",
    "                    if match_gate:\n",
    "                        # extract atoms and indices\n",
    "                        atom1, index1, bond_order, gate_port = match_gate.groups()\n",
    "                        # update the index\n",
    "                        index1 = str(int(index1) + highest_index)\n",
    "                        # update the bond\n",
    "                        molecule[key][i] = f\"{atom1}{index1}{bond_order}\"\n",
    "                        # update the chain info\n",
    "                        chain_info[key]['gate'].append(molecule[key][i])\n",
    "                        # connection port\n",
    "                        chain_info[key]['connection-port'][f\"{atom1}{index1}{bond_order}\"] = {\n",
    "                            'port': gate_port,\n",
    "                            'bond': f\"{atom1}{index1}\",\n",
    "                            'bond-type': bond_order,\n",
    "                            'bond-gate': f\"{atom1}{index1}{bond_order}\",\n",
    "                            'port-status': 'open'\n",
    "                        }\n",
    "\n",
    "                        # last index\n",
    "                        last_index = int(index1)\n",
    "\n",
    "                    # SECTION: gate pattern\n",
    "                    pattern_gate = r\"(\\*+)([-=#])([A-Za-z]+)(\\d+)\"\n",
    "                    # match the pattern\n",
    "                    match_gate = re.match(pattern_gate, bond)\n",
    "                    # augment the index\n",
    "                    if match_gate:\n",
    "                        # extract atoms and indices\n",
    "                        gate_port, bond_order, atom1, index1 = match_gate.groups()\n",
    "                        # update the index\n",
    "                        index1 = str(int(index1) + highest_index)\n",
    "                        # update the bond\n",
    "                        molecule[key][i] = f\"{bond_order}{atom1}{index1}\"\n",
    "                        # update the chain info\n",
    "                        chain_info[key]['gate'].append(molecule[key][i])\n",
    "                        # connection port\n",
    "                        chain_info[key]['connection-port'][f\"{bond_order}{atom1}{index1}\"] = {\n",
    "                            'port': gate_port,\n",
    "                            'bond': f\"{atom1}{index1}\",\n",
    "                            'bond-type': bond_order,\n",
    "                            'bond-gate': f\"{bond_order}{atom1}{index1}\",\n",
    "                            'port-status': 'open'\n",
    "                        }\n",
    "\n",
    "                        # last index\n",
    "                        last_index = int(index1)\n",
    "\n",
    "                # update highest index\n",
    "                highest_index = last_index\n",
    "\n",
    "    # log\n",
    "    print(f\"chain info: {chain_info}\")\n",
    "\n",
    "    # set\n",
    "    gate_num = 0\n",
    "\n",
    "    # combine the main chain and other chains\n",
    "    constructed_molecule = []\n",
    "    # TODO: find the gate atoms\n",
    "    for items in molecule[main_chain]:\n",
    "        # SECTION: define pattern\n",
    "        pattern_gate = r\"([A-Za-z]+)(\\d+)\\*\\{([A-Za-z0-9]+)\\}\"\n",
    "\n",
    "        # match the pattern\n",
    "        match_gate = re.match(pattern_gate, items)\n",
    "\n",
    "        # extract the gate atoms\n",
    "        if match_gate:\n",
    "            # extract atoms and indices\n",
    "            atom1, index1, gate = match_gate.groups()\n",
    "            print(f\"atom: {atom1}, index1: {index1}, gate: {gate}\")\n",
    "\n",
    "            # find element index in molecule['main_chain']\n",
    "            element_index = molecule[main_chain].index(items)\n",
    "            print(f\"element_index: {element_index}\")\n",
    "\n",
    "            # gate index num\n",
    "            gate_num = len(chain_info[gate]['gate'])\n",
    "            print(f\"Gate num: {gate_num}\")\n",
    "\n",
    "            # TODO: check chain types\n",
    "            chain_type_ = chain_analysis[gate]\n",
    "            print(f\"Chain type: {chain_type_}\")\n",
    "\n",
    "            # update\n",
    "            # check start with letter or number\n",
    "            # TODO: check gate-index\n",
    "            if gate_num == 1:\n",
    "                if chain_info[gate]['gate'][0].startswith(('-', '=', '#')):\n",
    "                    molecule[main_chain][element_index] = f\"{atom1}{index1}{chain_info[gate]['gate'][0]}\"\n",
    "                else:\n",
    "                    molecule[main_chain][element_index] = f\"{chain_info[gate]['gate'][0]}{atom1}{index1}\"\n",
    "            else:\n",
    "                # check chain type\n",
    "                if chain_type_ == 'ring':\n",
    "                    for m in range(gate_num):\n",
    "                        if chain_info[gate]['gate'][m].startswith(('-', '=', '#')):\n",
    "                            _connection = f\"{atom1}{index1}{chain_info[gate]['gate'][m]}\"\n",
    "                        else:\n",
    "                            _connection = f\"{chain_info[gate]['gate'][m]}{atom1}{index1}\"\n",
    "\n",
    "                        # append\n",
    "                        if m == 0:\n",
    "                            molecule[main_chain][element_index] = _connection\n",
    "                        else:\n",
    "                            molecule[main_chain].append(_connection)\n",
    "                elif chain_type_ == 'bridge':\n",
    "                    # get the gate index receiver\n",
    "                    receiver_index = chain_info[gate]['receiver'].index(f\"{atom1}{index1}\")\n",
    "\n",
    "                    # chain info\n",
    "                    _gate_in = chain_info[gate]['gate'][receiver_index]\n",
    "\n",
    "                    # check\n",
    "                    if chain_info[gate]['gate'][receiver_index].startswith(('-', '=', '#')):\n",
    "                        # update the bond\n",
    "                        molecule[main_chain][element_index] = f\"{atom1}{index1}{_gate_in}\"\n",
    "                    else:\n",
    "                        # update the bond\n",
    "                        molecule[main_chain][element_index] = f\"{_gate_in}{atom1}{index1}\"\n",
    "\n",
    "        # SECTION: define pattern\n",
    "        pattern_gate = r\"\\{([A-Za-z0-9]+)\\}\\*([A-Za-z]+)(\\d+)\"\n",
    "        # match the pattern\n",
    "        match_gate = re.match(pattern_gate, items)\n",
    "        # extract the gate atoms\n",
    "        if match_gate:\n",
    "            # extract atoms and indices\n",
    "            gate, atom1, index1 = match_gate.groups()\n",
    "            # find element index in molecule['main_chain']\n",
    "            element_index = molecule[main_chain].index(items)\n",
    "\n",
    "            # gate index num\n",
    "            gate_num = len(chain_info[gate]['gate'])\n",
    "            print(f\"Gate num: {gate_num}\")\n",
    "\n",
    "            # update\n",
    "            # check start with letter or number\n",
    "            # TODO: check gate-index\n",
    "            if gate_num == 1:\n",
    "                if chain_info[gate]['gate'][0].startswith(('-', '=', '#')):\n",
    "                    molecule[main_chain][element_index] = f\"{atom1}{index1}{chain_info[gate]['gate'][0]}\"\n",
    "                else:\n",
    "                    molecule[main_chain][element_index] = f\"{chain_info[gate]['gate'][0]}{atom1}{index1}\"\n",
    "            else:\n",
    "                # check chain type\n",
    "                if chain_type_ == 'ring':\n",
    "                    for m in range(len(chain_info[gate]['gate'])):\n",
    "                        if chain_info[gate]['gate'][m].startswith(('-', '=', '#')):\n",
    "                            _connection = f\"{atom1}{index1}{chain_info[gate]['gate'][m]}\"\n",
    "                        else:\n",
    "                            _connection = f\"{chain_info[gate]['gate'][m]}{atom1}{index1}\"\n",
    "                        # append\n",
    "                        if m == 0:\n",
    "                            molecule[main_chain][element_index] = _connection\n",
    "                        else:\n",
    "                            molecule[main_chain].append(_connection)\n",
    "                elif chain_type_ == 'bridge':\n",
    "                    # get the gate index receiver\n",
    "                    receiver_index = chain_info[gate]['receiver'].index(f\"{atom1}{index1}\")\n",
    "\n",
    "                    # chain info\n",
    "                    _gate_in = chain_info[gate]['gate'][receiver_index]\n",
    "\n",
    "                    # check\n",
    "                    if chain_info[gate]['gate'][receiver_index].startswith(('-', '=', '#')):\n",
    "                        # update the bond\n",
    "                        molecule[main_chain][element_index] = f\"{atom1}{index1}{_gate_in}\"\n",
    "                    else:\n",
    "                        # update the bond\n",
    "                        molecule[main_chain][element_index] = f\"{_gate_in}{atom1}{index1}\"\n",
    "\n",
    "    # combine the main chain and other chains\n",
    "    for key, chain in molecule.items():\n",
    "        if key == main_chain:\n",
    "            constructed_molecule.extend(chain)\n",
    "\n",
    "    # chain info\n",
    "    for key, chain in chain_info.items():\n",
    "        constructed_molecule.extend(chain['bonds'])\n",
    "\n",
    "    return chain_info, molecule, constructed_molecule"
   ]
  },
  {
   "cell_type": "markdown",
   "metadata": {},
   "source": [
    "#### `Code 4`"
   ]
  },
  {
   "cell_type": "code",
   "execution_count": null,
   "metadata": {},
   "outputs": [],
   "source": [
    "def analyze_chain_types(molecule, main_chain):\n",
    "    \"\"\"\n",
    "    Analyze the types of chains in the molecule.\n",
    "\n",
    "    Parameters\n",
    "    ----------\n",
    "    molecule : dict\n",
    "        A dictionary containing lists of strings representing bonds between atoms in a molecule.\n",
    "    main_chain : str\n",
    "        The name of the main chain in the molecule.\n",
    "\n",
    "    Returns\n",
    "    -------\n",
    "    tuple\n",
    "        A tuple containing chain_info and chain_analysis dictionaries.\n",
    "    \"\"\"\n",
    "    chain_info = {}\n",
    "    chain_analysis = {}\n",
    "\n",
    "    chain_types = {\n",
    "        \"1\": 'branch',\n",
    "        \"2\": 'ring',\n",
    "        \"3\": 'bridge',\n",
    "    }\n",
    "\n",
    "    for key, chain in molecule.items():\n",
    "        if key != main_chain:\n",
    "            # Count gate num\n",
    "            chain_gate_num = sum(item.count('*') for item in chain)\n",
    "\n",
    "            # Save chain type\n",
    "            chain_analysis[key] = chain_types[str(chain_gate_num)]\n",
    "\n",
    "            # Initialize chain info\n",
    "            chain_info[key] = {\n",
    "                'receiver': [],\n",
    "                'bonds': [],\n",
    "                'gate': [],\n",
    "                'type': chain_types[str(chain_gate_num)],\n",
    "                'connection-port': {}\n",
    "            }\n",
    "\n",
    "    return chain_info, chain_analysis\n",
    "\n",
    "def process_main_chain_connections(molecule, main_chain, chain_info):\n",
    "    \"\"\"\n",
    "    Process connections between the main chain and other chains.\n",
    "\n",
    "    Parameters\n",
    "    ----------\n",
    "    molecule : dict\n",
    "        A dictionary containing lists of strings representing bonds between atoms in a molecule.\n",
    "    main_chain : str\n",
    "        The name of the main chain in the molecule.\n",
    "    chain_info : dict\n",
    "        Information about chains in the molecule.\n",
    "    \"\"\"\n",
    "    for chain in molecule[main_chain]:\n",
    "        # Pattern for atom*{chain}\n",
    "        pattern1 = r\"([A-Za-z]+)(\\d+)\\*\\{([A-Za-z0-9]+)\\}\"\n",
    "        match = re.match(pattern1, chain)\n",
    "        if match:\n",
    "            atom1, index1, gate = match.groups()\n",
    "            chain_info[gate]['receiver'].append(f\"{atom1}{index1}\")\n",
    "            continue\n",
    "\n",
    "        # Pattern for {chain}*atom\n",
    "        pattern2 = r\"\\{([A-Za-z0-9]+)\\}\\*([A-Za-z]+)(\\d+)\"\n",
    "        match = re.match(pattern2, chain)\n",
    "        if match:\n",
    "            gate, atom1, index1 = match.groups()\n",
    "            chain_info[gate]['receiver'].append(f\"{atom1}{index1}\")\n",
    "\n",
    "def update_chain_indices(molecule, main_chain, chain_info, highest_index):\n",
    "    \"\"\"\n",
    "    Update indices of atoms in chains and process bonds.\n",
    "\n",
    "    Parameters\n",
    "    ----------\n",
    "    molecule : dict\n",
    "        A dictionary containing lists of strings representing bonds between atoms in a molecule.\n",
    "    main_chain : str\n",
    "        The name of the main chain in the molecule.\n",
    "    chain_info : dict\n",
    "        Information about chains in the molecule.\n",
    "    highest_index : int\n",
    "        The highest index in the main chain.\n",
    "\n",
    "    Returns\n",
    "    -------\n",
    "    int\n",
    "        The updated highest index.\n",
    "    \"\"\"\n",
    "    for key, chain in molecule.items():\n",
    "        if key != main_chain:\n",
    "            last_index = highest_index\n",
    "\n",
    "            for i, bond in enumerate(chain):\n",
    "                # Process normal bonds\n",
    "                pattern_bond = r\"([A-Za-z]+)(\\d+)([-=#])([A-Za-z]+)(\\d+)\"\n",
    "                match = re.match(pattern_bond, bond)\n",
    "                if match:\n",
    "                    atom1, index1, bond_order, atom2, index2 = match.groups()\n",
    "                    index1 = str(int(index1) + highest_index)\n",
    "                    index2 = str(int(index2) + highest_index)\n",
    "                    molecule[key][i] = f\"{atom1}{index1}{bond_order}{atom2}{index2}\"\n",
    "                    chain_info[key]['bonds'].append(molecule[key][i])\n",
    "                    last_index = max(int(index1), int(index2))\n",
    "                    continue\n",
    "\n",
    "                # Process atom-* gate\n",
    "                pattern_gate1 = r\"([A-Za-z]+)(\\d+)([-=#])(\\*+)\"\n",
    "                match = re.match(pattern_gate1, bond)\n",
    "                if match:\n",
    "                    atom1, index1, bond_order, gate_port = match.groups()\n",
    "                    index1 = str(int(index1) + highest_index)\n",
    "                    molecule[key][i] = f\"{atom1}{index1}{bond_order}\"\n",
    "                    chain_info[key]['gate'].append(molecule[key][i])\n",
    "                    chain_info[key]['connection-port'][f\"{atom1}{index1}{bond_order}\"] = {\n",
    "                        'port': gate_port,\n",
    "                        'bond': f\"{atom1}{index1}\",\n",
    "                        'bond-type': bond_order,\n",
    "                        'bond-gate': f\"{atom1}{index1}{bond_order}\",\n",
    "                        'port-status': 'open'\n",
    "                    }\n",
    "                    last_index = int(index1)\n",
    "                    continue\n",
    "\n",
    "                # Process *-atom gate\n",
    "                pattern_gate2 = r\"(\\*+)([-=#])([A-Za-z]+)(\\d+)\"\n",
    "                match = re.match(pattern_gate2, bond)\n",
    "                if match:\n",
    "                    gate_port, bond_order, atom1, index1 = match.groups()\n",
    "                    index1 = str(int(index1) + highest_index)\n",
    "                    molecule[key][i] = f\"{bond_order}{atom1}{index1}\"\n",
    "                    chain_info[key]['gate'].append(molecule[key][i])\n",
    "                    chain_info[key]['connection-port'][f\"{bond_order}{atom1}{index1}\"] = {\n",
    "                        'port': gate_port,\n",
    "                        'bond': f\"{atom1}{index1}\",\n",
    "                        'bond-type': bond_order,\n",
    "                        'bond-gate': f\"{bond_order}{atom1}{index1}\",\n",
    "                        'port-status': 'open'\n",
    "                    }\n",
    "                    last_index = int(index1)\n",
    "\n",
    "            highest_index = last_index\n",
    "\n",
    "    return highest_index\n",
    "\n",
    "def process_gate_connections(molecule, main_chain, chain_info, chain_analysis):\n",
    "    \"\"\"\n",
    "    Process gate connections between chains.\n",
    "\n",
    "    Parameters\n",
    "    ----------\n",
    "    molecule : dict\n",
    "        A dictionary containing lists of strings representing bonds between atoms in a molecule.\n",
    "    main_chain : str\n",
    "        The name of the main chain in the molecule.\n",
    "    chain_info : dict\n",
    "        Information about chains in the molecule.\n",
    "    chain_analysis : dict\n",
    "        Analysis of chain types.\n",
    "    \"\"\"\n",
    "    for i, items in enumerate(molecule[main_chain]):\n",
    "        # Process atom*{chain} pattern\n",
    "        pattern1 = r\"([A-Za-z]+)(\\d+)\\*\\{([A-Za-z0-9]+)\\}\"\n",
    "        match = re.match(pattern1, items)\n",
    "        if match:\n",
    "            atom1, index1, gate = match.groups()\n",
    "            gate_num = len(chain_info[gate]['gate'])\n",
    "            chain_type_ = chain_analysis[gate]\n",
    "\n",
    "            if gate_num == 1:\n",
    "                gate_connection = chain_info[gate]['gate'][0]\n",
    "                if gate_connection.startswith(('-', '=', '#')):\n",
    "                    molecule[main_chain][i] = f\"{atom1}{index1}{gate_connection}\"\n",
    "                else:\n",
    "                    molecule[main_chain][i] = f\"{gate_connection}{atom1}{index1}\"\n",
    "            else:\n",
    "                process_multi_gate_connection(molecule, main_chain, i, atom1, index1, gate, chain_info, chain_type_)\n",
    "            continue\n",
    "\n",
    "        # Process {chain}*atom pattern\n",
    "        pattern2 = r\"\\{([A-Za-z0-9]+)\\}\\*([A-Za-z]+)(\\d+)\"\n",
    "        match = re.match(pattern2, items)\n",
    "        if match:\n",
    "            gate, atom1, index1 = match.groups()\n",
    "            gate_num = len(chain_info[gate]['gate'])\n",
    "            chain_type_ = chain_analysis[gate]\n",
    "\n",
    "            if gate_num == 1:\n",
    "                gate_connection = chain_info[gate]['gate'][0]\n",
    "                if gate_connection.startswith(('-', '=', '#')):\n",
    "                    molecule[main_chain][i] = f\"{atom1}{index1}{gate_connection}\"\n",
    "                else:\n",
    "                    molecule[main_chain][i] = f\"{gate_connection}{atom1}{index1}\"\n",
    "            else:\n",
    "                process_multi_gate_connection(molecule, main_chain, i, atom1, index1, gate, chain_info, chain_type_)\n",
    "\n",
    "def process_multi_gate_connection(molecule, main_chain, element_index, atom1, index1, gate, chain_info, chain_type_):\n",
    "    \"\"\"\n",
    "    Process connections with multiple gates.\n",
    "\n",
    "    Parameters\n",
    "    ----------\n",
    "    molecule : dict\n",
    "        A dictionary containing lists of strings representing bonds between atoms in a molecule.\n",
    "    main_chain : str\n",
    "        The name of the main chain in the molecule.\n",
    "    element_index : int\n",
    "        Index of the element in the main chain.\n",
    "    atom1 : str\n",
    "        The atom symbol.\n",
    "    index1 : str\n",
    "        The atom index.\n",
    "    gate : str\n",
    "        The gate identifier.\n",
    "    chain_info : dict\n",
    "        Information about chains in the molecule.\n",
    "    chain_type_ : str\n",
    "        Type of the chain.\n",
    "    \"\"\"\n",
    "    if chain_type_ == 'ring':\n",
    "        for m, gate_connection in enumerate(chain_info[gate]['gate']):\n",
    "            if gate_connection.startswith(('-', '=', '#')):\n",
    "                _connection = f\"{atom1}{index1}{gate_connection}\"\n",
    "            else:\n",
    "                _connection = f\"{gate_connection}{atom1}{index1}\"\n",
    "\n",
    "            if m == 0:\n",
    "                molecule[main_chain][element_index] = _connection\n",
    "            else:\n",
    "                molecule[main_chain].append(_connection)\n",
    "    elif chain_type_ == 'bridge':\n",
    "        receiver_index = chain_info[gate]['receiver'].index(f\"{atom1}{index1}\")\n",
    "        _gate_in = chain_info[gate]['gate'][receiver_index]\n",
    "\n",
    "        if _gate_in.startswith(('-', '=', '#')):\n",
    "            molecule[main_chain][element_index] = f\"{atom1}{index1}{_gate_in}\"\n",
    "        else:\n",
    "            molecule[main_chain][element_index] = f\"{_gate_in}{atom1}{index1}\"\n",
    "\n",
    "def build_constructed_molecule(molecule, main_chain, chain_info):\n",
    "    \"\"\"\n",
    "    Build the final constructed molecule.\n",
    "\n",
    "    Parameters\n",
    "    ----------\n",
    "    molecule : dict\n",
    "        A dictionary containing lists of strings representing bonds between atoms in a molecule.\n",
    "    main_chain : str\n",
    "        The name of the main chain in the molecule.\n",
    "    chain_info : dict\n",
    "        Information about chains in the molecule.\n",
    "\n",
    "    Returns\n",
    "    -------\n",
    "    list\n",
    "        The constructed molecule as a list of bonds.\n",
    "    \"\"\"\n",
    "    constructed_molecule = []\n",
    "\n",
    "    # Add main chain bonds\n",
    "    constructed_molecule.extend(molecule[main_chain])\n",
    "\n",
    "    # Add bonds from other chains\n",
    "    for key, chain in chain_info.items():\n",
    "        constructed_molecule.extend(chain['bonds'])\n",
    "\n",
    "    return constructed_molecule\n",
    "\n",
    "def construct_molecule_v4(molecule_src):\n",
    "    \"\"\"\n",
    "    Constructs the molecule from the given molecule source.\n",
    "\n",
    "    Parameters\n",
    "    ----------\n",
    "    molecule_src : dict\n",
    "        A dictionary containing lists of strings representing bonds between atoms in a molecule.\n",
    "\n",
    "    Returns\n",
    "    -------\n",
    "    tuple\n",
    "        A tuple containing chain_info, molecule, and constructed_molecule.\n",
    "    \"\"\"\n",
    "    # Create a copy of the molecule source\n",
    "    molecule = {key: chain.copy() for key, chain in molecule_src.items()}\n",
    "\n",
    "    # Search for the main chain\n",
    "    main_chain = search_for_main_chain(molecule)\n",
    "    if not main_chain:\n",
    "        raise ValueError(\"Main chain not found in the molecule source.\")\n",
    "\n",
    "    # Get the highest index from the main chain\n",
    "    highest_index = extract_highest_index(molecule[main_chain])\n",
    "\n",
    "    # Analyze chain types\n",
    "    chain_info, chain_analysis = analyze_chain_types(molecule, main_chain)\n",
    "\n",
    "    # Process main chain connections\n",
    "    process_main_chain_connections(molecule, main_chain, chain_info)\n",
    "\n",
    "    # Update chain indices\n",
    "    highest_index = update_chain_indices(molecule, main_chain, chain_info, highest_index)\n",
    "\n",
    "    # Process gate connections\n",
    "    process_gate_connections(molecule, main_chain, chain_info, chain_analysis)\n",
    "\n",
    "    # Build the constructed molecule\n",
    "    constructed_molecule = build_constructed_molecule(molecule, main_chain, chain_info)\n",
    "\n",
    "    return chain_info, molecule, constructed_molecule"
   ]
  },
  {
   "cell_type": "markdown",
   "metadata": {},
   "source": [
    "#### `Test`"
   ]
  },
  {
   "cell_type": "code",
   "execution_count": 16,
   "metadata": {},
   "outputs": [],
   "source": [
    "# naphthalene\n",
    "molecule_src_1 = {\n",
    "    'MainChain': [\"C1-C2\", \"C2=C3\", \"C3-C4\", \"C4=C5\", \"C5-C6\", \"C6=C1\", \"C1*{Chain1}\", \"C6*{Chain1}\"],\n",
    "    'Chain1': [\"*-C1\", \"C1=C2\", \"C2-C3\", \"C3=C4\", \"C4-**\"],\n",
    "}\n",
    "\n",
    "molecule_src_2 = {\n",
    "    'MainChain': [\"C1-C2\", \"C2=C3\", \"C3-C4\", \"C4=C5\", \"C5-C6\", \"C6=C1\", \"C1*{Chain1}\", \"C6*{Chain1}\"],\n",
    "    'Chain1': [\"*-C1\", \"C1=C2\", \"C2-C3\", \"C3=C4\", \"C4-*\"],\n",
    "}\n",
    "\n",
    "molecule_src_3 = {\n",
    "    'MainChain': [\"C1*{Chain1}\", \"C1-C2\", \"C2*{Chain2}\", \"C2-C3\", \"C3=XX4\"],\n",
    "    'Chain1': [\"*-C1\", \"C1=C2\", \"C2-C3\", \"C3=*\"],\n",
    "    'Chain2': [\"*-C1\", \"C1=C2\", \"C2-C3\", \"C3=*\"],\n",
    "}\n",
    "\n",
    "molecule_src_4 = {\n",
    "    'MainChain': [\"C1-C2\", \"C2*{Chain1}\",\"C2-C3\",\"C3*{Chain2}\"],\n",
    "    'Chain1': [\"*-C1\", \"C1=C2\", \"C2-C3\", \"C3=XX4\"],\n",
    "    'Chain2': [\"*-C1\", \"C1=C2\", \"C2-C3\"],\n",
    "}\n",
    "\n",
    "molecule_src_5 = {\n",
    "    'MainChain': [\"C1-C2\", \"C2=C3\", \"C3=C4\", \"C1*{Chain1}\", \"C3*{Chain2}\", \"C4*{Chain2}\"],\n",
    "    'Chain1': [\"*-C1\", \"C1=C2\", \"C2-XX3\"],\n",
    "    'Chain2': [\"*-C1\", \"C1=C2\", \"C2-**\"],\n",
    "}\n",
    "\n",
    "# molecules\n",
    "molecules_src = [molecule_src_1, molecule_src_2, molecule_src_3, molecule_src_4, molecule_src_5]"
   ]
  },
  {
   "cell_type": "code",
   "execution_count": null,
   "metadata": {},
   "outputs": [],
   "source": [
    "# source\n",
    "print(molecule_src)\n",
    "print(\"-\"*50)\n",
    "\n",
    "# test\n",
    "molecule_src_checked = check_molecule(molecule_src)\n",
    "print(molecule_src_checked)\n",
    "print(\"-\"*50)\n",
    "\n",
    "# build\n",
    "chain_info, molecule, constructed_molecule = construct_molecule_v3(molecule_src_checked)\n",
    "print(chain_info)\n",
    "print(\"-\"*50)\n",
    "print(molecule)\n",
    "print(\"-\"*50)\n",
    "print(len(constructed_molecule))\n",
    "print(constructed_molecule)"
   ]
  },
  {
   "cell_type": "code",
   "execution_count": null,
   "metadata": {},
   "outputs": [],
   "source": [
    "# looping through molecules\n",
    "for molecule_src in molecules_src:\n",
    "    # test\n",
    "    molecule_src_checked = check_molecule(molecule_src)\n",
    "    print(molecule_src_checked)\n",
    "    print(\"-\"*40)\n",
    "\n",
    "    # build\n",
    "    chain_info, molecule, constructed_molecule = construct_molecule_v4(molecule_src_checked)\n",
    "    print(chain_info)\n",
    "    print(\"-\"*40)\n",
    "    print(molecule)\n",
    "    print(\"-\"*40)\n",
    "    print(len(constructed_molecule))\n",
    "    # source\n",
    "    print(molecule_src)\n",
    "    print(\"-\"*40)\n",
    "    print(constructed_molecule)\n",
    "    print(\"*\"*80)\n"
   ]
  },
  {
   "cell_type": "markdown",
   "metadata": {},
   "source": [
    "#### `Code 5`"
   ]
  },
  {
   "cell_type": "code",
   "execution_count": null,
   "metadata": {},
   "outputs": [],
   "source": [
    "class MoleculeConstructor:\n",
    "    \"\"\"\n",
    "    A class for constructing complete molecular structures from component chains.\n",
    "\n",
    "    This class provides methods to analyze molecular chains, process connections\n",
    "    between chains, and construct a complete molecule from its component parts.\n",
    "    \"\"\"\n",
    "\n",
    "    def __init__(self, molecule_src):\n",
    "        \"\"\"\n",
    "        Initialize with a molecule source dictionary.\n",
    "\n",
    "        Parameters\n",
    "        ----------\n",
    "        molecule_src : dict\n",
    "            A dictionary containing lists of strings representing bonds between atoms in a molecule.\n",
    "        \"\"\"\n",
    "        self.molecule_src = molecule_src\n",
    "        self.molecule = {key: chain.copy() for key, chain in molecule_src.items()}\n",
    "        self.main_chain = self._search_for_main_chain()\n",
    "        if not self.main_chain:\n",
    "            raise ValueError(\"Main chain not found in the molecule source.\")\n",
    "        self.highest_index = self._extract_highest_index(self.molecule[self.main_chain])\n",
    "        self.chain_info = {}\n",
    "        self.chain_analysis = {}\n",
    "        self.constructed_molecule = []\n",
    "\n",
    "    def _search_for_main_chain(self):\n",
    "        \"\"\"\n",
    "        Searches for the main chain in the molecule source.\n",
    "\n",
    "        Returns\n",
    "        -------\n",
    "        str\n",
    "            The name of the main chain found in the molecule source.\n",
    "        \"\"\"\n",
    "        for key, chain in self.molecule.items():\n",
    "            pattern1 = re.compile(r'\\{.*?\\}\\*.*')\n",
    "            pattern2 = re.compile(r'.*\\*\\{.*?\\}')\n",
    "            if any(pattern1.match(bond) or pattern2.match(bond) for bond in chain):\n",
    "                return key\n",
    "        return None\n",
    "\n",
    "    def _extract_highest_index(self, chain):\n",
    "        \"\"\"\n",
    "        Extracts the highest numerical index from atom labels in the given chain.\n",
    "\n",
    "        Parameters\n",
    "        ----------\n",
    "        chain : list\n",
    "            A list of strings representing bonds between atoms in a chain.\n",
    "\n",
    "        Returns\n",
    "        -------\n",
    "        int\n",
    "            The highest numerical index found in the chain.\n",
    "        \"\"\"\n",
    "        indices = []\n",
    "        for bond in chain:\n",
    "            atoms = re.findall(r'[A-Za-z]+(\\d+)', bond)  # Extract numbers from atoms\n",
    "            if '{' in bond or '}' in bond:\n",
    "                continue  # Ignore bonds containing {Chain..}\n",
    "            indices.extend(map(int, atoms))\n",
    "        return max(indices) if indices else 0\n",
    "\n",
    "    def _analyze_chain_types(self):\n",
    "        \"\"\"\n",
    "        Analyze the types of chains in the molecule.\n",
    "        \"\"\"\n",
    "        chain_types = {\n",
    "            \"1\": 'branch',\n",
    "            \"2\": 'ring',\n",
    "            \"3\": 'bridge',\n",
    "        }\n",
    "\n",
    "        for key, chain in self.molecule.items():\n",
    "            if key != self.main_chain:\n",
    "                # Count gate num\n",
    "                chain_gate_num = sum(item.count('*') for item in chain)\n",
    "\n",
    "                # Save chain type\n",
    "                self.chain_analysis[key] = chain_types[str(chain_gate_num)]\n",
    "\n",
    "                # Initialize chain info\n",
    "                self.chain_info[key] = {\n",
    "                    'receiver': [],\n",
    "                    'bonds': [],\n",
    "                    'gate': [],\n",
    "                    'type': chain_types[str(chain_gate_num)],\n",
    "                    'connection-port': {}\n",
    "                }\n",
    "\n",
    "    def _process_main_chain_connections(self):\n",
    "        \"\"\"\n",
    "        Process connections between the main chain and other chains.\n",
    "        \"\"\"\n",
    "        for chain in self.molecule[self.main_chain]:\n",
    "            # Pattern for atom*{chain}\n",
    "            pattern1 = r\"([A-Za-z]+)(\\d+)\\*\\{([A-Za-z0-9]+)\\}\"\n",
    "            match = re.match(pattern1, chain)\n",
    "            if match:\n",
    "                atom1, index1, gate = match.groups()\n",
    "                self.chain_info[gate]['receiver'].append(f\"{atom1}{index1}\")\n",
    "                continue\n",
    "\n",
    "            # Pattern for {chain}*atom\n",
    "            pattern2 = r\"\\{([A-Za-z0-9]+)\\}\\*([A-Za-z]+)(\\d+)\"\n",
    "            match = re.match(pattern2, chain)\n",
    "            if match:\n",
    "                gate, atom1, index1 = match.groups()\n",
    "                self.chain_info[gate]['receiver'].append(f\"{atom1}{index1}\")\n",
    "\n",
    "    def _update_chain_indices(self):\n",
    "        \"\"\"\n",
    "        Update indices of atoms in chains and process bonds.\n",
    "        \"\"\"\n",
    "        for key, chain in self.molecule.items():\n",
    "            if key != self.main_chain:\n",
    "                last_index = self.highest_index\n",
    "\n",
    "                for i, bond in enumerate(chain):\n",
    "                    # Process normal bonds\n",
    "                    pattern_bond = r\"([A-Za-z]+)(\\d+)([-=#])([A-Za-z]+)(\\d+)\"\n",
    "                    match = re.match(pattern_bond, bond)\n",
    "                    if match:\n",
    "                        atom1, index1, bond_order, atom2, index2 = match.groups()\n",
    "                        index1 = str(int(index1) + self.highest_index)\n",
    "                        index2 = str(int(index2) + self.highest_index)\n",
    "                        self.molecule[key][i] = f\"{atom1}{index1}{bond_order}{atom2}{index2}\"\n",
    "                        self.chain_info[key]['bonds'].append(self.molecule[key][i])\n",
    "                        last_index = max(int(index1), int(index2))\n",
    "                        continue\n",
    "\n",
    "                    # Process atom-* gate\n",
    "                    pattern_gate1 = r\"([A-Za-z]+)(\\d+)([-=#])(\\*+)\"\n",
    "                    match = re.match(pattern_gate1, bond)\n",
    "                    if match:\n",
    "                        atom1, index1, bond_order, gate_port = match.groups()\n",
    "                        index1 = str(int(index1) + self.highest_index)\n",
    "                        self.molecule[key][i] = f\"{atom1}{index1}{bond_order}\"\n",
    "                        self.chain_info[key]['gate'].append(self.molecule[key][i])\n",
    "                        self.chain_info[key]['connection-port'][f\"{atom1}{index1}{bond_order}\"] = {\n",
    "                            'port': gate_port,\n",
    "                            'bond': f\"{atom1}{index1}\",\n",
    "                            'bond-type': bond_order,\n",
    "                            'bond-gate': f\"{atom1}{index1}{bond_order}\",\n",
    "                            'port-status': 'open'\n",
    "                        }\n",
    "                        last_index = int(index1)\n",
    "                        continue\n",
    "\n",
    "                    # Process *-atom gate\n",
    "                    pattern_gate2 = r\"(\\*+)([-=#])([A-Za-z]+)(\\d+)\"\n",
    "                    match = re.match(pattern_gate2, bond)\n",
    "                    if match:\n",
    "                        gate_port, bond_order, atom1, index1 = match.groups()\n",
    "                        index1 = str(int(index1) + self.highest_index)\n",
    "                        self.molecule[key][i] = f\"{bond_order}{atom1}{index1}\"\n",
    "                        self.chain_info[key]['gate'].append(self.molecule[key][i])\n",
    "                        self.chain_info[key]['connection-port'][f\"{bond_order}{atom1}{index1}\"] = {\n",
    "                            'port': gate_port,\n",
    "                            'bond': f\"{atom1}{index1}\",\n",
    "                            'bond-type': bond_order,\n",
    "                            'bond-gate': f\"{bond_order}{atom1}{index1}\",\n",
    "                            'port-status': 'open'\n",
    "                        }\n",
    "                        last_index = int(index1)\n",
    "\n",
    "                self.highest_index = last_index\n",
    "\n",
    "    def _process_multi_gate_connection(self, element_index, atom1, index1, gate, chain_type_):\n",
    "        \"\"\"\n",
    "        Process connections with multiple gates.\n",
    "\n",
    "        Parameters\n",
    "        ----------\n",
    "        element_index : int\n",
    "            Index of the element in the main chain.\n",
    "        atom1 : str\n",
    "            The atom symbol.\n",
    "        index1 : str\n",
    "            The atom index.\n",
    "        gate : str\n",
    "            The gate identifier.\n",
    "        chain_type_ : str\n",
    "            Type of the chain.\n",
    "        \"\"\"\n",
    "        if chain_type_ == 'ring':\n",
    "            for m, gate_connection in enumerate(self.chain_info[gate]['gate']):\n",
    "                if gate_connection.startswith(('-', '=', '#')):\n",
    "                    _connection = f\"{atom1}{index1}{gate_connection}\"\n",
    "                else:\n",
    "                    _connection = f\"{gate_connection}{atom1}{index1}\"\n",
    "\n",
    "                if m == 0:\n",
    "                    self.molecule[self.main_chain][element_index] = _connection\n",
    "                else:\n",
    "                    self.molecule[self.main_chain].append(_connection)\n",
    "        elif chain_type_ == 'bridge':\n",
    "            receiver_index = self.chain_info[gate]['receiver'].index(f\"{atom1}{index1}\")\n",
    "            _gate_in = self.chain_info[gate]['gate'][receiver_index]\n",
    "\n",
    "            if _gate_in.startswith(('-', '=', '#')):\n",
    "                self.molecule[self.main_chain][element_index] = f\"{atom1}{index1}{_gate_in}\"\n",
    "            else:\n",
    "                self.molecule[self.main_chain][element_index] = f\"{_gate_in}{atom1}{index1}\"\n",
    "\n",
    "    def _process_gate_connections(self):\n",
    "        \"\"\"\n",
    "        Process gate connections between chains.\n",
    "        \"\"\"\n",
    "        for i, items in enumerate(self.molecule[self.main_chain]):\n",
    "            # Process atom*{chain} pattern\n",
    "            pattern1 = r\"([A-Za-z]+)(\\d+)\\*\\{([A-Za-z0-9]+)\\}\"\n",
    "            match = re.match(pattern1, items)\n",
    "            if match:\n",
    "                atom1, index1, gate = match.groups()\n",
    "                gate_num = len(self.chain_info[gate]['gate'])\n",
    "                chain_type_ = self.chain_analysis[gate]\n",
    "\n",
    "                if gate_num == 1:\n",
    "                    gate_connection = self.chain_info[gate]['gate'][0]\n",
    "                    if gate_connection.startswith(('-', '=', '#')):\n",
    "                        self.molecule[self.main_chain][i] = f\"{atom1}{index1}{gate_connection}\"\n",
    "                    else:\n",
    "                        self.molecule[self.main_chain][i] = f\"{gate_connection}{atom1}{index1}\"\n",
    "                else:\n",
    "                    self._process_multi_gate_connection(i, atom1, index1, gate, chain_type_)\n",
    "                continue\n",
    "\n",
    "            # Process {chain}*atom pattern\n",
    "            pattern2 = r\"\\{([A-Za-z0-9]+)\\}\\*([A-Za-z]+)(\\d+)\"\n",
    "            match = re.match(pattern2, items)\n",
    "            if match:\n",
    "                gate, atom1, index1 = match.groups()\n",
    "                gate_num = len(self.chain_info[gate]['gate'])\n",
    "                chain_type_ = self.chain_analysis[gate]\n",
    "\n",
    "                if gate_num == 1:\n",
    "                    gate_connection = self.chain_info[gate]['gate'][0]\n",
    "                    if gate_connection.startswith(('-', '=', '#')):\n",
    "                        self.molecule[self.main_chain][i] = f\"{atom1}{index1}{gate_connection}\"\n",
    "                    else:\n",
    "                        self.molecule[self.main_chain][i] = f\"{gate_connection}{atom1}{index1}\"\n",
    "                else:\n",
    "                    self._process_multi_gate_connection(i, atom1, index1, gate, chain_type_)\n",
    "\n",
    "    def _build_constructed_molecule(self):\n",
    "        \"\"\"\n",
    "        Build the final constructed molecule.\n",
    "        \"\"\"\n",
    "        self.constructed_molecule = []\n",
    "\n",
    "        # Add main chain bonds\n",
    "        self.constructed_molecule.extend(self.molecule[self.main_chain])\n",
    "\n",
    "        # Add bonds from other chains\n",
    "        for key, chain in self.chain_info.items():\n",
    "            self.constructed_molecule.extend(chain['bonds'])\n",
    "\n",
    "    def construct(self):\n",
    "        \"\"\"\n",
    "        Construct the complete molecule from its components.\n",
    "\n",
    "        Returns\n",
    "        -------\n",
    "        tuple\n",
    "            A tuple containing chain_info, molecule, and constructed_molecule.\n",
    "        \"\"\"\n",
    "        # Step 1: Analyze chain types\n",
    "        self._analyze_chain_types()\n",
    "\n",
    "        # Step 2: Process main chain connections\n",
    "        self._process_main_chain_connections()\n",
    "\n",
    "        # Step 3: Update chain indices\n",
    "        self._update_chain_indices()\n",
    "\n",
    "        # Step 4: Process gate connections\n",
    "        self._process_gate_connections()\n",
    "\n",
    "        # Step 5: Build the constructed molecule\n",
    "        self._build_constructed_molecule()\n",
    "\n",
    "        return self.chain_info, self.molecule, self.constructed_molecule\n",
    "\n",
    "    @staticmethod\n",
    "    def from_source(molecule_src):\n",
    "        \"\"\"\n",
    "        Construct a molecule directly from a source dictionary.\n",
    "\n",
    "        This is a convenience method that creates a MoleculeConstructor instance\n",
    "        and immediately constructs the molecule.\n",
    "\n",
    "        Parameters\n",
    "        ----------\n",
    "        molecule_src : dict\n",
    "            A dictionary containing lists of strings representing bonds between atoms in a molecule.\n",
    "\n",
    "        Returns\n",
    "        -------\n",
    "        tuple\n",
    "            A tuple containing chain_info, molecule, and constructed_molecule.\n",
    "        \"\"\"\n",
    "        constructor = MoleculeConstructor(molecule_src)\n",
    "        return constructor.construct()"
   ]
  },
  {
   "cell_type": "markdown",
   "metadata": {},
   "source": [
    "#### Test 2"
   ]
  },
  {
   "cell_type": "code",
   "execution_count": 19,
   "metadata": {},
   "outputs": [],
   "source": [
    "molecule_src = {\n",
    "    'MainChain': [\"C1-C2\", \"C2=C3\", \"C3-C4\", \"C4=C5\", \"C5-C6\", \"C6=C1\", \"C1*{Chain1}\", \"C6*{Chain1}\"],\n",
    "    'Chain1': [\"*-C1\", \"C1=C2\", \"C2-C3\", \"C3=C4\", \"C4-**\"],\n",
    "}"
   ]
  },
  {
   "cell_type": "code",
   "execution_count": 21,
   "metadata": {},
   "outputs": [
    {
     "data": {
      "text/html": [
       "<pre style=\"white-space:pre;overflow-x:auto;line-height:normal;font-family:Menlo,'DejaVu Sans Mono',consolas,'Courier New',monospace\"><span style=\"font-weight: bold\">(</span>\n",
       "    <span style=\"font-weight: bold\">{</span>\n",
       "        <span style=\"color: #008000; text-decoration-color: #008000\">'Chain11'</span>: <span style=\"font-weight: bold\">{</span>\n",
       "            <span style=\"color: #008000; text-decoration-color: #008000\">'receiver'</span>: <span style=\"font-weight: bold\">[</span><span style=\"color: #008000; text-decoration-color: #008000\">'C1'</span>, <span style=\"color: #008000; text-decoration-color: #008000\">'C6'</span><span style=\"font-weight: bold\">]</span>,\n",
       "            <span style=\"color: #008000; text-decoration-color: #008000\">'bonds'</span>: <span style=\"font-weight: bold\">[</span><span style=\"color: #008000; text-decoration-color: #008000\">'C7=C8'</span>, <span style=\"color: #008000; text-decoration-color: #008000\">'C8-C9'</span>, <span style=\"color: #008000; text-decoration-color: #008000\">'C9=C10'</span><span style=\"font-weight: bold\">]</span>,\n",
       "            <span style=\"color: #008000; text-decoration-color: #008000\">'gate'</span>: <span style=\"font-weight: bold\">[</span><span style=\"color: #008000; text-decoration-color: #008000\">'-C7'</span>, <span style=\"color: #008000; text-decoration-color: #008000\">'C10-'</span><span style=\"font-weight: bold\">]</span>,\n",
       "            <span style=\"color: #008000; text-decoration-color: #008000\">'type'</span>: <span style=\"color: #008000; text-decoration-color: #008000\">'bridge'</span>,\n",
       "            <span style=\"color: #008000; text-decoration-color: #008000\">'connection-port'</span>: <span style=\"font-weight: bold\">{</span>\n",
       "                <span style=\"color: #008000; text-decoration-color: #008000\">'-C7'</span>: <span style=\"font-weight: bold\">{</span><span style=\"color: #008000; text-decoration-color: #008000\">'port'</span>: <span style=\"color: #008000; text-decoration-color: #008000\">'*'</span>, <span style=\"color: #008000; text-decoration-color: #008000\">'bond'</span>: <span style=\"color: #008000; text-decoration-color: #008000\">'C7'</span>, <span style=\"color: #008000; text-decoration-color: #008000\">'bond-type'</span>: <span style=\"color: #008000; text-decoration-color: #008000\">'-'</span>, <span style=\"color: #008000; text-decoration-color: #008000\">'bond-gate'</span>: <span style=\"color: #008000; text-decoration-color: #008000\">'-C7'</span>, <span style=\"color: #008000; text-decoration-color: #008000\">'port-status'</span>: <span style=\"color: #008000; text-decoration-color: #008000\">'open'</span><span style=\"font-weight: bold\">}</span>,\n",
       "                <span style=\"color: #008000; text-decoration-color: #008000\">'C10-'</span>: <span style=\"font-weight: bold\">{</span>\n",
       "                    <span style=\"color: #008000; text-decoration-color: #008000\">'port'</span>: <span style=\"color: #008000; text-decoration-color: #008000\">'**'</span>,\n",
       "                    <span style=\"color: #008000; text-decoration-color: #008000\">'bond'</span>: <span style=\"color: #008000; text-decoration-color: #008000\">'C10'</span>,\n",
       "                    <span style=\"color: #008000; text-decoration-color: #008000\">'bond-type'</span>: <span style=\"color: #008000; text-decoration-color: #008000\">'-'</span>,\n",
       "                    <span style=\"color: #008000; text-decoration-color: #008000\">'bond-gate'</span>: <span style=\"color: #008000; text-decoration-color: #008000\">'C10-'</span>,\n",
       "                    <span style=\"color: #008000; text-decoration-color: #008000\">'port-status'</span>: <span style=\"color: #008000; text-decoration-color: #008000\">'open'</span>\n",
       "                <span style=\"font-weight: bold\">}</span>\n",
       "            <span style=\"font-weight: bold\">}</span>\n",
       "        <span style=\"font-weight: bold\">}</span>\n",
       "    <span style=\"font-weight: bold\">}</span>,\n",
       "    <span style=\"font-weight: bold\">{</span>\n",
       "        <span style=\"color: #008000; text-decoration-color: #008000\">'MainChain'</span>: <span style=\"font-weight: bold\">[</span><span style=\"color: #008000; text-decoration-color: #008000\">'C1-C2'</span>, <span style=\"color: #008000; text-decoration-color: #008000\">'C2=C3'</span>, <span style=\"color: #008000; text-decoration-color: #008000\">'C3-C4'</span>, <span style=\"color: #008000; text-decoration-color: #008000\">'C4=C5'</span>, <span style=\"color: #008000; text-decoration-color: #008000\">'C5-C6'</span>, <span style=\"color: #008000; text-decoration-color: #008000\">'C6=C1'</span>, <span style=\"color: #008000; text-decoration-color: #008000\">'C1-C7'</span>, <span style=\"color: #008000; text-decoration-color: #008000\">'C10-C6'</span><span style=\"font-weight: bold\">]</span>,\n",
       "        <span style=\"color: #008000; text-decoration-color: #008000\">'Chain11'</span>: <span style=\"font-weight: bold\">[</span><span style=\"color: #008000; text-decoration-color: #008000\">'-C7'</span>, <span style=\"color: #008000; text-decoration-color: #008000\">'C7=C8'</span>, <span style=\"color: #008000; text-decoration-color: #008000\">'C8-C9'</span>, <span style=\"color: #008000; text-decoration-color: #008000\">'C9=C10'</span>, <span style=\"color: #008000; text-decoration-color: #008000\">'C10-'</span><span style=\"font-weight: bold\">]</span>\n",
       "    <span style=\"font-weight: bold\">}</span>,\n",
       "    <span style=\"font-weight: bold\">[</span><span style=\"color: #008000; text-decoration-color: #008000\">'C1-C2'</span>, <span style=\"color: #008000; text-decoration-color: #008000\">'C2=C3'</span>, <span style=\"color: #008000; text-decoration-color: #008000\">'C3-C4'</span>, <span style=\"color: #008000; text-decoration-color: #008000\">'C4=C5'</span>, <span style=\"color: #008000; text-decoration-color: #008000\">'C5-C6'</span>, <span style=\"color: #008000; text-decoration-color: #008000\">'C6=C1'</span>, <span style=\"color: #008000; text-decoration-color: #008000\">'C1-C7'</span>, <span style=\"color: #008000; text-decoration-color: #008000\">'C10-C6'</span>, <span style=\"color: #008000; text-decoration-color: #008000\">'C7=C8'</span>, <span style=\"color: #008000; text-decoration-color: #008000\">'C8-C9'</span>, <span style=\"color: #008000; text-decoration-color: #008000\">'C9=C10'</span><span style=\"font-weight: bold\">]</span>\n",
       "<span style=\"font-weight: bold\">)</span>\n",
       "</pre>\n"
      ],
      "text/plain": [
       "\u001b[1m(\u001b[0m\n",
       "    \u001b[1m{\u001b[0m\n",
       "        \u001b[32m'Chain11'\u001b[0m: \u001b[1m{\u001b[0m\n",
       "            \u001b[32m'receiver'\u001b[0m: \u001b[1m[\u001b[0m\u001b[32m'C1'\u001b[0m, \u001b[32m'C6'\u001b[0m\u001b[1m]\u001b[0m,\n",
       "            \u001b[32m'bonds'\u001b[0m: \u001b[1m[\u001b[0m\u001b[32m'\u001b[0m\u001b[32mC7\u001b[0m\u001b[32m=\u001b[0m\u001b[32mC8\u001b[0m\u001b[32m'\u001b[0m, \u001b[32m'C8-C9'\u001b[0m, \u001b[32m'\u001b[0m\u001b[32mC9\u001b[0m\u001b[32m=\u001b[0m\u001b[32mC10\u001b[0m\u001b[32m'\u001b[0m\u001b[1m]\u001b[0m,\n",
       "            \u001b[32m'gate'\u001b[0m: \u001b[1m[\u001b[0m\u001b[32m'-C7'\u001b[0m, \u001b[32m'C10-'\u001b[0m\u001b[1m]\u001b[0m,\n",
       "            \u001b[32m'type'\u001b[0m: \u001b[32m'bridge'\u001b[0m,\n",
       "            \u001b[32m'connection-port'\u001b[0m: \u001b[1m{\u001b[0m\n",
       "                \u001b[32m'-C7'\u001b[0m: \u001b[1m{\u001b[0m\u001b[32m'port'\u001b[0m: \u001b[32m'*'\u001b[0m, \u001b[32m'bond'\u001b[0m: \u001b[32m'C7'\u001b[0m, \u001b[32m'bond-type'\u001b[0m: \u001b[32m'-'\u001b[0m, \u001b[32m'bond-gate'\u001b[0m: \u001b[32m'-C7'\u001b[0m, \u001b[32m'port-status'\u001b[0m: \u001b[32m'open'\u001b[0m\u001b[1m}\u001b[0m,\n",
       "                \u001b[32m'C10-'\u001b[0m: \u001b[1m{\u001b[0m\n",
       "                    \u001b[32m'port'\u001b[0m: \u001b[32m'**'\u001b[0m,\n",
       "                    \u001b[32m'bond'\u001b[0m: \u001b[32m'C10'\u001b[0m,\n",
       "                    \u001b[32m'bond-type'\u001b[0m: \u001b[32m'-'\u001b[0m,\n",
       "                    \u001b[32m'bond-gate'\u001b[0m: \u001b[32m'C10-'\u001b[0m,\n",
       "                    \u001b[32m'port-status'\u001b[0m: \u001b[32m'open'\u001b[0m\n",
       "                \u001b[1m}\u001b[0m\n",
       "            \u001b[1m}\u001b[0m\n",
       "        \u001b[1m}\u001b[0m\n",
       "    \u001b[1m}\u001b[0m,\n",
       "    \u001b[1m{\u001b[0m\n",
       "        \u001b[32m'MainChain'\u001b[0m: \u001b[1m[\u001b[0m\u001b[32m'C1-C2'\u001b[0m, \u001b[32m'\u001b[0m\u001b[32mC2\u001b[0m\u001b[32m=\u001b[0m\u001b[32mC3\u001b[0m\u001b[32m'\u001b[0m, \u001b[32m'C3-C4'\u001b[0m, \u001b[32m'\u001b[0m\u001b[32mC4\u001b[0m\u001b[32m=\u001b[0m\u001b[32mC5\u001b[0m\u001b[32m'\u001b[0m, \u001b[32m'C5-C6'\u001b[0m, \u001b[32m'\u001b[0m\u001b[32mC6\u001b[0m\u001b[32m=\u001b[0m\u001b[32mC1\u001b[0m\u001b[32m'\u001b[0m, \u001b[32m'C1-C7'\u001b[0m, \u001b[32m'C10-C6'\u001b[0m\u001b[1m]\u001b[0m,\n",
       "        \u001b[32m'Chain11'\u001b[0m: \u001b[1m[\u001b[0m\u001b[32m'-C7'\u001b[0m, \u001b[32m'\u001b[0m\u001b[32mC7\u001b[0m\u001b[32m=\u001b[0m\u001b[32mC8\u001b[0m\u001b[32m'\u001b[0m, \u001b[32m'C8-C9'\u001b[0m, \u001b[32m'\u001b[0m\u001b[32mC9\u001b[0m\u001b[32m=\u001b[0m\u001b[32mC10\u001b[0m\u001b[32m'\u001b[0m, \u001b[32m'C10-'\u001b[0m\u001b[1m]\u001b[0m\n",
       "    \u001b[1m}\u001b[0m,\n",
       "    \u001b[1m[\u001b[0m\u001b[32m'C1-C2'\u001b[0m, \u001b[32m'\u001b[0m\u001b[32mC2\u001b[0m\u001b[32m=\u001b[0m\u001b[32mC3\u001b[0m\u001b[32m'\u001b[0m, \u001b[32m'C3-C4'\u001b[0m, \u001b[32m'\u001b[0m\u001b[32mC4\u001b[0m\u001b[32m=\u001b[0m\u001b[32mC5\u001b[0m\u001b[32m'\u001b[0m, \u001b[32m'C5-C6'\u001b[0m, \u001b[32m'\u001b[0m\u001b[32mC6\u001b[0m\u001b[32m=\u001b[0m\u001b[32mC1\u001b[0m\u001b[32m'\u001b[0m, \u001b[32m'C1-C7'\u001b[0m, \u001b[32m'C10-C6'\u001b[0m, \u001b[32m'\u001b[0m\u001b[32mC7\u001b[0m\u001b[32m=\u001b[0m\u001b[32mC8\u001b[0m\u001b[32m'\u001b[0m, \u001b[32m'C8-C9'\u001b[0m, \u001b[32m'\u001b[0m\u001b[32mC9\u001b[0m\u001b[32m=\u001b[0m\u001b[32mC10\u001b[0m\u001b[32m'\u001b[0m\u001b[1m]\u001b[0m\n",
       "\u001b[1m)\u001b[0m\n"
      ]
     },
     "metadata": {},
     "output_type": "display_data"
    },
    {
     "data": {
      "text/html": [
       "<pre style=\"white-space:pre;overflow-x:auto;line-height:normal;font-family:Menlo,'DejaVu Sans Mono',consolas,'Courier New',monospace\"><span style=\"font-weight: bold\">{</span>\n",
       "    <span style=\"color: #008000; text-decoration-color: #008000\">'MainChain'</span>: <span style=\"font-weight: bold\">[</span><span style=\"color: #008000; text-decoration-color: #008000\">'C1-C2'</span>, <span style=\"color: #008000; text-decoration-color: #008000\">'C2=C3'</span>, <span style=\"color: #008000; text-decoration-color: #008000\">'C3-C4'</span>, <span style=\"color: #008000; text-decoration-color: #008000\">'C4=C5'</span>, <span style=\"color: #008000; text-decoration-color: #008000\">'C5-C6'</span>, <span style=\"color: #008000; text-decoration-color: #008000\">'C6=C1'</span>, <span style=\"color: #008000; text-decoration-color: #008000\">'C1*{Chain1}'</span>, <span style=\"color: #008000; text-decoration-color: #008000\">'C6*{Chain1}'</span><span style=\"font-weight: bold\">]</span>,\n",
       "    <span style=\"color: #008000; text-decoration-color: #008000\">'Chain1'</span>: <span style=\"font-weight: bold\">[</span><span style=\"color: #008000; text-decoration-color: #008000\">'*-C1'</span>, <span style=\"color: #008000; text-decoration-color: #008000\">'C1=C2'</span>, <span style=\"color: #008000; text-decoration-color: #008000\">'C2-C3'</span>, <span style=\"color: #008000; text-decoration-color: #008000\">'C3=C4'</span>, <span style=\"color: #008000; text-decoration-color: #008000\">'C4-**'</span><span style=\"font-weight: bold\">]</span>\n",
       "<span style=\"font-weight: bold\">}</span>\n",
       "</pre>\n"
      ],
      "text/plain": [
       "\u001b[1m{\u001b[0m\n",
       "    \u001b[32m'MainChain'\u001b[0m: \u001b[1m[\u001b[0m\u001b[32m'C1-C2'\u001b[0m, \u001b[32m'\u001b[0m\u001b[32mC2\u001b[0m\u001b[32m=\u001b[0m\u001b[32mC3\u001b[0m\u001b[32m'\u001b[0m, \u001b[32m'C3-C4'\u001b[0m, \u001b[32m'\u001b[0m\u001b[32mC4\u001b[0m\u001b[32m=\u001b[0m\u001b[32mC5\u001b[0m\u001b[32m'\u001b[0m, \u001b[32m'C5-C6'\u001b[0m, \u001b[32m'\u001b[0m\u001b[32mC6\u001b[0m\u001b[32m=\u001b[0m\u001b[32mC1\u001b[0m\u001b[32m'\u001b[0m, \u001b[32m'C1*\u001b[0m\u001b[32m{\u001b[0m\u001b[32mChain1\u001b[0m\u001b[32m}\u001b[0m\u001b[32m'\u001b[0m, \u001b[32m'C6*\u001b[0m\u001b[32m{\u001b[0m\u001b[32mChain1\u001b[0m\u001b[32m}\u001b[0m\u001b[32m'\u001b[0m\u001b[1m]\u001b[0m,\n",
       "    \u001b[32m'Chain1'\u001b[0m: \u001b[1m[\u001b[0m\u001b[32m'*-C1'\u001b[0m, \u001b[32m'\u001b[0m\u001b[32mC1\u001b[0m\u001b[32m=\u001b[0m\u001b[32mC2\u001b[0m\u001b[32m'\u001b[0m, \u001b[32m'C2-C3'\u001b[0m, \u001b[32m'\u001b[0m\u001b[32mC3\u001b[0m\u001b[32m=\u001b[0m\u001b[32mC4\u001b[0m\u001b[32m'\u001b[0m, \u001b[32m'C4-**'\u001b[0m\u001b[1m]\u001b[0m\n",
       "\u001b[1m}\u001b[0m\n"
      ]
     },
     "metadata": {},
     "output_type": "display_data"
    }
   ],
   "source": [
    "# checker\n",
    "molecule_src_checked = check_molecule(molecule_src)\n",
    "# molecule constructor\n",
    "constructor = MoleculeConstructor(molecule_src_checked)\n",
    "print(constructor.construct())\n",
    "print(molecule_src)"
   ]
  },
  {
   "cell_type": "code",
   "execution_count": 17,
   "metadata": {},
   "outputs": [
    {
     "data": {
      "text/html": [
       "<pre style=\"white-space:pre;overflow-x:auto;line-height:normal;font-family:Menlo,'DejaVu Sans Mono',consolas,'Courier New',monospace\">chain info: <span style=\"font-weight: bold\">{</span><span style=\"color: #008000; text-decoration-color: #008000\">'Chain11'</span>: <span style=\"font-weight: bold\">{</span><span style=\"color: #008000; text-decoration-color: #008000\">'receiver'</span>: <span style=\"font-weight: bold\">[</span><span style=\"color: #008000; text-decoration-color: #008000\">'C1'</span>, <span style=\"color: #008000; text-decoration-color: #008000\">'C6'</span><span style=\"font-weight: bold\">]</span>, <span style=\"color: #008000; text-decoration-color: #008000\">'bonds'</span>: <span style=\"font-weight: bold\">[]</span>, <span style=\"color: #008000; text-decoration-color: #008000\">'gate'</span>: <span style=\"font-weight: bold\">[]</span>, <span style=\"color: #008000; text-decoration-color: #008000\">'type'</span>: <span style=\"color: #008000; text-decoration-color: #008000\">'bridge'</span>, <span style=\"color: #008000; text-decoration-color: #008000\">'connection-port'</span>: \n",
       "<span style=\"font-weight: bold\">{}}}</span>\n",
       "</pre>\n"
      ],
      "text/plain": [
       "chain info: \u001b[1m{\u001b[0m\u001b[32m'Chain11'\u001b[0m: \u001b[1m{\u001b[0m\u001b[32m'receiver'\u001b[0m: \u001b[1m[\u001b[0m\u001b[32m'C1'\u001b[0m, \u001b[32m'C6'\u001b[0m\u001b[1m]\u001b[0m, \u001b[32m'bonds'\u001b[0m: \u001b[1m[\u001b[0m\u001b[1m]\u001b[0m, \u001b[32m'gate'\u001b[0m: \u001b[1m[\u001b[0m\u001b[1m]\u001b[0m, \u001b[32m'type'\u001b[0m: \u001b[32m'bridge'\u001b[0m, \u001b[32m'connection-port'\u001b[0m: \n",
       "\u001b[1m{\u001b[0m\u001b[1m}\u001b[0m\u001b[1m}\u001b[0m\u001b[1m}\u001b[0m\n"
      ]
     },
     "metadata": {},
     "output_type": "display_data"
    },
    {
     "data": {
      "text/html": [
       "<pre style=\"white-space:pre;overflow-x:auto;line-height:normal;font-family:Menlo,'DejaVu Sans Mono',consolas,'Courier New',monospace\">chain info: <span style=\"font-weight: bold\">{</span><span style=\"color: #008000; text-decoration-color: #008000\">'Chain11'</span>: <span style=\"font-weight: bold\">{</span><span style=\"color: #008000; text-decoration-color: #008000\">'receiver'</span>: <span style=\"font-weight: bold\">[</span><span style=\"color: #008000; text-decoration-color: #008000\">'C1'</span>, <span style=\"color: #008000; text-decoration-color: #008000\">'C6'</span><span style=\"font-weight: bold\">]</span>, <span style=\"color: #008000; text-decoration-color: #008000\">'bonds'</span>: <span style=\"font-weight: bold\">[</span><span style=\"color: #008000; text-decoration-color: #008000\">'C7=C8'</span>, <span style=\"color: #008000; text-decoration-color: #008000\">'C8-C9'</span>, <span style=\"color: #008000; text-decoration-color: #008000\">'C9=C10'</span><span style=\"font-weight: bold\">]</span>, <span style=\"color: #008000; text-decoration-color: #008000\">'gate'</span>: <span style=\"font-weight: bold\">[</span><span style=\"color: #008000; text-decoration-color: #008000\">'-C7'</span>, <span style=\"color: #008000; text-decoration-color: #008000\">'C10-'</span><span style=\"font-weight: bold\">]</span>, \n",
       "<span style=\"color: #008000; text-decoration-color: #008000\">'type'</span>: <span style=\"color: #008000; text-decoration-color: #008000\">'bridge'</span>, <span style=\"color: #008000; text-decoration-color: #008000\">'connection-port'</span>: <span style=\"font-weight: bold\">{</span><span style=\"color: #008000; text-decoration-color: #008000\">'-C7'</span>: <span style=\"font-weight: bold\">{</span><span style=\"color: #008000; text-decoration-color: #008000\">'port'</span>: <span style=\"color: #008000; text-decoration-color: #008000\">'*'</span>, <span style=\"color: #008000; text-decoration-color: #008000\">'bond'</span>: <span style=\"color: #008000; text-decoration-color: #008000\">'C7'</span>, <span style=\"color: #008000; text-decoration-color: #008000\">'bond-type'</span>: <span style=\"color: #008000; text-decoration-color: #008000\">'-'</span>, <span style=\"color: #008000; text-decoration-color: #008000\">'bond-gate'</span>: <span style=\"color: #008000; text-decoration-color: #008000\">'-C7'</span>, \n",
       "<span style=\"color: #008000; text-decoration-color: #008000\">'port-status'</span>: <span style=\"color: #008000; text-decoration-color: #008000\">'open'</span><span style=\"font-weight: bold\">}</span>, <span style=\"color: #008000; text-decoration-color: #008000\">'C10-'</span>: <span style=\"font-weight: bold\">{</span><span style=\"color: #008000; text-decoration-color: #008000\">'port'</span>: <span style=\"color: #008000; text-decoration-color: #008000\">'**'</span>, <span style=\"color: #008000; text-decoration-color: #008000\">'bond'</span>: <span style=\"color: #008000; text-decoration-color: #008000\">'C10'</span>, <span style=\"color: #008000; text-decoration-color: #008000\">'bond-type'</span>: <span style=\"color: #008000; text-decoration-color: #008000\">'-'</span>, <span style=\"color: #008000; text-decoration-color: #008000\">'bond-gate'</span>: <span style=\"color: #008000; text-decoration-color: #008000\">'C10-'</span>, <span style=\"color: #008000; text-decoration-color: #008000\">'port-status'</span>:\n",
       "<span style=\"color: #008000; text-decoration-color: #008000\">'open'</span><span style=\"font-weight: bold\">}}}}</span>\n",
       "</pre>\n"
      ],
      "text/plain": [
       "chain info: \u001b[1m{\u001b[0m\u001b[32m'Chain11'\u001b[0m: \u001b[1m{\u001b[0m\u001b[32m'receiver'\u001b[0m: \u001b[1m[\u001b[0m\u001b[32m'C1'\u001b[0m, \u001b[32m'C6'\u001b[0m\u001b[1m]\u001b[0m, \u001b[32m'bonds'\u001b[0m: \u001b[1m[\u001b[0m\u001b[32m'\u001b[0m\u001b[32mC7\u001b[0m\u001b[32m=\u001b[0m\u001b[32mC8\u001b[0m\u001b[32m'\u001b[0m, \u001b[32m'C8-C9'\u001b[0m, \u001b[32m'\u001b[0m\u001b[32mC9\u001b[0m\u001b[32m=\u001b[0m\u001b[32mC10\u001b[0m\u001b[32m'\u001b[0m\u001b[1m]\u001b[0m, \u001b[32m'gate'\u001b[0m: \u001b[1m[\u001b[0m\u001b[32m'-C7'\u001b[0m, \u001b[32m'C10-'\u001b[0m\u001b[1m]\u001b[0m, \n",
       "\u001b[32m'type'\u001b[0m: \u001b[32m'bridge'\u001b[0m, \u001b[32m'connection-port'\u001b[0m: \u001b[1m{\u001b[0m\u001b[32m'-C7'\u001b[0m: \u001b[1m{\u001b[0m\u001b[32m'port'\u001b[0m: \u001b[32m'*'\u001b[0m, \u001b[32m'bond'\u001b[0m: \u001b[32m'C7'\u001b[0m, \u001b[32m'bond-type'\u001b[0m: \u001b[32m'-'\u001b[0m, \u001b[32m'bond-gate'\u001b[0m: \u001b[32m'-C7'\u001b[0m, \n",
       "\u001b[32m'port-status'\u001b[0m: \u001b[32m'open'\u001b[0m\u001b[1m}\u001b[0m, \u001b[32m'C10-'\u001b[0m: \u001b[1m{\u001b[0m\u001b[32m'port'\u001b[0m: \u001b[32m'**'\u001b[0m, \u001b[32m'bond'\u001b[0m: \u001b[32m'C10'\u001b[0m, \u001b[32m'bond-type'\u001b[0m: \u001b[32m'-'\u001b[0m, \u001b[32m'bond-gate'\u001b[0m: \u001b[32m'C10-'\u001b[0m, \u001b[32m'port-status'\u001b[0m:\n",
       "\u001b[32m'open'\u001b[0m\u001b[1m}\u001b[0m\u001b[1m}\u001b[0m\u001b[1m}\u001b[0m\u001b[1m}\u001b[0m\n"
      ]
     },
     "metadata": {},
     "output_type": "display_data"
    },
    {
     "data": {
      "text/html": [
       "<pre style=\"white-space:pre;overflow-x:auto;line-height:normal;font-family:Menlo,'DejaVu Sans Mono',consolas,'Courier New',monospace\">atom: C, index1: <span style=\"color: #008080; text-decoration-color: #008080; font-weight: bold\">1</span>, gate: Chain11\n",
       "</pre>\n"
      ],
      "text/plain": [
       "atom: C, index1: \u001b[1;36m1\u001b[0m, gate: Chain11\n"
      ]
     },
     "metadata": {},
     "output_type": "display_data"
    },
    {
     "data": {
      "text/html": [
       "<pre style=\"white-space:pre;overflow-x:auto;line-height:normal;font-family:Menlo,'DejaVu Sans Mono',consolas,'Courier New',monospace\">element_index: <span style=\"color: #008080; text-decoration-color: #008080; font-weight: bold\">6</span>\n",
       "</pre>\n"
      ],
      "text/plain": [
       "element_index: \u001b[1;36m6\u001b[0m\n"
      ]
     },
     "metadata": {},
     "output_type": "display_data"
    },
    {
     "data": {
      "text/html": [
       "<pre style=\"white-space:pre;overflow-x:auto;line-height:normal;font-family:Menlo,'DejaVu Sans Mono',consolas,'Courier New',monospace\">Gate num: <span style=\"color: #008080; text-decoration-color: #008080; font-weight: bold\">2</span>\n",
       "</pre>\n"
      ],
      "text/plain": [
       "Gate num: \u001b[1;36m2\u001b[0m\n"
      ]
     },
     "metadata": {},
     "output_type": "display_data"
    },
    {
     "data": {
      "text/html": [
       "<pre style=\"white-space:pre;overflow-x:auto;line-height:normal;font-family:Menlo,'DejaVu Sans Mono',consolas,'Courier New',monospace\">Chain type: bridge\n",
       "</pre>\n"
      ],
      "text/plain": [
       "Chain type: bridge\n"
      ]
     },
     "metadata": {},
     "output_type": "display_data"
    },
    {
     "data": {
      "text/html": [
       "<pre style=\"white-space:pre;overflow-x:auto;line-height:normal;font-family:Menlo,'DejaVu Sans Mono',consolas,'Courier New',monospace\">atom: C, index1: <span style=\"color: #008080; text-decoration-color: #008080; font-weight: bold\">6</span>, gate: Chain11\n",
       "</pre>\n"
      ],
      "text/plain": [
       "atom: C, index1: \u001b[1;36m6\u001b[0m, gate: Chain11\n"
      ]
     },
     "metadata": {},
     "output_type": "display_data"
    },
    {
     "data": {
      "text/html": [
       "<pre style=\"white-space:pre;overflow-x:auto;line-height:normal;font-family:Menlo,'DejaVu Sans Mono',consolas,'Courier New',monospace\">element_index: <span style=\"color: #008080; text-decoration-color: #008080; font-weight: bold\">7</span>\n",
       "</pre>\n"
      ],
      "text/plain": [
       "element_index: \u001b[1;36m7\u001b[0m\n"
      ]
     },
     "metadata": {},
     "output_type": "display_data"
    },
    {
     "data": {
      "text/html": [
       "<pre style=\"white-space:pre;overflow-x:auto;line-height:normal;font-family:Menlo,'DejaVu Sans Mono',consolas,'Courier New',monospace\">Gate num: <span style=\"color: #008080; text-decoration-color: #008080; font-weight: bold\">2</span>\n",
       "</pre>\n"
      ],
      "text/plain": [
       "Gate num: \u001b[1;36m2\u001b[0m\n"
      ]
     },
     "metadata": {},
     "output_type": "display_data"
    },
    {
     "data": {
      "text/html": [
       "<pre style=\"white-space:pre;overflow-x:auto;line-height:normal;font-family:Menlo,'DejaVu Sans Mono',consolas,'Courier New',monospace\">Chain type: bridge\n",
       "</pre>\n"
      ],
      "text/plain": [
       "Chain type: bridge\n"
      ]
     },
     "metadata": {},
     "output_type": "display_data"
    },
    {
     "data": {
      "text/html": [
       "<pre style=\"white-space:pre;overflow-x:auto;line-height:normal;font-family:Menlo,'DejaVu Sans Mono',consolas,'Courier New',monospace\"><span style=\"font-weight: bold\">{</span>\n",
       "    <span style=\"color: #008000; text-decoration-color: #008000\">'MainChain'</span>: <span style=\"font-weight: bold\">[</span><span style=\"color: #008000; text-decoration-color: #008000\">'C1-C2'</span>, <span style=\"color: #008000; text-decoration-color: #008000\">'C2=C3'</span>, <span style=\"color: #008000; text-decoration-color: #008000\">'C3-C4'</span>, <span style=\"color: #008000; text-decoration-color: #008000\">'C4=C5'</span>, <span style=\"color: #008000; text-decoration-color: #008000\">'C5-C6'</span>, <span style=\"color: #008000; text-decoration-color: #008000\">'C6=C1'</span>, <span style=\"color: #008000; text-decoration-color: #008000\">'C1*{Chain1}'</span>, <span style=\"color: #008000; text-decoration-color: #008000\">'C6*{Chain1}'</span><span style=\"font-weight: bold\">]</span>,\n",
       "    <span style=\"color: #008000; text-decoration-color: #008000\">'Chain1'</span>: <span style=\"font-weight: bold\">[</span><span style=\"color: #008000; text-decoration-color: #008000\">'*-C1'</span>, <span style=\"color: #008000; text-decoration-color: #008000\">'C1=C2'</span>, <span style=\"color: #008000; text-decoration-color: #008000\">'C2-C3'</span>, <span style=\"color: #008000; text-decoration-color: #008000\">'C3=C4'</span>, <span style=\"color: #008000; text-decoration-color: #008000\">'C4-**'</span><span style=\"font-weight: bold\">]</span>\n",
       "<span style=\"font-weight: bold\">}</span>\n",
       "</pre>\n"
      ],
      "text/plain": [
       "\u001b[1m{\u001b[0m\n",
       "    \u001b[32m'MainChain'\u001b[0m: \u001b[1m[\u001b[0m\u001b[32m'C1-C2'\u001b[0m, \u001b[32m'\u001b[0m\u001b[32mC2\u001b[0m\u001b[32m=\u001b[0m\u001b[32mC3\u001b[0m\u001b[32m'\u001b[0m, \u001b[32m'C3-C4'\u001b[0m, \u001b[32m'\u001b[0m\u001b[32mC4\u001b[0m\u001b[32m=\u001b[0m\u001b[32mC5\u001b[0m\u001b[32m'\u001b[0m, \u001b[32m'C5-C6'\u001b[0m, \u001b[32m'\u001b[0m\u001b[32mC6\u001b[0m\u001b[32m=\u001b[0m\u001b[32mC1\u001b[0m\u001b[32m'\u001b[0m, \u001b[32m'C1*\u001b[0m\u001b[32m{\u001b[0m\u001b[32mChain1\u001b[0m\u001b[32m}\u001b[0m\u001b[32m'\u001b[0m, \u001b[32m'C6*\u001b[0m\u001b[32m{\u001b[0m\u001b[32mChain1\u001b[0m\u001b[32m}\u001b[0m\u001b[32m'\u001b[0m\u001b[1m]\u001b[0m,\n",
       "    \u001b[32m'Chain1'\u001b[0m: \u001b[1m[\u001b[0m\u001b[32m'*-C1'\u001b[0m, \u001b[32m'\u001b[0m\u001b[32mC1\u001b[0m\u001b[32m=\u001b[0m\u001b[32mC2\u001b[0m\u001b[32m'\u001b[0m, \u001b[32m'C2-C3'\u001b[0m, \u001b[32m'\u001b[0m\u001b[32mC3\u001b[0m\u001b[32m=\u001b[0m\u001b[32mC4\u001b[0m\u001b[32m'\u001b[0m, \u001b[32m'C4-**'\u001b[0m\u001b[1m]\u001b[0m\n",
       "\u001b[1m}\u001b[0m\n"
      ]
     },
     "metadata": {},
     "output_type": "display_data"
    },
    {
     "data": {
      "text/html": [
       "<pre style=\"white-space:pre;overflow-x:auto;line-height:normal;font-family:Menlo,'DejaVu Sans Mono',consolas,'Courier New',monospace\"><span style=\"font-weight: bold\">[</span><span style=\"color: #008000; text-decoration-color: #008000\">'C1-C2'</span>, <span style=\"color: #008000; text-decoration-color: #008000\">'C2=C3'</span>, <span style=\"color: #008000; text-decoration-color: #008000\">'C3-C4'</span>, <span style=\"color: #008000; text-decoration-color: #008000\">'C4=C5'</span>, <span style=\"color: #008000; text-decoration-color: #008000\">'C5-C6'</span>, <span style=\"color: #008000; text-decoration-color: #008000\">'C6=C1'</span>, <span style=\"color: #008000; text-decoration-color: #008000\">'C1-C7'</span>, <span style=\"color: #008000; text-decoration-color: #008000\">'C10-C6'</span>, <span style=\"color: #008000; text-decoration-color: #008000\">'C7=C8'</span>, <span style=\"color: #008000; text-decoration-color: #008000\">'C8-C9'</span>, <span style=\"color: #008000; text-decoration-color: #008000\">'C9=C10'</span><span style=\"font-weight: bold\">]</span>\n",
       "</pre>\n"
      ],
      "text/plain": [
       "\u001b[1m[\u001b[0m\u001b[32m'C1-C2'\u001b[0m, \u001b[32m'\u001b[0m\u001b[32mC2\u001b[0m\u001b[32m=\u001b[0m\u001b[32mC3\u001b[0m\u001b[32m'\u001b[0m, \u001b[32m'C3-C4'\u001b[0m, \u001b[32m'\u001b[0m\u001b[32mC4\u001b[0m\u001b[32m=\u001b[0m\u001b[32mC5\u001b[0m\u001b[32m'\u001b[0m, \u001b[32m'C5-C6'\u001b[0m, \u001b[32m'\u001b[0m\u001b[32mC6\u001b[0m\u001b[32m=\u001b[0m\u001b[32mC1\u001b[0m\u001b[32m'\u001b[0m, \u001b[32m'C1-C7'\u001b[0m, \u001b[32m'C10-C6'\u001b[0m, \u001b[32m'\u001b[0m\u001b[32mC7\u001b[0m\u001b[32m=\u001b[0m\u001b[32mC8\u001b[0m\u001b[32m'\u001b[0m, \u001b[32m'C8-C9'\u001b[0m, \u001b[32m'\u001b[0m\u001b[32mC9\u001b[0m\u001b[32m=\u001b[0m\u001b[32mC10\u001b[0m\u001b[32m'\u001b[0m\u001b[1m]\u001b[0m\n"
      ]
     },
     "metadata": {},
     "output_type": "display_data"
    },
    {
     "data": {
      "text/html": [
       "<pre style=\"white-space:pre;overflow-x:auto;line-height:normal;font-family:Menlo,'DejaVu Sans Mono',consolas,'Courier New',monospace\"><span style=\"font-weight: bold\">[</span><span style=\"color: #008000; text-decoration-color: #008000\">'C1-C2'</span>, <span style=\"color: #008000; text-decoration-color: #008000\">'C2=C3'</span>, <span style=\"color: #008000; text-decoration-color: #008000\">'C3-C4'</span>, <span style=\"color: #008000; text-decoration-color: #008000\">'C4=C5'</span>, <span style=\"color: #008000; text-decoration-color: #008000\">'C5-C6'</span>, <span style=\"color: #008000; text-decoration-color: #008000\">'C6=C1'</span>, <span style=\"color: #008000; text-decoration-color: #008000\">'C1-C7'</span>, <span style=\"color: #008000; text-decoration-color: #008000\">'C10-C6'</span>, <span style=\"color: #008000; text-decoration-color: #008000\">'C7=C8'</span>, <span style=\"color: #008000; text-decoration-color: #008000\">'C8-C9'</span>, <span style=\"color: #008000; text-decoration-color: #008000\">'C9=C10'</span><span style=\"font-weight: bold\">]</span>\n",
       "</pre>\n"
      ],
      "text/plain": [
       "\u001b[1m[\u001b[0m\u001b[32m'C1-C2'\u001b[0m, \u001b[32m'\u001b[0m\u001b[32mC2\u001b[0m\u001b[32m=\u001b[0m\u001b[32mC3\u001b[0m\u001b[32m'\u001b[0m, \u001b[32m'C3-C4'\u001b[0m, \u001b[32m'\u001b[0m\u001b[32mC4\u001b[0m\u001b[32m=\u001b[0m\u001b[32mC5\u001b[0m\u001b[32m'\u001b[0m, \u001b[32m'C5-C6'\u001b[0m, \u001b[32m'\u001b[0m\u001b[32mC6\u001b[0m\u001b[32m=\u001b[0m\u001b[32mC1\u001b[0m\u001b[32m'\u001b[0m, \u001b[32m'C1-C7'\u001b[0m, \u001b[32m'C10-C6'\u001b[0m, \u001b[32m'\u001b[0m\u001b[32mC7\u001b[0m\u001b[32m=\u001b[0m\u001b[32mC8\u001b[0m\u001b[32m'\u001b[0m, \u001b[32m'C8-C9'\u001b[0m, \u001b[32m'\u001b[0m\u001b[32mC9\u001b[0m\u001b[32m=\u001b[0m\u001b[32mC10\u001b[0m\u001b[32m'\u001b[0m\u001b[1m]\u001b[0m\n"
      ]
     },
     "metadata": {},
     "output_type": "display_data"
    },
    {
     "data": {
      "text/html": [
       "<pre style=\"white-space:pre;overflow-x:auto;line-height:normal;font-family:Menlo,'DejaVu Sans Mono',consolas,'Courier New',monospace\">********************************************************************************\n",
       "</pre>\n"
      ],
      "text/plain": [
       "********************************************************************************\n"
      ]
     },
     "metadata": {},
     "output_type": "display_data"
    },
    {
     "data": {
      "text/html": [
       "<pre style=\"white-space:pre;overflow-x:auto;line-height:normal;font-family:Menlo,'DejaVu Sans Mono',consolas,'Courier New',monospace\">chain info: <span style=\"font-weight: bold\">{</span><span style=\"color: #008000; text-decoration-color: #008000\">'Chain11'</span>: <span style=\"font-weight: bold\">{</span><span style=\"color: #008000; text-decoration-color: #008000\">'receiver'</span>: <span style=\"font-weight: bold\">[</span><span style=\"color: #008000; text-decoration-color: #008000\">'C1'</span><span style=\"font-weight: bold\">]</span>, <span style=\"color: #008000; text-decoration-color: #008000\">'bonds'</span>: <span style=\"font-weight: bold\">[]</span>, <span style=\"color: #008000; text-decoration-color: #008000\">'gate'</span>: <span style=\"font-weight: bold\">[]</span>, <span style=\"color: #008000; text-decoration-color: #008000\">'type'</span>: <span style=\"color: #008000; text-decoration-color: #008000\">'ring'</span>, <span style=\"color: #008000; text-decoration-color: #008000\">'connection-port'</span>: <span style=\"font-weight: bold\">{}}</span>, \n",
       "<span style=\"color: #008000; text-decoration-color: #008000\">'Chain12'</span>: <span style=\"font-weight: bold\">{</span><span style=\"color: #008000; text-decoration-color: #008000\">'receiver'</span>: <span style=\"font-weight: bold\">[</span><span style=\"color: #008000; text-decoration-color: #008000\">'C6'</span><span style=\"font-weight: bold\">]</span>, <span style=\"color: #008000; text-decoration-color: #008000\">'bonds'</span>: <span style=\"font-weight: bold\">[]</span>, <span style=\"color: #008000; text-decoration-color: #008000\">'gate'</span>: <span style=\"font-weight: bold\">[]</span>, <span style=\"color: #008000; text-decoration-color: #008000\">'type'</span>: <span style=\"color: #008000; text-decoration-color: #008000\">'ring'</span>, <span style=\"color: #008000; text-decoration-color: #008000\">'connection-port'</span>: <span style=\"font-weight: bold\">{}}}</span>\n",
       "</pre>\n"
      ],
      "text/plain": [
       "chain info: \u001b[1m{\u001b[0m\u001b[32m'Chain11'\u001b[0m: \u001b[1m{\u001b[0m\u001b[32m'receiver'\u001b[0m: \u001b[1m[\u001b[0m\u001b[32m'C1'\u001b[0m\u001b[1m]\u001b[0m, \u001b[32m'bonds'\u001b[0m: \u001b[1m[\u001b[0m\u001b[1m]\u001b[0m, \u001b[32m'gate'\u001b[0m: \u001b[1m[\u001b[0m\u001b[1m]\u001b[0m, \u001b[32m'type'\u001b[0m: \u001b[32m'ring'\u001b[0m, \u001b[32m'connection-port'\u001b[0m: \u001b[1m{\u001b[0m\u001b[1m}\u001b[0m\u001b[1m}\u001b[0m, \n",
       "\u001b[32m'Chain12'\u001b[0m: \u001b[1m{\u001b[0m\u001b[32m'receiver'\u001b[0m: \u001b[1m[\u001b[0m\u001b[32m'C6'\u001b[0m\u001b[1m]\u001b[0m, \u001b[32m'bonds'\u001b[0m: \u001b[1m[\u001b[0m\u001b[1m]\u001b[0m, \u001b[32m'gate'\u001b[0m: \u001b[1m[\u001b[0m\u001b[1m]\u001b[0m, \u001b[32m'type'\u001b[0m: \u001b[32m'ring'\u001b[0m, \u001b[32m'connection-port'\u001b[0m: \u001b[1m{\u001b[0m\u001b[1m}\u001b[0m\u001b[1m}\u001b[0m\u001b[1m}\u001b[0m\n"
      ]
     },
     "metadata": {},
     "output_type": "display_data"
    },
    {
     "data": {
      "text/html": [
       "<pre style=\"white-space:pre;overflow-x:auto;line-height:normal;font-family:Menlo,'DejaVu Sans Mono',consolas,'Courier New',monospace\">chain info: <span style=\"font-weight: bold\">{</span><span style=\"color: #008000; text-decoration-color: #008000\">'Chain11'</span>: <span style=\"font-weight: bold\">{</span><span style=\"color: #008000; text-decoration-color: #008000\">'receiver'</span>: <span style=\"font-weight: bold\">[</span><span style=\"color: #008000; text-decoration-color: #008000\">'C1'</span><span style=\"font-weight: bold\">]</span>, <span style=\"color: #008000; text-decoration-color: #008000\">'bonds'</span>: <span style=\"font-weight: bold\">[</span><span style=\"color: #008000; text-decoration-color: #008000\">'C7=C8'</span>, <span style=\"color: #008000; text-decoration-color: #008000\">'C8-C9'</span>, <span style=\"color: #008000; text-decoration-color: #008000\">'C9=C10'</span><span style=\"font-weight: bold\">]</span>, <span style=\"color: #008000; text-decoration-color: #008000\">'gate'</span>: <span style=\"font-weight: bold\">[</span><span style=\"color: #008000; text-decoration-color: #008000\">'-C7'</span>, <span style=\"color: #008000; text-decoration-color: #008000\">'C10-'</span><span style=\"font-weight: bold\">]</span>, \n",
       "<span style=\"color: #008000; text-decoration-color: #008000\">'type'</span>: <span style=\"color: #008000; text-decoration-color: #008000\">'ring'</span>, <span style=\"color: #008000; text-decoration-color: #008000\">'connection-port'</span>: <span style=\"font-weight: bold\">{</span><span style=\"color: #008000; text-decoration-color: #008000\">'-C7'</span>: <span style=\"font-weight: bold\">{</span><span style=\"color: #008000; text-decoration-color: #008000\">'port'</span>: <span style=\"color: #008000; text-decoration-color: #008000\">'*'</span>, <span style=\"color: #008000; text-decoration-color: #008000\">'bond'</span>: <span style=\"color: #008000; text-decoration-color: #008000\">'C7'</span>, <span style=\"color: #008000; text-decoration-color: #008000\">'bond-type'</span>: <span style=\"color: #008000; text-decoration-color: #008000\">'-'</span>, <span style=\"color: #008000; text-decoration-color: #008000\">'bond-gate'</span>: <span style=\"color: #008000; text-decoration-color: #008000\">'-C7'</span>, \n",
       "<span style=\"color: #008000; text-decoration-color: #008000\">'port-status'</span>: <span style=\"color: #008000; text-decoration-color: #008000\">'open'</span><span style=\"font-weight: bold\">}</span>, <span style=\"color: #008000; text-decoration-color: #008000\">'C10-'</span>: <span style=\"font-weight: bold\">{</span><span style=\"color: #008000; text-decoration-color: #008000\">'port'</span>: <span style=\"color: #008000; text-decoration-color: #008000\">'*'</span>, <span style=\"color: #008000; text-decoration-color: #008000\">'bond'</span>: <span style=\"color: #008000; text-decoration-color: #008000\">'C10'</span>, <span style=\"color: #008000; text-decoration-color: #008000\">'bond-type'</span>: <span style=\"color: #008000; text-decoration-color: #008000\">'-'</span>, <span style=\"color: #008000; text-decoration-color: #008000\">'bond-gate'</span>: <span style=\"color: #008000; text-decoration-color: #008000\">'C10-'</span>, <span style=\"color: #008000; text-decoration-color: #008000\">'port-status'</span>: \n",
       "<span style=\"color: #008000; text-decoration-color: #008000\">'open'</span><span style=\"font-weight: bold\">}}}</span>, <span style=\"color: #008000; text-decoration-color: #008000\">'Chain12'</span>: <span style=\"font-weight: bold\">{</span><span style=\"color: #008000; text-decoration-color: #008000\">'receiver'</span>: <span style=\"font-weight: bold\">[</span><span style=\"color: #008000; text-decoration-color: #008000\">'C6'</span><span style=\"font-weight: bold\">]</span>, <span style=\"color: #008000; text-decoration-color: #008000\">'bonds'</span>: <span style=\"font-weight: bold\">[</span><span style=\"color: #008000; text-decoration-color: #008000\">'C11=C12'</span>, <span style=\"color: #008000; text-decoration-color: #008000\">'C12-C13'</span>, <span style=\"color: #008000; text-decoration-color: #008000\">'C13=C14'</span><span style=\"font-weight: bold\">]</span>, <span style=\"color: #008000; text-decoration-color: #008000\">'gate'</span>: <span style=\"font-weight: bold\">[</span><span style=\"color: #008000; text-decoration-color: #008000\">'-C11'</span>, <span style=\"color: #008000; text-decoration-color: #008000\">'C14-'</span><span style=\"font-weight: bold\">]</span>, \n",
       "<span style=\"color: #008000; text-decoration-color: #008000\">'type'</span>: <span style=\"color: #008000; text-decoration-color: #008000\">'ring'</span>, <span style=\"color: #008000; text-decoration-color: #008000\">'connection-port'</span>: <span style=\"font-weight: bold\">{</span><span style=\"color: #008000; text-decoration-color: #008000\">'-C11'</span>: <span style=\"font-weight: bold\">{</span><span style=\"color: #008000; text-decoration-color: #008000\">'port'</span>: <span style=\"color: #008000; text-decoration-color: #008000\">'*'</span>, <span style=\"color: #008000; text-decoration-color: #008000\">'bond'</span>: <span style=\"color: #008000; text-decoration-color: #008000\">'C11'</span>, <span style=\"color: #008000; text-decoration-color: #008000\">'bond-type'</span>: <span style=\"color: #008000; text-decoration-color: #008000\">'-'</span>, <span style=\"color: #008000; text-decoration-color: #008000\">'bond-gate'</span>: <span style=\"color: #008000; text-decoration-color: #008000\">'-C11'</span>, \n",
       "<span style=\"color: #008000; text-decoration-color: #008000\">'port-status'</span>: <span style=\"color: #008000; text-decoration-color: #008000\">'open'</span><span style=\"font-weight: bold\">}</span>, <span style=\"color: #008000; text-decoration-color: #008000\">'C14-'</span>: <span style=\"font-weight: bold\">{</span><span style=\"color: #008000; text-decoration-color: #008000\">'port'</span>: <span style=\"color: #008000; text-decoration-color: #008000\">'*'</span>, <span style=\"color: #008000; text-decoration-color: #008000\">'bond'</span>: <span style=\"color: #008000; text-decoration-color: #008000\">'C14'</span>, <span style=\"color: #008000; text-decoration-color: #008000\">'bond-type'</span>: <span style=\"color: #008000; text-decoration-color: #008000\">'-'</span>, <span style=\"color: #008000; text-decoration-color: #008000\">'bond-gate'</span>: <span style=\"color: #008000; text-decoration-color: #008000\">'C14-'</span>, <span style=\"color: #008000; text-decoration-color: #008000\">'port-status'</span>: \n",
       "<span style=\"color: #008000; text-decoration-color: #008000\">'open'</span><span style=\"font-weight: bold\">}}}}</span>\n",
       "</pre>\n"
      ],
      "text/plain": [
       "chain info: \u001b[1m{\u001b[0m\u001b[32m'Chain11'\u001b[0m: \u001b[1m{\u001b[0m\u001b[32m'receiver'\u001b[0m: \u001b[1m[\u001b[0m\u001b[32m'C1'\u001b[0m\u001b[1m]\u001b[0m, \u001b[32m'bonds'\u001b[0m: \u001b[1m[\u001b[0m\u001b[32m'\u001b[0m\u001b[32mC7\u001b[0m\u001b[32m=\u001b[0m\u001b[32mC8\u001b[0m\u001b[32m'\u001b[0m, \u001b[32m'C8-C9'\u001b[0m, \u001b[32m'\u001b[0m\u001b[32mC9\u001b[0m\u001b[32m=\u001b[0m\u001b[32mC10\u001b[0m\u001b[32m'\u001b[0m\u001b[1m]\u001b[0m, \u001b[32m'gate'\u001b[0m: \u001b[1m[\u001b[0m\u001b[32m'-C7'\u001b[0m, \u001b[32m'C10-'\u001b[0m\u001b[1m]\u001b[0m, \n",
       "\u001b[32m'type'\u001b[0m: \u001b[32m'ring'\u001b[0m, \u001b[32m'connection-port'\u001b[0m: \u001b[1m{\u001b[0m\u001b[32m'-C7'\u001b[0m: \u001b[1m{\u001b[0m\u001b[32m'port'\u001b[0m: \u001b[32m'*'\u001b[0m, \u001b[32m'bond'\u001b[0m: \u001b[32m'C7'\u001b[0m, \u001b[32m'bond-type'\u001b[0m: \u001b[32m'-'\u001b[0m, \u001b[32m'bond-gate'\u001b[0m: \u001b[32m'-C7'\u001b[0m, \n",
       "\u001b[32m'port-status'\u001b[0m: \u001b[32m'open'\u001b[0m\u001b[1m}\u001b[0m, \u001b[32m'C10-'\u001b[0m: \u001b[1m{\u001b[0m\u001b[32m'port'\u001b[0m: \u001b[32m'*'\u001b[0m, \u001b[32m'bond'\u001b[0m: \u001b[32m'C10'\u001b[0m, \u001b[32m'bond-type'\u001b[0m: \u001b[32m'-'\u001b[0m, \u001b[32m'bond-gate'\u001b[0m: \u001b[32m'C10-'\u001b[0m, \u001b[32m'port-status'\u001b[0m: \n",
       "\u001b[32m'open'\u001b[0m\u001b[1m}\u001b[0m\u001b[1m}\u001b[0m\u001b[1m}\u001b[0m, \u001b[32m'Chain12'\u001b[0m: \u001b[1m{\u001b[0m\u001b[32m'receiver'\u001b[0m: \u001b[1m[\u001b[0m\u001b[32m'C6'\u001b[0m\u001b[1m]\u001b[0m, \u001b[32m'bonds'\u001b[0m: \u001b[1m[\u001b[0m\u001b[32m'\u001b[0m\u001b[32mC11\u001b[0m\u001b[32m=\u001b[0m\u001b[32mC12\u001b[0m\u001b[32m'\u001b[0m, \u001b[32m'C12-C13'\u001b[0m, \u001b[32m'\u001b[0m\u001b[32mC13\u001b[0m\u001b[32m=\u001b[0m\u001b[32mC14\u001b[0m\u001b[32m'\u001b[0m\u001b[1m]\u001b[0m, \u001b[32m'gate'\u001b[0m: \u001b[1m[\u001b[0m\u001b[32m'-C11'\u001b[0m, \u001b[32m'C14-'\u001b[0m\u001b[1m]\u001b[0m, \n",
       "\u001b[32m'type'\u001b[0m: \u001b[32m'ring'\u001b[0m, \u001b[32m'connection-port'\u001b[0m: \u001b[1m{\u001b[0m\u001b[32m'-C11'\u001b[0m: \u001b[1m{\u001b[0m\u001b[32m'port'\u001b[0m: \u001b[32m'*'\u001b[0m, \u001b[32m'bond'\u001b[0m: \u001b[32m'C11'\u001b[0m, \u001b[32m'bond-type'\u001b[0m: \u001b[32m'-'\u001b[0m, \u001b[32m'bond-gate'\u001b[0m: \u001b[32m'-C11'\u001b[0m, \n",
       "\u001b[32m'port-status'\u001b[0m: \u001b[32m'open'\u001b[0m\u001b[1m}\u001b[0m, \u001b[32m'C14-'\u001b[0m: \u001b[1m{\u001b[0m\u001b[32m'port'\u001b[0m: \u001b[32m'*'\u001b[0m, \u001b[32m'bond'\u001b[0m: \u001b[32m'C14'\u001b[0m, \u001b[32m'bond-type'\u001b[0m: \u001b[32m'-'\u001b[0m, \u001b[32m'bond-gate'\u001b[0m: \u001b[32m'C14-'\u001b[0m, \u001b[32m'port-status'\u001b[0m: \n",
       "\u001b[32m'open'\u001b[0m\u001b[1m}\u001b[0m\u001b[1m}\u001b[0m\u001b[1m}\u001b[0m\u001b[1m}\u001b[0m\n"
      ]
     },
     "metadata": {},
     "output_type": "display_data"
    },
    {
     "data": {
      "text/html": [
       "<pre style=\"white-space:pre;overflow-x:auto;line-height:normal;font-family:Menlo,'DejaVu Sans Mono',consolas,'Courier New',monospace\">atom: C, index1: <span style=\"color: #008080; text-decoration-color: #008080; font-weight: bold\">1</span>, gate: Chain11\n",
       "</pre>\n"
      ],
      "text/plain": [
       "atom: C, index1: \u001b[1;36m1\u001b[0m, gate: Chain11\n"
      ]
     },
     "metadata": {},
     "output_type": "display_data"
    },
    {
     "data": {
      "text/html": [
       "<pre style=\"white-space:pre;overflow-x:auto;line-height:normal;font-family:Menlo,'DejaVu Sans Mono',consolas,'Courier New',monospace\">element_index: <span style=\"color: #008080; text-decoration-color: #008080; font-weight: bold\">6</span>\n",
       "</pre>\n"
      ],
      "text/plain": [
       "element_index: \u001b[1;36m6\u001b[0m\n"
      ]
     },
     "metadata": {},
     "output_type": "display_data"
    },
    {
     "data": {
      "text/html": [
       "<pre style=\"white-space:pre;overflow-x:auto;line-height:normal;font-family:Menlo,'DejaVu Sans Mono',consolas,'Courier New',monospace\">Gate num: <span style=\"color: #008080; text-decoration-color: #008080; font-weight: bold\">2</span>\n",
       "</pre>\n"
      ],
      "text/plain": [
       "Gate num: \u001b[1;36m2\u001b[0m\n"
      ]
     },
     "metadata": {},
     "output_type": "display_data"
    },
    {
     "data": {
      "text/html": [
       "<pre style=\"white-space:pre;overflow-x:auto;line-height:normal;font-family:Menlo,'DejaVu Sans Mono',consolas,'Courier New',monospace\">Chain type: ring\n",
       "</pre>\n"
      ],
      "text/plain": [
       "Chain type: ring\n"
      ]
     },
     "metadata": {},
     "output_type": "display_data"
    },
    {
     "data": {
      "text/html": [
       "<pre style=\"white-space:pre;overflow-x:auto;line-height:normal;font-family:Menlo,'DejaVu Sans Mono',consolas,'Courier New',monospace\">atom: C, index1: <span style=\"color: #008080; text-decoration-color: #008080; font-weight: bold\">6</span>, gate: Chain12\n",
       "</pre>\n"
      ],
      "text/plain": [
       "atom: C, index1: \u001b[1;36m6\u001b[0m, gate: Chain12\n"
      ]
     },
     "metadata": {},
     "output_type": "display_data"
    },
    {
     "data": {
      "text/html": [
       "<pre style=\"white-space:pre;overflow-x:auto;line-height:normal;font-family:Menlo,'DejaVu Sans Mono',consolas,'Courier New',monospace\">element_index: <span style=\"color: #008080; text-decoration-color: #008080; font-weight: bold\">7</span>\n",
       "</pre>\n"
      ],
      "text/plain": [
       "element_index: \u001b[1;36m7\u001b[0m\n"
      ]
     },
     "metadata": {},
     "output_type": "display_data"
    },
    {
     "data": {
      "text/html": [
       "<pre style=\"white-space:pre;overflow-x:auto;line-height:normal;font-family:Menlo,'DejaVu Sans Mono',consolas,'Courier New',monospace\">Gate num: <span style=\"color: #008080; text-decoration-color: #008080; font-weight: bold\">2</span>\n",
       "</pre>\n"
      ],
      "text/plain": [
       "Gate num: \u001b[1;36m2\u001b[0m\n"
      ]
     },
     "metadata": {},
     "output_type": "display_data"
    },
    {
     "data": {
      "text/html": [
       "<pre style=\"white-space:pre;overflow-x:auto;line-height:normal;font-family:Menlo,'DejaVu Sans Mono',consolas,'Courier New',monospace\">Chain type: ring\n",
       "</pre>\n"
      ],
      "text/plain": [
       "Chain type: ring\n"
      ]
     },
     "metadata": {},
     "output_type": "display_data"
    },
    {
     "data": {
      "text/html": [
       "<pre style=\"white-space:pre;overflow-x:auto;line-height:normal;font-family:Menlo,'DejaVu Sans Mono',consolas,'Courier New',monospace\"><span style=\"font-weight: bold\">{</span>\n",
       "    <span style=\"color: #008000; text-decoration-color: #008000\">'MainChain'</span>: <span style=\"font-weight: bold\">[</span><span style=\"color: #008000; text-decoration-color: #008000\">'C1-C2'</span>, <span style=\"color: #008000; text-decoration-color: #008000\">'C2=C3'</span>, <span style=\"color: #008000; text-decoration-color: #008000\">'C3-C4'</span>, <span style=\"color: #008000; text-decoration-color: #008000\">'C4=C5'</span>, <span style=\"color: #008000; text-decoration-color: #008000\">'C5-C6'</span>, <span style=\"color: #008000; text-decoration-color: #008000\">'C6=C1'</span>, <span style=\"color: #008000; text-decoration-color: #008000\">'C1*{Chain1}'</span>, <span style=\"color: #008000; text-decoration-color: #008000\">'C6*{Chain1}'</span><span style=\"font-weight: bold\">]</span>,\n",
       "    <span style=\"color: #008000; text-decoration-color: #008000\">'Chain1'</span>: <span style=\"font-weight: bold\">[</span><span style=\"color: #008000; text-decoration-color: #008000\">'*-C1'</span>, <span style=\"color: #008000; text-decoration-color: #008000\">'C1=C2'</span>, <span style=\"color: #008000; text-decoration-color: #008000\">'C2-C3'</span>, <span style=\"color: #008000; text-decoration-color: #008000\">'C3=C4'</span>, <span style=\"color: #008000; text-decoration-color: #008000\">'C4-*'</span><span style=\"font-weight: bold\">]</span>\n",
       "<span style=\"font-weight: bold\">}</span>\n",
       "</pre>\n"
      ],
      "text/plain": [
       "\u001b[1m{\u001b[0m\n",
       "    \u001b[32m'MainChain'\u001b[0m: \u001b[1m[\u001b[0m\u001b[32m'C1-C2'\u001b[0m, \u001b[32m'\u001b[0m\u001b[32mC2\u001b[0m\u001b[32m=\u001b[0m\u001b[32mC3\u001b[0m\u001b[32m'\u001b[0m, \u001b[32m'C3-C4'\u001b[0m, \u001b[32m'\u001b[0m\u001b[32mC4\u001b[0m\u001b[32m=\u001b[0m\u001b[32mC5\u001b[0m\u001b[32m'\u001b[0m, \u001b[32m'C5-C6'\u001b[0m, \u001b[32m'\u001b[0m\u001b[32mC6\u001b[0m\u001b[32m=\u001b[0m\u001b[32mC1\u001b[0m\u001b[32m'\u001b[0m, \u001b[32m'C1*\u001b[0m\u001b[32m{\u001b[0m\u001b[32mChain1\u001b[0m\u001b[32m}\u001b[0m\u001b[32m'\u001b[0m, \u001b[32m'C6*\u001b[0m\u001b[32m{\u001b[0m\u001b[32mChain1\u001b[0m\u001b[32m}\u001b[0m\u001b[32m'\u001b[0m\u001b[1m]\u001b[0m,\n",
       "    \u001b[32m'Chain1'\u001b[0m: \u001b[1m[\u001b[0m\u001b[32m'*-C1'\u001b[0m, \u001b[32m'\u001b[0m\u001b[32mC1\u001b[0m\u001b[32m=\u001b[0m\u001b[32mC2\u001b[0m\u001b[32m'\u001b[0m, \u001b[32m'C2-C3'\u001b[0m, \u001b[32m'\u001b[0m\u001b[32mC3\u001b[0m\u001b[32m=\u001b[0m\u001b[32mC4\u001b[0m\u001b[32m'\u001b[0m, \u001b[32m'C4-*'\u001b[0m\u001b[1m]\u001b[0m\n",
       "\u001b[1m}\u001b[0m\n"
      ]
     },
     "metadata": {},
     "output_type": "display_data"
    },
    {
     "data": {
      "text/html": [
       "<pre style=\"white-space:pre;overflow-x:auto;line-height:normal;font-family:Menlo,'DejaVu Sans Mono',consolas,'Courier New',monospace\"><span style=\"font-weight: bold\">[</span>\n",
       "    <span style=\"color: #008000; text-decoration-color: #008000\">'C1-C2'</span>,\n",
       "    <span style=\"color: #008000; text-decoration-color: #008000\">'C2=C3'</span>,\n",
       "    <span style=\"color: #008000; text-decoration-color: #008000\">'C3-C4'</span>,\n",
       "    <span style=\"color: #008000; text-decoration-color: #008000\">'C4=C5'</span>,\n",
       "    <span style=\"color: #008000; text-decoration-color: #008000\">'C5-C6'</span>,\n",
       "    <span style=\"color: #008000; text-decoration-color: #008000\">'C6=C1'</span>,\n",
       "    <span style=\"color: #008000; text-decoration-color: #008000\">'C1-C7'</span>,\n",
       "    <span style=\"color: #008000; text-decoration-color: #008000\">'C6-C11'</span>,\n",
       "    <span style=\"color: #008000; text-decoration-color: #008000\">'C10-C1'</span>,\n",
       "    <span style=\"color: #008000; text-decoration-color: #008000\">'C14-C6'</span>,\n",
       "    <span style=\"color: #008000; text-decoration-color: #008000\">'C7=C8'</span>,\n",
       "    <span style=\"color: #008000; text-decoration-color: #008000\">'C8-C9'</span>,\n",
       "    <span style=\"color: #008000; text-decoration-color: #008000\">'C9=C10'</span>,\n",
       "    <span style=\"color: #008000; text-decoration-color: #008000\">'C11=C12'</span>,\n",
       "    <span style=\"color: #008000; text-decoration-color: #008000\">'C12-C13'</span>,\n",
       "    <span style=\"color: #008000; text-decoration-color: #008000\">'C13=C14'</span>\n",
       "<span style=\"font-weight: bold\">]</span>\n",
       "</pre>\n"
      ],
      "text/plain": [
       "\u001b[1m[\u001b[0m\n",
       "    \u001b[32m'C1-C2'\u001b[0m,\n",
       "    \u001b[32m'\u001b[0m\u001b[32mC2\u001b[0m\u001b[32m=\u001b[0m\u001b[32mC3\u001b[0m\u001b[32m'\u001b[0m,\n",
       "    \u001b[32m'C3-C4'\u001b[0m,\n",
       "    \u001b[32m'\u001b[0m\u001b[32mC4\u001b[0m\u001b[32m=\u001b[0m\u001b[32mC5\u001b[0m\u001b[32m'\u001b[0m,\n",
       "    \u001b[32m'C5-C6'\u001b[0m,\n",
       "    \u001b[32m'\u001b[0m\u001b[32mC6\u001b[0m\u001b[32m=\u001b[0m\u001b[32mC1\u001b[0m\u001b[32m'\u001b[0m,\n",
       "    \u001b[32m'C1-C7'\u001b[0m,\n",
       "    \u001b[32m'C6-C11'\u001b[0m,\n",
       "    \u001b[32m'C10-C1'\u001b[0m,\n",
       "    \u001b[32m'C14-C6'\u001b[0m,\n",
       "    \u001b[32m'\u001b[0m\u001b[32mC7\u001b[0m\u001b[32m=\u001b[0m\u001b[32mC8\u001b[0m\u001b[32m'\u001b[0m,\n",
       "    \u001b[32m'C8-C9'\u001b[0m,\n",
       "    \u001b[32m'\u001b[0m\u001b[32mC9\u001b[0m\u001b[32m=\u001b[0m\u001b[32mC10\u001b[0m\u001b[32m'\u001b[0m,\n",
       "    \u001b[32m'\u001b[0m\u001b[32mC11\u001b[0m\u001b[32m=\u001b[0m\u001b[32mC12\u001b[0m\u001b[32m'\u001b[0m,\n",
       "    \u001b[32m'C12-C13'\u001b[0m,\n",
       "    \u001b[32m'\u001b[0m\u001b[32mC13\u001b[0m\u001b[32m=\u001b[0m\u001b[32mC14\u001b[0m\u001b[32m'\u001b[0m\n",
       "\u001b[1m]\u001b[0m\n"
      ]
     },
     "metadata": {},
     "output_type": "display_data"
    },
    {
     "data": {
      "text/html": [
       "<pre style=\"white-space:pre;overflow-x:auto;line-height:normal;font-family:Menlo,'DejaVu Sans Mono',consolas,'Courier New',monospace\"><span style=\"font-weight: bold\">[</span>\n",
       "    <span style=\"color: #008000; text-decoration-color: #008000\">'C1-C2'</span>,\n",
       "    <span style=\"color: #008000; text-decoration-color: #008000\">'C2=C3'</span>,\n",
       "    <span style=\"color: #008000; text-decoration-color: #008000\">'C3-C4'</span>,\n",
       "    <span style=\"color: #008000; text-decoration-color: #008000\">'C4=C5'</span>,\n",
       "    <span style=\"color: #008000; text-decoration-color: #008000\">'C5-C6'</span>,\n",
       "    <span style=\"color: #008000; text-decoration-color: #008000\">'C6=C1'</span>,\n",
       "    <span style=\"color: #008000; text-decoration-color: #008000\">'C1-C7'</span>,\n",
       "    <span style=\"color: #008000; text-decoration-color: #008000\">'C6-C11'</span>,\n",
       "    <span style=\"color: #008000; text-decoration-color: #008000\">'C10-C1'</span>,\n",
       "    <span style=\"color: #008000; text-decoration-color: #008000\">'C14-C6'</span>,\n",
       "    <span style=\"color: #008000; text-decoration-color: #008000\">'C7=C8'</span>,\n",
       "    <span style=\"color: #008000; text-decoration-color: #008000\">'C8-C9'</span>,\n",
       "    <span style=\"color: #008000; text-decoration-color: #008000\">'C9=C10'</span>,\n",
       "    <span style=\"color: #008000; text-decoration-color: #008000\">'C11=C12'</span>,\n",
       "    <span style=\"color: #008000; text-decoration-color: #008000\">'C12-C13'</span>,\n",
       "    <span style=\"color: #008000; text-decoration-color: #008000\">'C13=C14'</span>\n",
       "<span style=\"font-weight: bold\">]</span>\n",
       "</pre>\n"
      ],
      "text/plain": [
       "\u001b[1m[\u001b[0m\n",
       "    \u001b[32m'C1-C2'\u001b[0m,\n",
       "    \u001b[32m'\u001b[0m\u001b[32mC2\u001b[0m\u001b[32m=\u001b[0m\u001b[32mC3\u001b[0m\u001b[32m'\u001b[0m,\n",
       "    \u001b[32m'C3-C4'\u001b[0m,\n",
       "    \u001b[32m'\u001b[0m\u001b[32mC4\u001b[0m\u001b[32m=\u001b[0m\u001b[32mC5\u001b[0m\u001b[32m'\u001b[0m,\n",
       "    \u001b[32m'C5-C6'\u001b[0m,\n",
       "    \u001b[32m'\u001b[0m\u001b[32mC6\u001b[0m\u001b[32m=\u001b[0m\u001b[32mC1\u001b[0m\u001b[32m'\u001b[0m,\n",
       "    \u001b[32m'C1-C7'\u001b[0m,\n",
       "    \u001b[32m'C6-C11'\u001b[0m,\n",
       "    \u001b[32m'C10-C1'\u001b[0m,\n",
       "    \u001b[32m'C14-C6'\u001b[0m,\n",
       "    \u001b[32m'\u001b[0m\u001b[32mC7\u001b[0m\u001b[32m=\u001b[0m\u001b[32mC8\u001b[0m\u001b[32m'\u001b[0m,\n",
       "    \u001b[32m'C8-C9'\u001b[0m,\n",
       "    \u001b[32m'\u001b[0m\u001b[32mC9\u001b[0m\u001b[32m=\u001b[0m\u001b[32mC10\u001b[0m\u001b[32m'\u001b[0m,\n",
       "    \u001b[32m'\u001b[0m\u001b[32mC11\u001b[0m\u001b[32m=\u001b[0m\u001b[32mC12\u001b[0m\u001b[32m'\u001b[0m,\n",
       "    \u001b[32m'C12-C13'\u001b[0m,\n",
       "    \u001b[32m'\u001b[0m\u001b[32mC13\u001b[0m\u001b[32m=\u001b[0m\u001b[32mC14\u001b[0m\u001b[32m'\u001b[0m\n",
       "\u001b[1m]\u001b[0m\n"
      ]
     },
     "metadata": {},
     "output_type": "display_data"
    },
    {
     "data": {
      "text/html": [
       "<pre style=\"white-space:pre;overflow-x:auto;line-height:normal;font-family:Menlo,'DejaVu Sans Mono',consolas,'Courier New',monospace\">********************************************************************************\n",
       "</pre>\n"
      ],
      "text/plain": [
       "********************************************************************************\n"
      ]
     },
     "metadata": {},
     "output_type": "display_data"
    },
    {
     "data": {
      "text/html": [
       "<pre style=\"white-space:pre;overflow-x:auto;line-height:normal;font-family:Menlo,'DejaVu Sans Mono',consolas,'Courier New',monospace\">chain info: <span style=\"font-weight: bold\">{</span><span style=\"color: #008000; text-decoration-color: #008000\">'Chain11'</span>: <span style=\"font-weight: bold\">{</span><span style=\"color: #008000; text-decoration-color: #008000\">'receiver'</span>: <span style=\"font-weight: bold\">[</span><span style=\"color: #008000; text-decoration-color: #008000\">'C1'</span><span style=\"font-weight: bold\">]</span>, <span style=\"color: #008000; text-decoration-color: #008000\">'bonds'</span>: <span style=\"font-weight: bold\">[]</span>, <span style=\"color: #008000; text-decoration-color: #008000\">'gate'</span>: <span style=\"font-weight: bold\">[]</span>, <span style=\"color: #008000; text-decoration-color: #008000\">'type'</span>: <span style=\"color: #008000; text-decoration-color: #008000\">'ring'</span>, <span style=\"color: #008000; text-decoration-color: #008000\">'connection-port'</span>: <span style=\"font-weight: bold\">{}}</span>, \n",
       "<span style=\"color: #008000; text-decoration-color: #008000\">'Chain21'</span>: <span style=\"font-weight: bold\">{</span><span style=\"color: #008000; text-decoration-color: #008000\">'receiver'</span>: <span style=\"font-weight: bold\">[</span><span style=\"color: #008000; text-decoration-color: #008000\">'C2'</span><span style=\"font-weight: bold\">]</span>, <span style=\"color: #008000; text-decoration-color: #008000\">'bonds'</span>: <span style=\"font-weight: bold\">[]</span>, <span style=\"color: #008000; text-decoration-color: #008000\">'gate'</span>: <span style=\"font-weight: bold\">[]</span>, <span style=\"color: #008000; text-decoration-color: #008000\">'type'</span>: <span style=\"color: #008000; text-decoration-color: #008000\">'ring'</span>, <span style=\"color: #008000; text-decoration-color: #008000\">'connection-port'</span>: <span style=\"font-weight: bold\">{}}}</span>\n",
       "</pre>\n"
      ],
      "text/plain": [
       "chain info: \u001b[1m{\u001b[0m\u001b[32m'Chain11'\u001b[0m: \u001b[1m{\u001b[0m\u001b[32m'receiver'\u001b[0m: \u001b[1m[\u001b[0m\u001b[32m'C1'\u001b[0m\u001b[1m]\u001b[0m, \u001b[32m'bonds'\u001b[0m: \u001b[1m[\u001b[0m\u001b[1m]\u001b[0m, \u001b[32m'gate'\u001b[0m: \u001b[1m[\u001b[0m\u001b[1m]\u001b[0m, \u001b[32m'type'\u001b[0m: \u001b[32m'ring'\u001b[0m, \u001b[32m'connection-port'\u001b[0m: \u001b[1m{\u001b[0m\u001b[1m}\u001b[0m\u001b[1m}\u001b[0m, \n",
       "\u001b[32m'Chain21'\u001b[0m: \u001b[1m{\u001b[0m\u001b[32m'receiver'\u001b[0m: \u001b[1m[\u001b[0m\u001b[32m'C2'\u001b[0m\u001b[1m]\u001b[0m, \u001b[32m'bonds'\u001b[0m: \u001b[1m[\u001b[0m\u001b[1m]\u001b[0m, \u001b[32m'gate'\u001b[0m: \u001b[1m[\u001b[0m\u001b[1m]\u001b[0m, \u001b[32m'type'\u001b[0m: \u001b[32m'ring'\u001b[0m, \u001b[32m'connection-port'\u001b[0m: \u001b[1m{\u001b[0m\u001b[1m}\u001b[0m\u001b[1m}\u001b[0m\u001b[1m}\u001b[0m\n"
      ]
     },
     "metadata": {},
     "output_type": "display_data"
    },
    {
     "data": {
      "text/html": [
       "<pre style=\"white-space:pre;overflow-x:auto;line-height:normal;font-family:Menlo,'DejaVu Sans Mono',consolas,'Courier New',monospace\">chain info: <span style=\"font-weight: bold\">{</span><span style=\"color: #008000; text-decoration-color: #008000\">'Chain11'</span>: <span style=\"font-weight: bold\">{</span><span style=\"color: #008000; text-decoration-color: #008000\">'receiver'</span>: <span style=\"font-weight: bold\">[</span><span style=\"color: #008000; text-decoration-color: #008000\">'C1'</span><span style=\"font-weight: bold\">]</span>, <span style=\"color: #008000; text-decoration-color: #008000\">'bonds'</span>: <span style=\"font-weight: bold\">[</span><span style=\"color: #008000; text-decoration-color: #008000\">'C5=C6'</span>, <span style=\"color: #008000; text-decoration-color: #008000\">'C6-C7'</span><span style=\"font-weight: bold\">]</span>, <span style=\"color: #008000; text-decoration-color: #008000\">'gate'</span>: <span style=\"font-weight: bold\">[</span><span style=\"color: #008000; text-decoration-color: #008000\">'-C5'</span>, <span style=\"color: #008000; text-decoration-color: #008000\">'C7='</span><span style=\"font-weight: bold\">]</span>, <span style=\"color: #008000; text-decoration-color: #008000\">'type'</span>: <span style=\"color: #008000; text-decoration-color: #008000\">'ring'</span>, \n",
       "<span style=\"color: #008000; text-decoration-color: #008000\">'connection-port'</span>: <span style=\"font-weight: bold\">{</span><span style=\"color: #008000; text-decoration-color: #008000\">'-C5'</span>: <span style=\"font-weight: bold\">{</span><span style=\"color: #008000; text-decoration-color: #008000\">'port'</span>: <span style=\"color: #008000; text-decoration-color: #008000\">'*'</span>, <span style=\"color: #008000; text-decoration-color: #008000\">'bond'</span>: <span style=\"color: #008000; text-decoration-color: #008000\">'C5'</span>, <span style=\"color: #008000; text-decoration-color: #008000\">'bond-type'</span>: <span style=\"color: #008000; text-decoration-color: #008000\">'-'</span>, <span style=\"color: #008000; text-decoration-color: #008000\">'bond-gate'</span>: <span style=\"color: #008000; text-decoration-color: #008000\">'-C5'</span>, <span style=\"color: #008000; text-decoration-color: #008000\">'port-status'</span>: \n",
       "<span style=\"color: #008000; text-decoration-color: #008000\">'open'</span><span style=\"font-weight: bold\">}</span>, <span style=\"color: #008000; text-decoration-color: #008000\">'C7='</span>: <span style=\"font-weight: bold\">{</span><span style=\"color: #008000; text-decoration-color: #008000\">'port'</span>: <span style=\"color: #008000; text-decoration-color: #008000\">'*'</span>, <span style=\"color: #008000; text-decoration-color: #008000\">'bond'</span>: <span style=\"color: #008000; text-decoration-color: #008000\">'C7'</span>, <span style=\"color: #008000; text-decoration-color: #008000\">'bond-type'</span>: <span style=\"color: #008000; text-decoration-color: #008000\">'='</span>, <span style=\"color: #008000; text-decoration-color: #008000\">'bond-gate'</span>: <span style=\"color: #008000; text-decoration-color: #008000\">'C7='</span>, <span style=\"color: #008000; text-decoration-color: #008000\">'port-status'</span>: <span style=\"color: #008000; text-decoration-color: #008000\">'open'</span><span style=\"font-weight: bold\">}}}</span>, \n",
       "<span style=\"color: #008000; text-decoration-color: #008000\">'Chain21'</span>: <span style=\"font-weight: bold\">{</span><span style=\"color: #008000; text-decoration-color: #008000\">'receiver'</span>: <span style=\"font-weight: bold\">[</span><span style=\"color: #008000; text-decoration-color: #008000\">'C2'</span><span style=\"font-weight: bold\">]</span>, <span style=\"color: #008000; text-decoration-color: #008000\">'bonds'</span>: <span style=\"font-weight: bold\">[</span><span style=\"color: #008000; text-decoration-color: #008000\">'C8=C9'</span>, <span style=\"color: #008000; text-decoration-color: #008000\">'C9-C10'</span><span style=\"font-weight: bold\">]</span>, <span style=\"color: #008000; text-decoration-color: #008000\">'gate'</span>: <span style=\"font-weight: bold\">[</span><span style=\"color: #008000; text-decoration-color: #008000\">'-C8'</span>, <span style=\"color: #008000; text-decoration-color: #008000\">'C10='</span><span style=\"font-weight: bold\">]</span>, <span style=\"color: #008000; text-decoration-color: #008000\">'type'</span>: <span style=\"color: #008000; text-decoration-color: #008000\">'ring'</span>, \n",
       "<span style=\"color: #008000; text-decoration-color: #008000\">'connection-port'</span>: <span style=\"font-weight: bold\">{</span><span style=\"color: #008000; text-decoration-color: #008000\">'-C8'</span>: <span style=\"font-weight: bold\">{</span><span style=\"color: #008000; text-decoration-color: #008000\">'port'</span>: <span style=\"color: #008000; text-decoration-color: #008000\">'*'</span>, <span style=\"color: #008000; text-decoration-color: #008000\">'bond'</span>: <span style=\"color: #008000; text-decoration-color: #008000\">'C8'</span>, <span style=\"color: #008000; text-decoration-color: #008000\">'bond-type'</span>: <span style=\"color: #008000; text-decoration-color: #008000\">'-'</span>, <span style=\"color: #008000; text-decoration-color: #008000\">'bond-gate'</span>: <span style=\"color: #008000; text-decoration-color: #008000\">'-C8'</span>, <span style=\"color: #008000; text-decoration-color: #008000\">'port-status'</span>: \n",
       "<span style=\"color: #008000; text-decoration-color: #008000\">'open'</span><span style=\"font-weight: bold\">}</span>, <span style=\"color: #008000; text-decoration-color: #008000\">'C10='</span>: <span style=\"font-weight: bold\">{</span><span style=\"color: #008000; text-decoration-color: #008000\">'port'</span>: <span style=\"color: #008000; text-decoration-color: #008000\">'*'</span>, <span style=\"color: #008000; text-decoration-color: #008000\">'bond'</span>: <span style=\"color: #008000; text-decoration-color: #008000\">'C10'</span>, <span style=\"color: #008000; text-decoration-color: #008000\">'bond-type'</span>: <span style=\"color: #008000; text-decoration-color: #008000\">'='</span>, <span style=\"color: #008000; text-decoration-color: #008000\">'bond-gate'</span>: <span style=\"color: #008000; text-decoration-color: #008000\">'C10='</span>, <span style=\"color: #008000; text-decoration-color: #008000\">'port-status'</span>: <span style=\"color: #008000; text-decoration-color: #008000\">'open'</span><span style=\"font-weight: bold\">}}}}</span>\n",
       "</pre>\n"
      ],
      "text/plain": [
       "chain info: \u001b[1m{\u001b[0m\u001b[32m'Chain11'\u001b[0m: \u001b[1m{\u001b[0m\u001b[32m'receiver'\u001b[0m: \u001b[1m[\u001b[0m\u001b[32m'C1'\u001b[0m\u001b[1m]\u001b[0m, \u001b[32m'bonds'\u001b[0m: \u001b[1m[\u001b[0m\u001b[32m'\u001b[0m\u001b[32mC5\u001b[0m\u001b[32m=\u001b[0m\u001b[32mC6\u001b[0m\u001b[32m'\u001b[0m, \u001b[32m'C6-C7'\u001b[0m\u001b[1m]\u001b[0m, \u001b[32m'gate'\u001b[0m: \u001b[1m[\u001b[0m\u001b[32m'-C5'\u001b[0m, \u001b[32m'\u001b[0m\u001b[32mC7\u001b[0m\u001b[32m='\u001b[0m\u001b[1m]\u001b[0m, \u001b[32m'type'\u001b[0m: \u001b[32m'ring'\u001b[0m, \n",
       "\u001b[32m'connection-port'\u001b[0m: \u001b[1m{\u001b[0m\u001b[32m'-C5'\u001b[0m: \u001b[1m{\u001b[0m\u001b[32m'port'\u001b[0m: \u001b[32m'*'\u001b[0m, \u001b[32m'bond'\u001b[0m: \u001b[32m'C5'\u001b[0m, \u001b[32m'bond-type'\u001b[0m: \u001b[32m'-'\u001b[0m, \u001b[32m'bond-gate'\u001b[0m: \u001b[32m'-C5'\u001b[0m, \u001b[32m'port-status'\u001b[0m: \n",
       "\u001b[32m'open'\u001b[0m\u001b[1m}\u001b[0m, \u001b[32m'\u001b[0m\u001b[32mC7\u001b[0m\u001b[32m='\u001b[0m: \u001b[1m{\u001b[0m\u001b[32m'port'\u001b[0m: \u001b[32m'*'\u001b[0m, \u001b[32m'bond'\u001b[0m: \u001b[32m'C7'\u001b[0m, \u001b[32m'bond-type'\u001b[0m: \u001b[32m'='\u001b[0m, \u001b[32m'bond-gate'\u001b[0m: \u001b[32m'\u001b[0m\u001b[32mC7\u001b[0m\u001b[32m='\u001b[0m, \u001b[32m'port-status'\u001b[0m: \u001b[32m'open'\u001b[0m\u001b[1m}\u001b[0m\u001b[1m}\u001b[0m\u001b[1m}\u001b[0m, \n",
       "\u001b[32m'Chain21'\u001b[0m: \u001b[1m{\u001b[0m\u001b[32m'receiver'\u001b[0m: \u001b[1m[\u001b[0m\u001b[32m'C2'\u001b[0m\u001b[1m]\u001b[0m, \u001b[32m'bonds'\u001b[0m: \u001b[1m[\u001b[0m\u001b[32m'\u001b[0m\u001b[32mC8\u001b[0m\u001b[32m=\u001b[0m\u001b[32mC9\u001b[0m\u001b[32m'\u001b[0m, \u001b[32m'C9-C10'\u001b[0m\u001b[1m]\u001b[0m, \u001b[32m'gate'\u001b[0m: \u001b[1m[\u001b[0m\u001b[32m'-C8'\u001b[0m, \u001b[32m'\u001b[0m\u001b[32mC10\u001b[0m\u001b[32m='\u001b[0m\u001b[1m]\u001b[0m, \u001b[32m'type'\u001b[0m: \u001b[32m'ring'\u001b[0m, \n",
       "\u001b[32m'connection-port'\u001b[0m: \u001b[1m{\u001b[0m\u001b[32m'-C8'\u001b[0m: \u001b[1m{\u001b[0m\u001b[32m'port'\u001b[0m: \u001b[32m'*'\u001b[0m, \u001b[32m'bond'\u001b[0m: \u001b[32m'C8'\u001b[0m, \u001b[32m'bond-type'\u001b[0m: \u001b[32m'-'\u001b[0m, \u001b[32m'bond-gate'\u001b[0m: \u001b[32m'-C8'\u001b[0m, \u001b[32m'port-status'\u001b[0m: \n",
       "\u001b[32m'open'\u001b[0m\u001b[1m}\u001b[0m, \u001b[32m'\u001b[0m\u001b[32mC10\u001b[0m\u001b[32m='\u001b[0m: \u001b[1m{\u001b[0m\u001b[32m'port'\u001b[0m: \u001b[32m'*'\u001b[0m, \u001b[32m'bond'\u001b[0m: \u001b[32m'C10'\u001b[0m, \u001b[32m'bond-type'\u001b[0m: \u001b[32m'='\u001b[0m, \u001b[32m'bond-gate'\u001b[0m: \u001b[32m'\u001b[0m\u001b[32mC10\u001b[0m\u001b[32m='\u001b[0m, \u001b[32m'port-status'\u001b[0m: \u001b[32m'open'\u001b[0m\u001b[1m}\u001b[0m\u001b[1m}\u001b[0m\u001b[1m}\u001b[0m\u001b[1m}\u001b[0m\n"
      ]
     },
     "metadata": {},
     "output_type": "display_data"
    },
    {
     "data": {
      "text/html": [
       "<pre style=\"white-space:pre;overflow-x:auto;line-height:normal;font-family:Menlo,'DejaVu Sans Mono',consolas,'Courier New',monospace\">atom: C, index1: <span style=\"color: #008080; text-decoration-color: #008080; font-weight: bold\">1</span>, gate: Chain11\n",
       "</pre>\n"
      ],
      "text/plain": [
       "atom: C, index1: \u001b[1;36m1\u001b[0m, gate: Chain11\n"
      ]
     },
     "metadata": {},
     "output_type": "display_data"
    },
    {
     "data": {
      "text/html": [
       "<pre style=\"white-space:pre;overflow-x:auto;line-height:normal;font-family:Menlo,'DejaVu Sans Mono',consolas,'Courier New',monospace\">element_index: <span style=\"color: #008080; text-decoration-color: #008080; font-weight: bold\">0</span>\n",
       "</pre>\n"
      ],
      "text/plain": [
       "element_index: \u001b[1;36m0\u001b[0m\n"
      ]
     },
     "metadata": {},
     "output_type": "display_data"
    },
    {
     "data": {
      "text/html": [
       "<pre style=\"white-space:pre;overflow-x:auto;line-height:normal;font-family:Menlo,'DejaVu Sans Mono',consolas,'Courier New',monospace\">Gate num: <span style=\"color: #008080; text-decoration-color: #008080; font-weight: bold\">2</span>\n",
       "</pre>\n"
      ],
      "text/plain": [
       "Gate num: \u001b[1;36m2\u001b[0m\n"
      ]
     },
     "metadata": {},
     "output_type": "display_data"
    },
    {
     "data": {
      "text/html": [
       "<pre style=\"white-space:pre;overflow-x:auto;line-height:normal;font-family:Menlo,'DejaVu Sans Mono',consolas,'Courier New',monospace\">Chain type: ring\n",
       "</pre>\n"
      ],
      "text/plain": [
       "Chain type: ring\n"
      ]
     },
     "metadata": {},
     "output_type": "display_data"
    },
    {
     "data": {
      "text/html": [
       "<pre style=\"white-space:pre;overflow-x:auto;line-height:normal;font-family:Menlo,'DejaVu Sans Mono',consolas,'Courier New',monospace\">atom: C, index1: <span style=\"color: #008080; text-decoration-color: #008080; font-weight: bold\">2</span>, gate: Chain21\n",
       "</pre>\n"
      ],
      "text/plain": [
       "atom: C, index1: \u001b[1;36m2\u001b[0m, gate: Chain21\n"
      ]
     },
     "metadata": {},
     "output_type": "display_data"
    },
    {
     "data": {
      "text/html": [
       "<pre style=\"white-space:pre;overflow-x:auto;line-height:normal;font-family:Menlo,'DejaVu Sans Mono',consolas,'Courier New',monospace\">element_index: <span style=\"color: #008080; text-decoration-color: #008080; font-weight: bold\">2</span>\n",
       "</pre>\n"
      ],
      "text/plain": [
       "element_index: \u001b[1;36m2\u001b[0m\n"
      ]
     },
     "metadata": {},
     "output_type": "display_data"
    },
    {
     "data": {
      "text/html": [
       "<pre style=\"white-space:pre;overflow-x:auto;line-height:normal;font-family:Menlo,'DejaVu Sans Mono',consolas,'Courier New',monospace\">Gate num: <span style=\"color: #008080; text-decoration-color: #008080; font-weight: bold\">2</span>\n",
       "</pre>\n"
      ],
      "text/plain": [
       "Gate num: \u001b[1;36m2\u001b[0m\n"
      ]
     },
     "metadata": {},
     "output_type": "display_data"
    },
    {
     "data": {
      "text/html": [
       "<pre style=\"white-space:pre;overflow-x:auto;line-height:normal;font-family:Menlo,'DejaVu Sans Mono',consolas,'Courier New',monospace\">Chain type: ring\n",
       "</pre>\n"
      ],
      "text/plain": [
       "Chain type: ring\n"
      ]
     },
     "metadata": {},
     "output_type": "display_data"
    },
    {
     "data": {
      "text/html": [
       "<pre style=\"white-space:pre;overflow-x:auto;line-height:normal;font-family:Menlo,'DejaVu Sans Mono',consolas,'Courier New',monospace\"><span style=\"font-weight: bold\">{</span>\n",
       "    <span style=\"color: #008000; text-decoration-color: #008000\">'MainChain'</span>: <span style=\"font-weight: bold\">[</span><span style=\"color: #008000; text-decoration-color: #008000\">'C1*{Chain1}'</span>, <span style=\"color: #008000; text-decoration-color: #008000\">'C1-C2'</span>, <span style=\"color: #008000; text-decoration-color: #008000\">'C2*{Chain2}'</span>, <span style=\"color: #008000; text-decoration-color: #008000\">'C2-C3'</span>, <span style=\"color: #008000; text-decoration-color: #008000\">'C3=XX4'</span><span style=\"font-weight: bold\">]</span>,\n",
       "    <span style=\"color: #008000; text-decoration-color: #008000\">'Chain1'</span>: <span style=\"font-weight: bold\">[</span><span style=\"color: #008000; text-decoration-color: #008000\">'*-C1'</span>, <span style=\"color: #008000; text-decoration-color: #008000\">'C1=C2'</span>, <span style=\"color: #008000; text-decoration-color: #008000\">'C2-C3'</span>, <span style=\"color: #008000; text-decoration-color: #008000\">'C3=*'</span><span style=\"font-weight: bold\">]</span>,\n",
       "    <span style=\"color: #008000; text-decoration-color: #008000\">'Chain2'</span>: <span style=\"font-weight: bold\">[</span><span style=\"color: #008000; text-decoration-color: #008000\">'*-C1'</span>, <span style=\"color: #008000; text-decoration-color: #008000\">'C1=C2'</span>, <span style=\"color: #008000; text-decoration-color: #008000\">'C2-C3'</span>, <span style=\"color: #008000; text-decoration-color: #008000\">'C3=*'</span><span style=\"font-weight: bold\">]</span>\n",
       "<span style=\"font-weight: bold\">}</span>\n",
       "</pre>\n"
      ],
      "text/plain": [
       "\u001b[1m{\u001b[0m\n",
       "    \u001b[32m'MainChain'\u001b[0m: \u001b[1m[\u001b[0m\u001b[32m'C1*\u001b[0m\u001b[32m{\u001b[0m\u001b[32mChain1\u001b[0m\u001b[32m}\u001b[0m\u001b[32m'\u001b[0m, \u001b[32m'C1-C2'\u001b[0m, \u001b[32m'C2*\u001b[0m\u001b[32m{\u001b[0m\u001b[32mChain2\u001b[0m\u001b[32m}\u001b[0m\u001b[32m'\u001b[0m, \u001b[32m'C2-C3'\u001b[0m, \u001b[32m'\u001b[0m\u001b[32mC3\u001b[0m\u001b[32m=\u001b[0m\u001b[32mXX4\u001b[0m\u001b[32m'\u001b[0m\u001b[1m]\u001b[0m,\n",
       "    \u001b[32m'Chain1'\u001b[0m: \u001b[1m[\u001b[0m\u001b[32m'*-C1'\u001b[0m, \u001b[32m'\u001b[0m\u001b[32mC1\u001b[0m\u001b[32m=\u001b[0m\u001b[32mC2\u001b[0m\u001b[32m'\u001b[0m, \u001b[32m'C2-C3'\u001b[0m, \u001b[32m'\u001b[0m\u001b[32mC3\u001b[0m\u001b[32m=*'\u001b[0m\u001b[1m]\u001b[0m,\n",
       "    \u001b[32m'Chain2'\u001b[0m: \u001b[1m[\u001b[0m\u001b[32m'*-C1'\u001b[0m, \u001b[32m'\u001b[0m\u001b[32mC1\u001b[0m\u001b[32m=\u001b[0m\u001b[32mC2\u001b[0m\u001b[32m'\u001b[0m, \u001b[32m'C2-C3'\u001b[0m, \u001b[32m'\u001b[0m\u001b[32mC3\u001b[0m\u001b[32m=*'\u001b[0m\u001b[1m]\u001b[0m\n",
       "\u001b[1m}\u001b[0m\n"
      ]
     },
     "metadata": {},
     "output_type": "display_data"
    },
    {
     "data": {
      "text/html": [
       "<pre style=\"white-space:pre;overflow-x:auto;line-height:normal;font-family:Menlo,'DejaVu Sans Mono',consolas,'Courier New',monospace\"><span style=\"font-weight: bold\">[</span><span style=\"color: #008000; text-decoration-color: #008000\">'C1-C5'</span>, <span style=\"color: #008000; text-decoration-color: #008000\">'C1-C2'</span>, <span style=\"color: #008000; text-decoration-color: #008000\">'C2-C8'</span>, <span style=\"color: #008000; text-decoration-color: #008000\">'C2-C3'</span>, <span style=\"color: #008000; text-decoration-color: #008000\">'C3=XX4'</span>, <span style=\"color: #008000; text-decoration-color: #008000\">'C7=C1'</span>, <span style=\"color: #008000; text-decoration-color: #008000\">'C10=C2'</span>, <span style=\"color: #008000; text-decoration-color: #008000\">'C5=C6'</span>, <span style=\"color: #008000; text-decoration-color: #008000\">'C6-C7'</span>, <span style=\"color: #008000; text-decoration-color: #008000\">'C8=C9'</span>, <span style=\"color: #008000; text-decoration-color: #008000\">'C9-C10'</span><span style=\"font-weight: bold\">]</span>\n",
       "</pre>\n"
      ],
      "text/plain": [
       "\u001b[1m[\u001b[0m\u001b[32m'C1-C5'\u001b[0m, \u001b[32m'C1-C2'\u001b[0m, \u001b[32m'C2-C8'\u001b[0m, \u001b[32m'C2-C3'\u001b[0m, \u001b[32m'\u001b[0m\u001b[32mC3\u001b[0m\u001b[32m=\u001b[0m\u001b[32mXX4\u001b[0m\u001b[32m'\u001b[0m, \u001b[32m'\u001b[0m\u001b[32mC7\u001b[0m\u001b[32m=\u001b[0m\u001b[32mC1\u001b[0m\u001b[32m'\u001b[0m, \u001b[32m'\u001b[0m\u001b[32mC10\u001b[0m\u001b[32m=\u001b[0m\u001b[32mC2\u001b[0m\u001b[32m'\u001b[0m, \u001b[32m'\u001b[0m\u001b[32mC5\u001b[0m\u001b[32m=\u001b[0m\u001b[32mC6\u001b[0m\u001b[32m'\u001b[0m, \u001b[32m'C6-C7'\u001b[0m, \u001b[32m'\u001b[0m\u001b[32mC8\u001b[0m\u001b[32m=\u001b[0m\u001b[32mC9\u001b[0m\u001b[32m'\u001b[0m, \u001b[32m'C9-C10'\u001b[0m\u001b[1m]\u001b[0m\n"
      ]
     },
     "metadata": {},
     "output_type": "display_data"
    },
    {
     "data": {
      "text/html": [
       "<pre style=\"white-space:pre;overflow-x:auto;line-height:normal;font-family:Menlo,'DejaVu Sans Mono',consolas,'Courier New',monospace\"><span style=\"font-weight: bold\">[</span><span style=\"color: #008000; text-decoration-color: #008000\">'C1-C5'</span>, <span style=\"color: #008000; text-decoration-color: #008000\">'C1-C2'</span>, <span style=\"color: #008000; text-decoration-color: #008000\">'C2-C8'</span>, <span style=\"color: #008000; text-decoration-color: #008000\">'C2-C3'</span>, <span style=\"color: #008000; text-decoration-color: #008000\">'C3=XX4'</span>, <span style=\"color: #008000; text-decoration-color: #008000\">'C7=C1'</span>, <span style=\"color: #008000; text-decoration-color: #008000\">'C10=C2'</span>, <span style=\"color: #008000; text-decoration-color: #008000\">'C5=C6'</span>, <span style=\"color: #008000; text-decoration-color: #008000\">'C6-C7'</span>, <span style=\"color: #008000; text-decoration-color: #008000\">'C8=C9'</span>, <span style=\"color: #008000; text-decoration-color: #008000\">'C9-C10'</span><span style=\"font-weight: bold\">]</span>\n",
       "</pre>\n"
      ],
      "text/plain": [
       "\u001b[1m[\u001b[0m\u001b[32m'C1-C5'\u001b[0m, \u001b[32m'C1-C2'\u001b[0m, \u001b[32m'C2-C8'\u001b[0m, \u001b[32m'C2-C3'\u001b[0m, \u001b[32m'\u001b[0m\u001b[32mC3\u001b[0m\u001b[32m=\u001b[0m\u001b[32mXX4\u001b[0m\u001b[32m'\u001b[0m, \u001b[32m'\u001b[0m\u001b[32mC7\u001b[0m\u001b[32m=\u001b[0m\u001b[32mC1\u001b[0m\u001b[32m'\u001b[0m, \u001b[32m'\u001b[0m\u001b[32mC10\u001b[0m\u001b[32m=\u001b[0m\u001b[32mC2\u001b[0m\u001b[32m'\u001b[0m, \u001b[32m'\u001b[0m\u001b[32mC5\u001b[0m\u001b[32m=\u001b[0m\u001b[32mC6\u001b[0m\u001b[32m'\u001b[0m, \u001b[32m'C6-C7'\u001b[0m, \u001b[32m'\u001b[0m\u001b[32mC8\u001b[0m\u001b[32m=\u001b[0m\u001b[32mC9\u001b[0m\u001b[32m'\u001b[0m, \u001b[32m'C9-C10'\u001b[0m\u001b[1m]\u001b[0m\n"
      ]
     },
     "metadata": {},
     "output_type": "display_data"
    },
    {
     "data": {
      "text/html": [
       "<pre style=\"white-space:pre;overflow-x:auto;line-height:normal;font-family:Menlo,'DejaVu Sans Mono',consolas,'Courier New',monospace\">********************************************************************************\n",
       "</pre>\n"
      ],
      "text/plain": [
       "********************************************************************************\n"
      ]
     },
     "metadata": {},
     "output_type": "display_data"
    },
    {
     "data": {
      "text/html": [
       "<pre style=\"white-space:pre;overflow-x:auto;line-height:normal;font-family:Menlo,'DejaVu Sans Mono',consolas,'Courier New',monospace\">chain info: <span style=\"font-weight: bold\">{</span><span style=\"color: #008000; text-decoration-color: #008000\">'Chain11'</span>: <span style=\"font-weight: bold\">{</span><span style=\"color: #008000; text-decoration-color: #008000\">'receiver'</span>: <span style=\"font-weight: bold\">[</span><span style=\"color: #008000; text-decoration-color: #008000\">'C2'</span><span style=\"font-weight: bold\">]</span>, <span style=\"color: #008000; text-decoration-color: #008000\">'bonds'</span>: <span style=\"font-weight: bold\">[]</span>, <span style=\"color: #008000; text-decoration-color: #008000\">'gate'</span>: <span style=\"font-weight: bold\">[]</span>, <span style=\"color: #008000; text-decoration-color: #008000\">'type'</span>: <span style=\"color: #008000; text-decoration-color: #008000\">'branch'</span>, <span style=\"color: #008000; text-decoration-color: #008000\">'connection-port'</span>: <span style=\"font-weight: bold\">{}}</span>, \n",
       "<span style=\"color: #008000; text-decoration-color: #008000\">'Chain21'</span>: <span style=\"font-weight: bold\">{</span><span style=\"color: #008000; text-decoration-color: #008000\">'receiver'</span>: <span style=\"font-weight: bold\">[</span><span style=\"color: #008000; text-decoration-color: #008000\">'C3'</span><span style=\"font-weight: bold\">]</span>, <span style=\"color: #008000; text-decoration-color: #008000\">'bonds'</span>: <span style=\"font-weight: bold\">[]</span>, <span style=\"color: #008000; text-decoration-color: #008000\">'gate'</span>: <span style=\"font-weight: bold\">[]</span>, <span style=\"color: #008000; text-decoration-color: #008000\">'type'</span>: <span style=\"color: #008000; text-decoration-color: #008000\">'branch'</span>, <span style=\"color: #008000; text-decoration-color: #008000\">'connection-port'</span>: <span style=\"font-weight: bold\">{}}}</span>\n",
       "</pre>\n"
      ],
      "text/plain": [
       "chain info: \u001b[1m{\u001b[0m\u001b[32m'Chain11'\u001b[0m: \u001b[1m{\u001b[0m\u001b[32m'receiver'\u001b[0m: \u001b[1m[\u001b[0m\u001b[32m'C2'\u001b[0m\u001b[1m]\u001b[0m, \u001b[32m'bonds'\u001b[0m: \u001b[1m[\u001b[0m\u001b[1m]\u001b[0m, \u001b[32m'gate'\u001b[0m: \u001b[1m[\u001b[0m\u001b[1m]\u001b[0m, \u001b[32m'type'\u001b[0m: \u001b[32m'branch'\u001b[0m, \u001b[32m'connection-port'\u001b[0m: \u001b[1m{\u001b[0m\u001b[1m}\u001b[0m\u001b[1m}\u001b[0m, \n",
       "\u001b[32m'Chain21'\u001b[0m: \u001b[1m{\u001b[0m\u001b[32m'receiver'\u001b[0m: \u001b[1m[\u001b[0m\u001b[32m'C3'\u001b[0m\u001b[1m]\u001b[0m, \u001b[32m'bonds'\u001b[0m: \u001b[1m[\u001b[0m\u001b[1m]\u001b[0m, \u001b[32m'gate'\u001b[0m: \u001b[1m[\u001b[0m\u001b[1m]\u001b[0m, \u001b[32m'type'\u001b[0m: \u001b[32m'branch'\u001b[0m, \u001b[32m'connection-port'\u001b[0m: \u001b[1m{\u001b[0m\u001b[1m}\u001b[0m\u001b[1m}\u001b[0m\u001b[1m}\u001b[0m\n"
      ]
     },
     "metadata": {},
     "output_type": "display_data"
    },
    {
     "data": {
      "text/html": [
       "<pre style=\"white-space:pre;overflow-x:auto;line-height:normal;font-family:Menlo,'DejaVu Sans Mono',consolas,'Courier New',monospace\">chain info: <span style=\"font-weight: bold\">{</span><span style=\"color: #008000; text-decoration-color: #008000\">'Chain11'</span>: <span style=\"font-weight: bold\">{</span><span style=\"color: #008000; text-decoration-color: #008000\">'receiver'</span>: <span style=\"font-weight: bold\">[</span><span style=\"color: #008000; text-decoration-color: #008000\">'C2'</span><span style=\"font-weight: bold\">]</span>, <span style=\"color: #008000; text-decoration-color: #008000\">'bonds'</span>: <span style=\"font-weight: bold\">[</span><span style=\"color: #008000; text-decoration-color: #008000\">'C4=C5'</span>, <span style=\"color: #008000; text-decoration-color: #008000\">'C5-C6'</span>, <span style=\"color: #008000; text-decoration-color: #008000\">'C6=XX7'</span><span style=\"font-weight: bold\">]</span>, <span style=\"color: #008000; text-decoration-color: #008000\">'gate'</span>: <span style=\"font-weight: bold\">[</span><span style=\"color: #008000; text-decoration-color: #008000\">'-C4'</span><span style=\"font-weight: bold\">]</span>, <span style=\"color: #008000; text-decoration-color: #008000\">'type'</span>: \n",
       "<span style=\"color: #008000; text-decoration-color: #008000\">'branch'</span>, <span style=\"color: #008000; text-decoration-color: #008000\">'connection-port'</span>: <span style=\"font-weight: bold\">{</span><span style=\"color: #008000; text-decoration-color: #008000\">'-C4'</span>: <span style=\"font-weight: bold\">{</span><span style=\"color: #008000; text-decoration-color: #008000\">'port'</span>: <span style=\"color: #008000; text-decoration-color: #008000\">'*'</span>, <span style=\"color: #008000; text-decoration-color: #008000\">'bond'</span>: <span style=\"color: #008000; text-decoration-color: #008000\">'C4'</span>, <span style=\"color: #008000; text-decoration-color: #008000\">'bond-type'</span>: <span style=\"color: #008000; text-decoration-color: #008000\">'-'</span>, <span style=\"color: #008000; text-decoration-color: #008000\">'bond-gate'</span>: <span style=\"color: #008000; text-decoration-color: #008000\">'-C4'</span>, \n",
       "<span style=\"color: #008000; text-decoration-color: #008000\">'port-status'</span>: <span style=\"color: #008000; text-decoration-color: #008000\">'open'</span><span style=\"font-weight: bold\">}}}</span>, <span style=\"color: #008000; text-decoration-color: #008000\">'Chain21'</span>: <span style=\"font-weight: bold\">{</span><span style=\"color: #008000; text-decoration-color: #008000\">'receiver'</span>: <span style=\"font-weight: bold\">[</span><span style=\"color: #008000; text-decoration-color: #008000\">'C3'</span><span style=\"font-weight: bold\">]</span>, <span style=\"color: #008000; text-decoration-color: #008000\">'bonds'</span>: <span style=\"font-weight: bold\">[</span><span style=\"color: #008000; text-decoration-color: #008000\">'C8=C9'</span>, <span style=\"color: #008000; text-decoration-color: #008000\">'C9-C10'</span><span style=\"font-weight: bold\">]</span>, <span style=\"color: #008000; text-decoration-color: #008000\">'gate'</span>: <span style=\"font-weight: bold\">[</span><span style=\"color: #008000; text-decoration-color: #008000\">'-C8'</span><span style=\"font-weight: bold\">]</span>, <span style=\"color: #008000; text-decoration-color: #008000\">'type'</span>: \n",
       "<span style=\"color: #008000; text-decoration-color: #008000\">'branch'</span>, <span style=\"color: #008000; text-decoration-color: #008000\">'connection-port'</span>: <span style=\"font-weight: bold\">{</span><span style=\"color: #008000; text-decoration-color: #008000\">'-C8'</span>: <span style=\"font-weight: bold\">{</span><span style=\"color: #008000; text-decoration-color: #008000\">'port'</span>: <span style=\"color: #008000; text-decoration-color: #008000\">'*'</span>, <span style=\"color: #008000; text-decoration-color: #008000\">'bond'</span>: <span style=\"color: #008000; text-decoration-color: #008000\">'C8'</span>, <span style=\"color: #008000; text-decoration-color: #008000\">'bond-type'</span>: <span style=\"color: #008000; text-decoration-color: #008000\">'-'</span>, <span style=\"color: #008000; text-decoration-color: #008000\">'bond-gate'</span>: <span style=\"color: #008000; text-decoration-color: #008000\">'-C8'</span>, \n",
       "<span style=\"color: #008000; text-decoration-color: #008000\">'port-status'</span>: <span style=\"color: #008000; text-decoration-color: #008000\">'open'</span><span style=\"font-weight: bold\">}}}}</span>\n",
       "</pre>\n"
      ],
      "text/plain": [
       "chain info: \u001b[1m{\u001b[0m\u001b[32m'Chain11'\u001b[0m: \u001b[1m{\u001b[0m\u001b[32m'receiver'\u001b[0m: \u001b[1m[\u001b[0m\u001b[32m'C2'\u001b[0m\u001b[1m]\u001b[0m, \u001b[32m'bonds'\u001b[0m: \u001b[1m[\u001b[0m\u001b[32m'\u001b[0m\u001b[32mC4\u001b[0m\u001b[32m=\u001b[0m\u001b[32mC5\u001b[0m\u001b[32m'\u001b[0m, \u001b[32m'C5-C6'\u001b[0m, \u001b[32m'\u001b[0m\u001b[32mC6\u001b[0m\u001b[32m=\u001b[0m\u001b[32mXX7\u001b[0m\u001b[32m'\u001b[0m\u001b[1m]\u001b[0m, \u001b[32m'gate'\u001b[0m: \u001b[1m[\u001b[0m\u001b[32m'-C4'\u001b[0m\u001b[1m]\u001b[0m, \u001b[32m'type'\u001b[0m: \n",
       "\u001b[32m'branch'\u001b[0m, \u001b[32m'connection-port'\u001b[0m: \u001b[1m{\u001b[0m\u001b[32m'-C4'\u001b[0m: \u001b[1m{\u001b[0m\u001b[32m'port'\u001b[0m: \u001b[32m'*'\u001b[0m, \u001b[32m'bond'\u001b[0m: \u001b[32m'C4'\u001b[0m, \u001b[32m'bond-type'\u001b[0m: \u001b[32m'-'\u001b[0m, \u001b[32m'bond-gate'\u001b[0m: \u001b[32m'-C4'\u001b[0m, \n",
       "\u001b[32m'port-status'\u001b[0m: \u001b[32m'open'\u001b[0m\u001b[1m}\u001b[0m\u001b[1m}\u001b[0m\u001b[1m}\u001b[0m, \u001b[32m'Chain21'\u001b[0m: \u001b[1m{\u001b[0m\u001b[32m'receiver'\u001b[0m: \u001b[1m[\u001b[0m\u001b[32m'C3'\u001b[0m\u001b[1m]\u001b[0m, \u001b[32m'bonds'\u001b[0m: \u001b[1m[\u001b[0m\u001b[32m'\u001b[0m\u001b[32mC8\u001b[0m\u001b[32m=\u001b[0m\u001b[32mC9\u001b[0m\u001b[32m'\u001b[0m, \u001b[32m'C9-C10'\u001b[0m\u001b[1m]\u001b[0m, \u001b[32m'gate'\u001b[0m: \u001b[1m[\u001b[0m\u001b[32m'-C8'\u001b[0m\u001b[1m]\u001b[0m, \u001b[32m'type'\u001b[0m: \n",
       "\u001b[32m'branch'\u001b[0m, \u001b[32m'connection-port'\u001b[0m: \u001b[1m{\u001b[0m\u001b[32m'-C8'\u001b[0m: \u001b[1m{\u001b[0m\u001b[32m'port'\u001b[0m: \u001b[32m'*'\u001b[0m, \u001b[32m'bond'\u001b[0m: \u001b[32m'C8'\u001b[0m, \u001b[32m'bond-type'\u001b[0m: \u001b[32m'-'\u001b[0m, \u001b[32m'bond-gate'\u001b[0m: \u001b[32m'-C8'\u001b[0m, \n",
       "\u001b[32m'port-status'\u001b[0m: \u001b[32m'open'\u001b[0m\u001b[1m}\u001b[0m\u001b[1m}\u001b[0m\u001b[1m}\u001b[0m\u001b[1m}\u001b[0m\n"
      ]
     },
     "metadata": {},
     "output_type": "display_data"
    },
    {
     "data": {
      "text/html": [
       "<pre style=\"white-space:pre;overflow-x:auto;line-height:normal;font-family:Menlo,'DejaVu Sans Mono',consolas,'Courier New',monospace\">atom: C, index1: <span style=\"color: #008080; text-decoration-color: #008080; font-weight: bold\">2</span>, gate: Chain11\n",
       "</pre>\n"
      ],
      "text/plain": [
       "atom: C, index1: \u001b[1;36m2\u001b[0m, gate: Chain11\n"
      ]
     },
     "metadata": {},
     "output_type": "display_data"
    },
    {
     "data": {
      "text/html": [
       "<pre style=\"white-space:pre;overflow-x:auto;line-height:normal;font-family:Menlo,'DejaVu Sans Mono',consolas,'Courier New',monospace\">element_index: <span style=\"color: #008080; text-decoration-color: #008080; font-weight: bold\">1</span>\n",
       "</pre>\n"
      ],
      "text/plain": [
       "element_index: \u001b[1;36m1\u001b[0m\n"
      ]
     },
     "metadata": {},
     "output_type": "display_data"
    },
    {
     "data": {
      "text/html": [
       "<pre style=\"white-space:pre;overflow-x:auto;line-height:normal;font-family:Menlo,'DejaVu Sans Mono',consolas,'Courier New',monospace\">Gate num: <span style=\"color: #008080; text-decoration-color: #008080; font-weight: bold\">1</span>\n",
       "</pre>\n"
      ],
      "text/plain": [
       "Gate num: \u001b[1;36m1\u001b[0m\n"
      ]
     },
     "metadata": {},
     "output_type": "display_data"
    },
    {
     "data": {
      "text/html": [
       "<pre style=\"white-space:pre;overflow-x:auto;line-height:normal;font-family:Menlo,'DejaVu Sans Mono',consolas,'Courier New',monospace\">Chain type: branch\n",
       "</pre>\n"
      ],
      "text/plain": [
       "Chain type: branch\n"
      ]
     },
     "metadata": {},
     "output_type": "display_data"
    },
    {
     "data": {
      "text/html": [
       "<pre style=\"white-space:pre;overflow-x:auto;line-height:normal;font-family:Menlo,'DejaVu Sans Mono',consolas,'Courier New',monospace\">atom: C, index1: <span style=\"color: #008080; text-decoration-color: #008080; font-weight: bold\">3</span>, gate: Chain21\n",
       "</pre>\n"
      ],
      "text/plain": [
       "atom: C, index1: \u001b[1;36m3\u001b[0m, gate: Chain21\n"
      ]
     },
     "metadata": {},
     "output_type": "display_data"
    },
    {
     "data": {
      "text/html": [
       "<pre style=\"white-space:pre;overflow-x:auto;line-height:normal;font-family:Menlo,'DejaVu Sans Mono',consolas,'Courier New',monospace\">element_index: <span style=\"color: #008080; text-decoration-color: #008080; font-weight: bold\">3</span>\n",
       "</pre>\n"
      ],
      "text/plain": [
       "element_index: \u001b[1;36m3\u001b[0m\n"
      ]
     },
     "metadata": {},
     "output_type": "display_data"
    },
    {
     "data": {
      "text/html": [
       "<pre style=\"white-space:pre;overflow-x:auto;line-height:normal;font-family:Menlo,'DejaVu Sans Mono',consolas,'Courier New',monospace\">Gate num: <span style=\"color: #008080; text-decoration-color: #008080; font-weight: bold\">1</span>\n",
       "</pre>\n"
      ],
      "text/plain": [
       "Gate num: \u001b[1;36m1\u001b[0m\n"
      ]
     },
     "metadata": {},
     "output_type": "display_data"
    },
    {
     "data": {
      "text/html": [
       "<pre style=\"white-space:pre;overflow-x:auto;line-height:normal;font-family:Menlo,'DejaVu Sans Mono',consolas,'Courier New',monospace\">Chain type: branch\n",
       "</pre>\n"
      ],
      "text/plain": [
       "Chain type: branch\n"
      ]
     },
     "metadata": {},
     "output_type": "display_data"
    },
    {
     "data": {
      "text/html": [
       "<pre style=\"white-space:pre;overflow-x:auto;line-height:normal;font-family:Menlo,'DejaVu Sans Mono',consolas,'Courier New',monospace\"><span style=\"font-weight: bold\">{</span>\n",
       "    <span style=\"color: #008000; text-decoration-color: #008000\">'MainChain'</span>: <span style=\"font-weight: bold\">[</span><span style=\"color: #008000; text-decoration-color: #008000\">'C1-C2'</span>, <span style=\"color: #008000; text-decoration-color: #008000\">'C2*{Chain1}'</span>, <span style=\"color: #008000; text-decoration-color: #008000\">'C2-C3'</span>, <span style=\"color: #008000; text-decoration-color: #008000\">'C3*{Chain2}'</span><span style=\"font-weight: bold\">]</span>,\n",
       "    <span style=\"color: #008000; text-decoration-color: #008000\">'Chain1'</span>: <span style=\"font-weight: bold\">[</span><span style=\"color: #008000; text-decoration-color: #008000\">'*-C1'</span>, <span style=\"color: #008000; text-decoration-color: #008000\">'C1=C2'</span>, <span style=\"color: #008000; text-decoration-color: #008000\">'C2-C3'</span>, <span style=\"color: #008000; text-decoration-color: #008000\">'C3=XX4'</span><span style=\"font-weight: bold\">]</span>,\n",
       "    <span style=\"color: #008000; text-decoration-color: #008000\">'Chain2'</span>: <span style=\"font-weight: bold\">[</span><span style=\"color: #008000; text-decoration-color: #008000\">'*-C1'</span>, <span style=\"color: #008000; text-decoration-color: #008000\">'C1=C2'</span>, <span style=\"color: #008000; text-decoration-color: #008000\">'C2-C3'</span><span style=\"font-weight: bold\">]</span>\n",
       "<span style=\"font-weight: bold\">}</span>\n",
       "</pre>\n"
      ],
      "text/plain": [
       "\u001b[1m{\u001b[0m\n",
       "    \u001b[32m'MainChain'\u001b[0m: \u001b[1m[\u001b[0m\u001b[32m'C1-C2'\u001b[0m, \u001b[32m'C2*\u001b[0m\u001b[32m{\u001b[0m\u001b[32mChain1\u001b[0m\u001b[32m}\u001b[0m\u001b[32m'\u001b[0m, \u001b[32m'C2-C3'\u001b[0m, \u001b[32m'C3*\u001b[0m\u001b[32m{\u001b[0m\u001b[32mChain2\u001b[0m\u001b[32m}\u001b[0m\u001b[32m'\u001b[0m\u001b[1m]\u001b[0m,\n",
       "    \u001b[32m'Chain1'\u001b[0m: \u001b[1m[\u001b[0m\u001b[32m'*-C1'\u001b[0m, \u001b[32m'\u001b[0m\u001b[32mC1\u001b[0m\u001b[32m=\u001b[0m\u001b[32mC2\u001b[0m\u001b[32m'\u001b[0m, \u001b[32m'C2-C3'\u001b[0m, \u001b[32m'\u001b[0m\u001b[32mC3\u001b[0m\u001b[32m=\u001b[0m\u001b[32mXX4\u001b[0m\u001b[32m'\u001b[0m\u001b[1m]\u001b[0m,\n",
       "    \u001b[32m'Chain2'\u001b[0m: \u001b[1m[\u001b[0m\u001b[32m'*-C1'\u001b[0m, \u001b[32m'\u001b[0m\u001b[32mC1\u001b[0m\u001b[32m=\u001b[0m\u001b[32mC2\u001b[0m\u001b[32m'\u001b[0m, \u001b[32m'C2-C3'\u001b[0m\u001b[1m]\u001b[0m\n",
       "\u001b[1m}\u001b[0m\n"
      ]
     },
     "metadata": {},
     "output_type": "display_data"
    },
    {
     "data": {
      "text/html": [
       "<pre style=\"white-space:pre;overflow-x:auto;line-height:normal;font-family:Menlo,'DejaVu Sans Mono',consolas,'Courier New',monospace\"><span style=\"font-weight: bold\">[</span><span style=\"color: #008000; text-decoration-color: #008000\">'C1-C2'</span>, <span style=\"color: #008000; text-decoration-color: #008000\">'C2-C4'</span>, <span style=\"color: #008000; text-decoration-color: #008000\">'C2-C3'</span>, <span style=\"color: #008000; text-decoration-color: #008000\">'C3-C8'</span>, <span style=\"color: #008000; text-decoration-color: #008000\">'C4=C5'</span>, <span style=\"color: #008000; text-decoration-color: #008000\">'C5-C6'</span>, <span style=\"color: #008000; text-decoration-color: #008000\">'C6=XX7'</span>, <span style=\"color: #008000; text-decoration-color: #008000\">'C8=C9'</span>, <span style=\"color: #008000; text-decoration-color: #008000\">'C9-C10'</span><span style=\"font-weight: bold\">]</span>\n",
       "</pre>\n"
      ],
      "text/plain": [
       "\u001b[1m[\u001b[0m\u001b[32m'C1-C2'\u001b[0m, \u001b[32m'C2-C4'\u001b[0m, \u001b[32m'C2-C3'\u001b[0m, \u001b[32m'C3-C8'\u001b[0m, \u001b[32m'\u001b[0m\u001b[32mC4\u001b[0m\u001b[32m=\u001b[0m\u001b[32mC5\u001b[0m\u001b[32m'\u001b[0m, \u001b[32m'C5-C6'\u001b[0m, \u001b[32m'\u001b[0m\u001b[32mC6\u001b[0m\u001b[32m=\u001b[0m\u001b[32mXX7\u001b[0m\u001b[32m'\u001b[0m, \u001b[32m'\u001b[0m\u001b[32mC8\u001b[0m\u001b[32m=\u001b[0m\u001b[32mC9\u001b[0m\u001b[32m'\u001b[0m, \u001b[32m'C9-C10'\u001b[0m\u001b[1m]\u001b[0m\n"
      ]
     },
     "metadata": {},
     "output_type": "display_data"
    },
    {
     "data": {
      "text/html": [
       "<pre style=\"white-space:pre;overflow-x:auto;line-height:normal;font-family:Menlo,'DejaVu Sans Mono',consolas,'Courier New',monospace\"><span style=\"font-weight: bold\">[</span><span style=\"color: #008000; text-decoration-color: #008000\">'C1-C2'</span>, <span style=\"color: #008000; text-decoration-color: #008000\">'C2-C4'</span>, <span style=\"color: #008000; text-decoration-color: #008000\">'C2-C3'</span>, <span style=\"color: #008000; text-decoration-color: #008000\">'C3-C8'</span>, <span style=\"color: #008000; text-decoration-color: #008000\">'C4=C5'</span>, <span style=\"color: #008000; text-decoration-color: #008000\">'C5-C6'</span>, <span style=\"color: #008000; text-decoration-color: #008000\">'C6=XX7'</span>, <span style=\"color: #008000; text-decoration-color: #008000\">'C8=C9'</span>, <span style=\"color: #008000; text-decoration-color: #008000\">'C9-C10'</span><span style=\"font-weight: bold\">]</span>\n",
       "</pre>\n"
      ],
      "text/plain": [
       "\u001b[1m[\u001b[0m\u001b[32m'C1-C2'\u001b[0m, \u001b[32m'C2-C4'\u001b[0m, \u001b[32m'C2-C3'\u001b[0m, \u001b[32m'C3-C8'\u001b[0m, \u001b[32m'\u001b[0m\u001b[32mC4\u001b[0m\u001b[32m=\u001b[0m\u001b[32mC5\u001b[0m\u001b[32m'\u001b[0m, \u001b[32m'C5-C6'\u001b[0m, \u001b[32m'\u001b[0m\u001b[32mC6\u001b[0m\u001b[32m=\u001b[0m\u001b[32mXX7\u001b[0m\u001b[32m'\u001b[0m, \u001b[32m'\u001b[0m\u001b[32mC8\u001b[0m\u001b[32m=\u001b[0m\u001b[32mC9\u001b[0m\u001b[32m'\u001b[0m, \u001b[32m'C9-C10'\u001b[0m\u001b[1m]\u001b[0m\n"
      ]
     },
     "metadata": {},
     "output_type": "display_data"
    },
    {
     "data": {
      "text/html": [
       "<pre style=\"white-space:pre;overflow-x:auto;line-height:normal;font-family:Menlo,'DejaVu Sans Mono',consolas,'Courier New',monospace\">********************************************************************************\n",
       "</pre>\n"
      ],
      "text/plain": [
       "********************************************************************************\n"
      ]
     },
     "metadata": {},
     "output_type": "display_data"
    },
    {
     "data": {
      "text/html": [
       "<pre style=\"white-space:pre;overflow-x:auto;line-height:normal;font-family:Menlo,'DejaVu Sans Mono',consolas,'Courier New',monospace\">chain info: <span style=\"font-weight: bold\">{</span><span style=\"color: #008000; text-decoration-color: #008000\">'Chain11'</span>: <span style=\"font-weight: bold\">{</span><span style=\"color: #008000; text-decoration-color: #008000\">'receiver'</span>: <span style=\"font-weight: bold\">[</span><span style=\"color: #008000; text-decoration-color: #008000\">'C1'</span><span style=\"font-weight: bold\">]</span>, <span style=\"color: #008000; text-decoration-color: #008000\">'bonds'</span>: <span style=\"font-weight: bold\">[]</span>, <span style=\"color: #008000; text-decoration-color: #008000\">'gate'</span>: <span style=\"font-weight: bold\">[]</span>, <span style=\"color: #008000; text-decoration-color: #008000\">'type'</span>: <span style=\"color: #008000; text-decoration-color: #008000\">'branch'</span>, <span style=\"color: #008000; text-decoration-color: #008000\">'connection-port'</span>: <span style=\"font-weight: bold\">{}}</span>, \n",
       "<span style=\"color: #008000; text-decoration-color: #008000\">'Chain21'</span>: <span style=\"font-weight: bold\">{</span><span style=\"color: #008000; text-decoration-color: #008000\">'receiver'</span>: <span style=\"font-weight: bold\">[</span><span style=\"color: #008000; text-decoration-color: #008000\">'C3'</span>, <span style=\"color: #008000; text-decoration-color: #008000\">'C4'</span><span style=\"font-weight: bold\">]</span>, <span style=\"color: #008000; text-decoration-color: #008000\">'bonds'</span>: <span style=\"font-weight: bold\">[]</span>, <span style=\"color: #008000; text-decoration-color: #008000\">'gate'</span>: <span style=\"font-weight: bold\">[]</span>, <span style=\"color: #008000; text-decoration-color: #008000\">'type'</span>: <span style=\"color: #008000; text-decoration-color: #008000\">'bridge'</span>, <span style=\"color: #008000; text-decoration-color: #008000\">'connection-port'</span>: <span style=\"font-weight: bold\">{}}}</span>\n",
       "</pre>\n"
      ],
      "text/plain": [
       "chain info: \u001b[1m{\u001b[0m\u001b[32m'Chain11'\u001b[0m: \u001b[1m{\u001b[0m\u001b[32m'receiver'\u001b[0m: \u001b[1m[\u001b[0m\u001b[32m'C1'\u001b[0m\u001b[1m]\u001b[0m, \u001b[32m'bonds'\u001b[0m: \u001b[1m[\u001b[0m\u001b[1m]\u001b[0m, \u001b[32m'gate'\u001b[0m: \u001b[1m[\u001b[0m\u001b[1m]\u001b[0m, \u001b[32m'type'\u001b[0m: \u001b[32m'branch'\u001b[0m, \u001b[32m'connection-port'\u001b[0m: \u001b[1m{\u001b[0m\u001b[1m}\u001b[0m\u001b[1m}\u001b[0m, \n",
       "\u001b[32m'Chain21'\u001b[0m: \u001b[1m{\u001b[0m\u001b[32m'receiver'\u001b[0m: \u001b[1m[\u001b[0m\u001b[32m'C3'\u001b[0m, \u001b[32m'C4'\u001b[0m\u001b[1m]\u001b[0m, \u001b[32m'bonds'\u001b[0m: \u001b[1m[\u001b[0m\u001b[1m]\u001b[0m, \u001b[32m'gate'\u001b[0m: \u001b[1m[\u001b[0m\u001b[1m]\u001b[0m, \u001b[32m'type'\u001b[0m: \u001b[32m'bridge'\u001b[0m, \u001b[32m'connection-port'\u001b[0m: \u001b[1m{\u001b[0m\u001b[1m}\u001b[0m\u001b[1m}\u001b[0m\u001b[1m}\u001b[0m\n"
      ]
     },
     "metadata": {},
     "output_type": "display_data"
    },
    {
     "data": {
      "text/html": [
       "<pre style=\"white-space:pre;overflow-x:auto;line-height:normal;font-family:Menlo,'DejaVu Sans Mono',consolas,'Courier New',monospace\">chain info: <span style=\"font-weight: bold\">{</span><span style=\"color: #008000; text-decoration-color: #008000\">'Chain11'</span>: <span style=\"font-weight: bold\">{</span><span style=\"color: #008000; text-decoration-color: #008000\">'receiver'</span>: <span style=\"font-weight: bold\">[</span><span style=\"color: #008000; text-decoration-color: #008000\">'C1'</span><span style=\"font-weight: bold\">]</span>, <span style=\"color: #008000; text-decoration-color: #008000\">'bonds'</span>: <span style=\"font-weight: bold\">[</span><span style=\"color: #008000; text-decoration-color: #008000\">'C5=C6'</span>, <span style=\"color: #008000; text-decoration-color: #008000\">'C6-XX7'</span><span style=\"font-weight: bold\">]</span>, <span style=\"color: #008000; text-decoration-color: #008000\">'gate'</span>: <span style=\"font-weight: bold\">[</span><span style=\"color: #008000; text-decoration-color: #008000\">'-C5'</span><span style=\"font-weight: bold\">]</span>, <span style=\"color: #008000; text-decoration-color: #008000\">'type'</span>: <span style=\"color: #008000; text-decoration-color: #008000\">'branch'</span>, \n",
       "<span style=\"color: #008000; text-decoration-color: #008000\">'connection-port'</span>: <span style=\"font-weight: bold\">{</span><span style=\"color: #008000; text-decoration-color: #008000\">'-C5'</span>: <span style=\"font-weight: bold\">{</span><span style=\"color: #008000; text-decoration-color: #008000\">'port'</span>: <span style=\"color: #008000; text-decoration-color: #008000\">'*'</span>, <span style=\"color: #008000; text-decoration-color: #008000\">'bond'</span>: <span style=\"color: #008000; text-decoration-color: #008000\">'C5'</span>, <span style=\"color: #008000; text-decoration-color: #008000\">'bond-type'</span>: <span style=\"color: #008000; text-decoration-color: #008000\">'-'</span>, <span style=\"color: #008000; text-decoration-color: #008000\">'bond-gate'</span>: <span style=\"color: #008000; text-decoration-color: #008000\">'-C5'</span>, <span style=\"color: #008000; text-decoration-color: #008000\">'port-status'</span>: \n",
       "<span style=\"color: #008000; text-decoration-color: #008000\">'open'</span><span style=\"font-weight: bold\">}}}</span>, <span style=\"color: #008000; text-decoration-color: #008000\">'Chain21'</span>: <span style=\"font-weight: bold\">{</span><span style=\"color: #008000; text-decoration-color: #008000\">'receiver'</span>: <span style=\"font-weight: bold\">[</span><span style=\"color: #008000; text-decoration-color: #008000\">'C3'</span>, <span style=\"color: #008000; text-decoration-color: #008000\">'C4'</span><span style=\"font-weight: bold\">]</span>, <span style=\"color: #008000; text-decoration-color: #008000\">'bonds'</span>: <span style=\"font-weight: bold\">[</span><span style=\"color: #008000; text-decoration-color: #008000\">'C8=C9'</span><span style=\"font-weight: bold\">]</span>, <span style=\"color: #008000; text-decoration-color: #008000\">'gate'</span>: <span style=\"font-weight: bold\">[</span><span style=\"color: #008000; text-decoration-color: #008000\">'-C8'</span>, <span style=\"color: #008000; text-decoration-color: #008000\">'C9-'</span><span style=\"font-weight: bold\">]</span>, <span style=\"color: #008000; text-decoration-color: #008000\">'type'</span>: <span style=\"color: #008000; text-decoration-color: #008000\">'bridge'</span>, \n",
       "<span style=\"color: #008000; text-decoration-color: #008000\">'connection-port'</span>: <span style=\"font-weight: bold\">{</span><span style=\"color: #008000; text-decoration-color: #008000\">'-C8'</span>: <span style=\"font-weight: bold\">{</span><span style=\"color: #008000; text-decoration-color: #008000\">'port'</span>: <span style=\"color: #008000; text-decoration-color: #008000\">'*'</span>, <span style=\"color: #008000; text-decoration-color: #008000\">'bond'</span>: <span style=\"color: #008000; text-decoration-color: #008000\">'C8'</span>, <span style=\"color: #008000; text-decoration-color: #008000\">'bond-type'</span>: <span style=\"color: #008000; text-decoration-color: #008000\">'-'</span>, <span style=\"color: #008000; text-decoration-color: #008000\">'bond-gate'</span>: <span style=\"color: #008000; text-decoration-color: #008000\">'-C8'</span>, <span style=\"color: #008000; text-decoration-color: #008000\">'port-status'</span>: \n",
       "<span style=\"color: #008000; text-decoration-color: #008000\">'open'</span><span style=\"font-weight: bold\">}</span>, <span style=\"color: #008000; text-decoration-color: #008000\">'C9-'</span>: <span style=\"font-weight: bold\">{</span><span style=\"color: #008000; text-decoration-color: #008000\">'port'</span>: <span style=\"color: #008000; text-decoration-color: #008000\">'**'</span>, <span style=\"color: #008000; text-decoration-color: #008000\">'bond'</span>: <span style=\"color: #008000; text-decoration-color: #008000\">'C9'</span>, <span style=\"color: #008000; text-decoration-color: #008000\">'bond-type'</span>: <span style=\"color: #008000; text-decoration-color: #008000\">'-'</span>, <span style=\"color: #008000; text-decoration-color: #008000\">'bond-gate'</span>: <span style=\"color: #008000; text-decoration-color: #008000\">'C9-'</span>, <span style=\"color: #008000; text-decoration-color: #008000\">'port-status'</span>: <span style=\"color: #008000; text-decoration-color: #008000\">'open'</span><span style=\"font-weight: bold\">}}}}</span>\n",
       "</pre>\n"
      ],
      "text/plain": [
       "chain info: \u001b[1m{\u001b[0m\u001b[32m'Chain11'\u001b[0m: \u001b[1m{\u001b[0m\u001b[32m'receiver'\u001b[0m: \u001b[1m[\u001b[0m\u001b[32m'C1'\u001b[0m\u001b[1m]\u001b[0m, \u001b[32m'bonds'\u001b[0m: \u001b[1m[\u001b[0m\u001b[32m'\u001b[0m\u001b[32mC5\u001b[0m\u001b[32m=\u001b[0m\u001b[32mC6\u001b[0m\u001b[32m'\u001b[0m, \u001b[32m'C6-XX7'\u001b[0m\u001b[1m]\u001b[0m, \u001b[32m'gate'\u001b[0m: \u001b[1m[\u001b[0m\u001b[32m'-C5'\u001b[0m\u001b[1m]\u001b[0m, \u001b[32m'type'\u001b[0m: \u001b[32m'branch'\u001b[0m, \n",
       "\u001b[32m'connection-port'\u001b[0m: \u001b[1m{\u001b[0m\u001b[32m'-C5'\u001b[0m: \u001b[1m{\u001b[0m\u001b[32m'port'\u001b[0m: \u001b[32m'*'\u001b[0m, \u001b[32m'bond'\u001b[0m: \u001b[32m'C5'\u001b[0m, \u001b[32m'bond-type'\u001b[0m: \u001b[32m'-'\u001b[0m, \u001b[32m'bond-gate'\u001b[0m: \u001b[32m'-C5'\u001b[0m, \u001b[32m'port-status'\u001b[0m: \n",
       "\u001b[32m'open'\u001b[0m\u001b[1m}\u001b[0m\u001b[1m}\u001b[0m\u001b[1m}\u001b[0m, \u001b[32m'Chain21'\u001b[0m: \u001b[1m{\u001b[0m\u001b[32m'receiver'\u001b[0m: \u001b[1m[\u001b[0m\u001b[32m'C3'\u001b[0m, \u001b[32m'C4'\u001b[0m\u001b[1m]\u001b[0m, \u001b[32m'bonds'\u001b[0m: \u001b[1m[\u001b[0m\u001b[32m'\u001b[0m\u001b[32mC8\u001b[0m\u001b[32m=\u001b[0m\u001b[32mC9\u001b[0m\u001b[32m'\u001b[0m\u001b[1m]\u001b[0m, \u001b[32m'gate'\u001b[0m: \u001b[1m[\u001b[0m\u001b[32m'-C8'\u001b[0m, \u001b[32m'C9-'\u001b[0m\u001b[1m]\u001b[0m, \u001b[32m'type'\u001b[0m: \u001b[32m'bridge'\u001b[0m, \n",
       "\u001b[32m'connection-port'\u001b[0m: \u001b[1m{\u001b[0m\u001b[32m'-C8'\u001b[0m: \u001b[1m{\u001b[0m\u001b[32m'port'\u001b[0m: \u001b[32m'*'\u001b[0m, \u001b[32m'bond'\u001b[0m: \u001b[32m'C8'\u001b[0m, \u001b[32m'bond-type'\u001b[0m: \u001b[32m'-'\u001b[0m, \u001b[32m'bond-gate'\u001b[0m: \u001b[32m'-C8'\u001b[0m, \u001b[32m'port-status'\u001b[0m: \n",
       "\u001b[32m'open'\u001b[0m\u001b[1m}\u001b[0m, \u001b[32m'C9-'\u001b[0m: \u001b[1m{\u001b[0m\u001b[32m'port'\u001b[0m: \u001b[32m'**'\u001b[0m, \u001b[32m'bond'\u001b[0m: \u001b[32m'C9'\u001b[0m, \u001b[32m'bond-type'\u001b[0m: \u001b[32m'-'\u001b[0m, \u001b[32m'bond-gate'\u001b[0m: \u001b[32m'C9-'\u001b[0m, \u001b[32m'port-status'\u001b[0m: \u001b[32m'open'\u001b[0m\u001b[1m}\u001b[0m\u001b[1m}\u001b[0m\u001b[1m}\u001b[0m\u001b[1m}\u001b[0m\n"
      ]
     },
     "metadata": {},
     "output_type": "display_data"
    },
    {
     "data": {
      "text/html": [
       "<pre style=\"white-space:pre;overflow-x:auto;line-height:normal;font-family:Menlo,'DejaVu Sans Mono',consolas,'Courier New',monospace\">atom: C, index1: <span style=\"color: #008080; text-decoration-color: #008080; font-weight: bold\">1</span>, gate: Chain11\n",
       "</pre>\n"
      ],
      "text/plain": [
       "atom: C, index1: \u001b[1;36m1\u001b[0m, gate: Chain11\n"
      ]
     },
     "metadata": {},
     "output_type": "display_data"
    },
    {
     "data": {
      "text/html": [
       "<pre style=\"white-space:pre;overflow-x:auto;line-height:normal;font-family:Menlo,'DejaVu Sans Mono',consolas,'Courier New',monospace\">element_index: <span style=\"color: #008080; text-decoration-color: #008080; font-weight: bold\">3</span>\n",
       "</pre>\n"
      ],
      "text/plain": [
       "element_index: \u001b[1;36m3\u001b[0m\n"
      ]
     },
     "metadata": {},
     "output_type": "display_data"
    },
    {
     "data": {
      "text/html": [
       "<pre style=\"white-space:pre;overflow-x:auto;line-height:normal;font-family:Menlo,'DejaVu Sans Mono',consolas,'Courier New',monospace\">Gate num: <span style=\"color: #008080; text-decoration-color: #008080; font-weight: bold\">1</span>\n",
       "</pre>\n"
      ],
      "text/plain": [
       "Gate num: \u001b[1;36m1\u001b[0m\n"
      ]
     },
     "metadata": {},
     "output_type": "display_data"
    },
    {
     "data": {
      "text/html": [
       "<pre style=\"white-space:pre;overflow-x:auto;line-height:normal;font-family:Menlo,'DejaVu Sans Mono',consolas,'Courier New',monospace\">Chain type: branch\n",
       "</pre>\n"
      ],
      "text/plain": [
       "Chain type: branch\n"
      ]
     },
     "metadata": {},
     "output_type": "display_data"
    },
    {
     "data": {
      "text/html": [
       "<pre style=\"white-space:pre;overflow-x:auto;line-height:normal;font-family:Menlo,'DejaVu Sans Mono',consolas,'Courier New',monospace\">atom: C, index1: <span style=\"color: #008080; text-decoration-color: #008080; font-weight: bold\">3</span>, gate: Chain21\n",
       "</pre>\n"
      ],
      "text/plain": [
       "atom: C, index1: \u001b[1;36m3\u001b[0m, gate: Chain21\n"
      ]
     },
     "metadata": {},
     "output_type": "display_data"
    },
    {
     "data": {
      "text/html": [
       "<pre style=\"white-space:pre;overflow-x:auto;line-height:normal;font-family:Menlo,'DejaVu Sans Mono',consolas,'Courier New',monospace\">element_index: <span style=\"color: #008080; text-decoration-color: #008080; font-weight: bold\">4</span>\n",
       "</pre>\n"
      ],
      "text/plain": [
       "element_index: \u001b[1;36m4\u001b[0m\n"
      ]
     },
     "metadata": {},
     "output_type": "display_data"
    },
    {
     "data": {
      "text/html": [
       "<pre style=\"white-space:pre;overflow-x:auto;line-height:normal;font-family:Menlo,'DejaVu Sans Mono',consolas,'Courier New',monospace\">Gate num: <span style=\"color: #008080; text-decoration-color: #008080; font-weight: bold\">2</span>\n",
       "</pre>\n"
      ],
      "text/plain": [
       "Gate num: \u001b[1;36m2\u001b[0m\n"
      ]
     },
     "metadata": {},
     "output_type": "display_data"
    },
    {
     "data": {
      "text/html": [
       "<pre style=\"white-space:pre;overflow-x:auto;line-height:normal;font-family:Menlo,'DejaVu Sans Mono',consolas,'Courier New',monospace\">Chain type: bridge\n",
       "</pre>\n"
      ],
      "text/plain": [
       "Chain type: bridge\n"
      ]
     },
     "metadata": {},
     "output_type": "display_data"
    },
    {
     "data": {
      "text/html": [
       "<pre style=\"white-space:pre;overflow-x:auto;line-height:normal;font-family:Menlo,'DejaVu Sans Mono',consolas,'Courier New',monospace\">atom: C, index1: <span style=\"color: #008080; text-decoration-color: #008080; font-weight: bold\">4</span>, gate: Chain21\n",
       "</pre>\n"
      ],
      "text/plain": [
       "atom: C, index1: \u001b[1;36m4\u001b[0m, gate: Chain21\n"
      ]
     },
     "metadata": {},
     "output_type": "display_data"
    },
    {
     "data": {
      "text/html": [
       "<pre style=\"white-space:pre;overflow-x:auto;line-height:normal;font-family:Menlo,'DejaVu Sans Mono',consolas,'Courier New',monospace\">element_index: <span style=\"color: #008080; text-decoration-color: #008080; font-weight: bold\">5</span>\n",
       "</pre>\n"
      ],
      "text/plain": [
       "element_index: \u001b[1;36m5\u001b[0m\n"
      ]
     },
     "metadata": {},
     "output_type": "display_data"
    },
    {
     "data": {
      "text/html": [
       "<pre style=\"white-space:pre;overflow-x:auto;line-height:normal;font-family:Menlo,'DejaVu Sans Mono',consolas,'Courier New',monospace\">Gate num: <span style=\"color: #008080; text-decoration-color: #008080; font-weight: bold\">2</span>\n",
       "</pre>\n"
      ],
      "text/plain": [
       "Gate num: \u001b[1;36m2\u001b[0m\n"
      ]
     },
     "metadata": {},
     "output_type": "display_data"
    },
    {
     "data": {
      "text/html": [
       "<pre style=\"white-space:pre;overflow-x:auto;line-height:normal;font-family:Menlo,'DejaVu Sans Mono',consolas,'Courier New',monospace\">Chain type: bridge\n",
       "</pre>\n"
      ],
      "text/plain": [
       "Chain type: bridge\n"
      ]
     },
     "metadata": {},
     "output_type": "display_data"
    },
    {
     "data": {
      "text/html": [
       "<pre style=\"white-space:pre;overflow-x:auto;line-height:normal;font-family:Menlo,'DejaVu Sans Mono',consolas,'Courier New',monospace\"><span style=\"font-weight: bold\">{</span>\n",
       "    <span style=\"color: #008000; text-decoration-color: #008000\">'MainChain'</span>: <span style=\"font-weight: bold\">[</span><span style=\"color: #008000; text-decoration-color: #008000\">'C1-C2'</span>, <span style=\"color: #008000; text-decoration-color: #008000\">'C2=C3'</span>, <span style=\"color: #008000; text-decoration-color: #008000\">'C3=C4'</span>, <span style=\"color: #008000; text-decoration-color: #008000\">'C1*{Chain1}'</span>, <span style=\"color: #008000; text-decoration-color: #008000\">'C3*{Chain2}'</span>, <span style=\"color: #008000; text-decoration-color: #008000\">'C4*{Chain2}'</span><span style=\"font-weight: bold\">]</span>,\n",
       "    <span style=\"color: #008000; text-decoration-color: #008000\">'Chain1'</span>: <span style=\"font-weight: bold\">[</span><span style=\"color: #008000; text-decoration-color: #008000\">'*-C1'</span>, <span style=\"color: #008000; text-decoration-color: #008000\">'C1=C2'</span>, <span style=\"color: #008000; text-decoration-color: #008000\">'C2-XX3'</span><span style=\"font-weight: bold\">]</span>,\n",
       "    <span style=\"color: #008000; text-decoration-color: #008000\">'Chain2'</span>: <span style=\"font-weight: bold\">[</span><span style=\"color: #008000; text-decoration-color: #008000\">'*-C1'</span>, <span style=\"color: #008000; text-decoration-color: #008000\">'C1=C2'</span>, <span style=\"color: #008000; text-decoration-color: #008000\">'C2-**'</span><span style=\"font-weight: bold\">]</span>\n",
       "<span style=\"font-weight: bold\">}</span>\n",
       "</pre>\n"
      ],
      "text/plain": [
       "\u001b[1m{\u001b[0m\n",
       "    \u001b[32m'MainChain'\u001b[0m: \u001b[1m[\u001b[0m\u001b[32m'C1-C2'\u001b[0m, \u001b[32m'\u001b[0m\u001b[32mC2\u001b[0m\u001b[32m=\u001b[0m\u001b[32mC3\u001b[0m\u001b[32m'\u001b[0m, \u001b[32m'\u001b[0m\u001b[32mC3\u001b[0m\u001b[32m=\u001b[0m\u001b[32mC4\u001b[0m\u001b[32m'\u001b[0m, \u001b[32m'C1*\u001b[0m\u001b[32m{\u001b[0m\u001b[32mChain1\u001b[0m\u001b[32m}\u001b[0m\u001b[32m'\u001b[0m, \u001b[32m'C3*\u001b[0m\u001b[32m{\u001b[0m\u001b[32mChain2\u001b[0m\u001b[32m}\u001b[0m\u001b[32m'\u001b[0m, \u001b[32m'C4*\u001b[0m\u001b[32m{\u001b[0m\u001b[32mChain2\u001b[0m\u001b[32m}\u001b[0m\u001b[32m'\u001b[0m\u001b[1m]\u001b[0m,\n",
       "    \u001b[32m'Chain1'\u001b[0m: \u001b[1m[\u001b[0m\u001b[32m'*-C1'\u001b[0m, \u001b[32m'\u001b[0m\u001b[32mC1\u001b[0m\u001b[32m=\u001b[0m\u001b[32mC2\u001b[0m\u001b[32m'\u001b[0m, \u001b[32m'C2-XX3'\u001b[0m\u001b[1m]\u001b[0m,\n",
       "    \u001b[32m'Chain2'\u001b[0m: \u001b[1m[\u001b[0m\u001b[32m'*-C1'\u001b[0m, \u001b[32m'\u001b[0m\u001b[32mC1\u001b[0m\u001b[32m=\u001b[0m\u001b[32mC2\u001b[0m\u001b[32m'\u001b[0m, \u001b[32m'C2-**'\u001b[0m\u001b[1m]\u001b[0m\n",
       "\u001b[1m}\u001b[0m\n"
      ]
     },
     "metadata": {},
     "output_type": "display_data"
    },
    {
     "data": {
      "text/html": [
       "<pre style=\"white-space:pre;overflow-x:auto;line-height:normal;font-family:Menlo,'DejaVu Sans Mono',consolas,'Courier New',monospace\"><span style=\"font-weight: bold\">[</span><span style=\"color: #008000; text-decoration-color: #008000\">'C1-C2'</span>, <span style=\"color: #008000; text-decoration-color: #008000\">'C2=C3'</span>, <span style=\"color: #008000; text-decoration-color: #008000\">'C3=C4'</span>, <span style=\"color: #008000; text-decoration-color: #008000\">'C1-C5'</span>, <span style=\"color: #008000; text-decoration-color: #008000\">'C3-C8'</span>, <span style=\"color: #008000; text-decoration-color: #008000\">'C9-C4'</span>, <span style=\"color: #008000; text-decoration-color: #008000\">'C5=C6'</span>, <span style=\"color: #008000; text-decoration-color: #008000\">'C6-XX7'</span>, <span style=\"color: #008000; text-decoration-color: #008000\">'C8=C9'</span><span style=\"font-weight: bold\">]</span>\n",
       "</pre>\n"
      ],
      "text/plain": [
       "\u001b[1m[\u001b[0m\u001b[32m'C1-C2'\u001b[0m, \u001b[32m'\u001b[0m\u001b[32mC2\u001b[0m\u001b[32m=\u001b[0m\u001b[32mC3\u001b[0m\u001b[32m'\u001b[0m, \u001b[32m'\u001b[0m\u001b[32mC3\u001b[0m\u001b[32m=\u001b[0m\u001b[32mC4\u001b[0m\u001b[32m'\u001b[0m, \u001b[32m'C1-C5'\u001b[0m, \u001b[32m'C3-C8'\u001b[0m, \u001b[32m'C9-C4'\u001b[0m, \u001b[32m'\u001b[0m\u001b[32mC5\u001b[0m\u001b[32m=\u001b[0m\u001b[32mC6\u001b[0m\u001b[32m'\u001b[0m, \u001b[32m'C6-XX7'\u001b[0m, \u001b[32m'\u001b[0m\u001b[32mC8\u001b[0m\u001b[32m=\u001b[0m\u001b[32mC9\u001b[0m\u001b[32m'\u001b[0m\u001b[1m]\u001b[0m\n"
      ]
     },
     "metadata": {},
     "output_type": "display_data"
    },
    {
     "data": {
      "text/html": [
       "<pre style=\"white-space:pre;overflow-x:auto;line-height:normal;font-family:Menlo,'DejaVu Sans Mono',consolas,'Courier New',monospace\"><span style=\"font-weight: bold\">[</span><span style=\"color: #008000; text-decoration-color: #008000\">'C1-C2'</span>, <span style=\"color: #008000; text-decoration-color: #008000\">'C2=C3'</span>, <span style=\"color: #008000; text-decoration-color: #008000\">'C3=C4'</span>, <span style=\"color: #008000; text-decoration-color: #008000\">'C1-C5'</span>, <span style=\"color: #008000; text-decoration-color: #008000\">'C3-C8'</span>, <span style=\"color: #008000; text-decoration-color: #008000\">'C9-C4'</span>, <span style=\"color: #008000; text-decoration-color: #008000\">'C5=C6'</span>, <span style=\"color: #008000; text-decoration-color: #008000\">'C6-XX7'</span>, <span style=\"color: #008000; text-decoration-color: #008000\">'C8=C9'</span><span style=\"font-weight: bold\">]</span>\n",
       "</pre>\n"
      ],
      "text/plain": [
       "\u001b[1m[\u001b[0m\u001b[32m'C1-C2'\u001b[0m, \u001b[32m'\u001b[0m\u001b[32mC2\u001b[0m\u001b[32m=\u001b[0m\u001b[32mC3\u001b[0m\u001b[32m'\u001b[0m, \u001b[32m'\u001b[0m\u001b[32mC3\u001b[0m\u001b[32m=\u001b[0m\u001b[32mC4\u001b[0m\u001b[32m'\u001b[0m, \u001b[32m'C1-C5'\u001b[0m, \u001b[32m'C3-C8'\u001b[0m, \u001b[32m'C9-C4'\u001b[0m, \u001b[32m'\u001b[0m\u001b[32mC5\u001b[0m\u001b[32m=\u001b[0m\u001b[32mC6\u001b[0m\u001b[32m'\u001b[0m, \u001b[32m'C6-XX7'\u001b[0m, \u001b[32m'\u001b[0m\u001b[32mC8\u001b[0m\u001b[32m=\u001b[0m\u001b[32mC9\u001b[0m\u001b[32m'\u001b[0m\u001b[1m]\u001b[0m\n"
      ]
     },
     "metadata": {},
     "output_type": "display_data"
    },
    {
     "data": {
      "text/html": [
       "<pre style=\"white-space:pre;overflow-x:auto;line-height:normal;font-family:Menlo,'DejaVu Sans Mono',consolas,'Courier New',monospace\">********************************************************************************\n",
       "</pre>\n"
      ],
      "text/plain": [
       "********************************************************************************\n"
      ]
     },
     "metadata": {},
     "output_type": "display_data"
    }
   ],
   "source": [
    "# looping through molecules\n",
    "for molecule_src in molecules_src:\n",
    "    # test\n",
    "    molecule_src_checked = check_molecule(molecule_src)\n",
    "    # print(molecule_src_checked)\n",
    "\n",
    "    # build\n",
    "    _, _, res = construct_molecule_v3(molecule_src_checked)\n",
    "    constructor = MoleculeConstructor(molecule_src_checked)\n",
    "    _, _, res2 = constructor.construct()\n",
    "    # source\n",
    "    print(molecule_src)\n",
    "    print(res)\n",
    "    print(res2)\n",
    "    print(\"*\"*80)"
   ]
  }
 ],
 "metadata": {
  "kernelspec": {
   "display_name": "venv (3.11.8)",
   "language": "python",
   "name": "python3"
  },
  "language_info": {
   "codemirror_mode": {
    "name": "ipython",
    "version": 3
   },
   "file_extension": ".py",
   "mimetype": "text/x-python",
   "name": "python",
   "nbconvert_exporter": "python",
   "pygments_lexer": "ipython3",
   "version": "3.11.8"
  }
 },
 "nbformat": 4,
 "nbformat_minor": 2
}
